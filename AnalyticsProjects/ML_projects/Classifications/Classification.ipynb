{
  "cells": [
    {
      "cell_type": "code",
      "execution_count": null,
      "metadata": {
        "id": "8XiqLi4lfv84",
        "colab": {
          "base_uri": "https://localhost:8080/"
        },
        "outputId": "2fdf6252-e8ec-499b-b82f-0c0c2d7653a7"
      },
      "outputs": [
        {
          "output_type": "stream",
          "name": "stdout",
          "text": [
            "Requirement already satisfied: umap-learn in /usr/local/lib/python3.10/dist-packages (0.5.4)\n",
            "Requirement already satisfied: numpy>=1.17 in /usr/local/lib/python3.10/dist-packages (from umap-learn) (1.23.5)\n",
            "Requirement already satisfied: scipy>=1.3.1 in /usr/local/lib/python3.10/dist-packages (from umap-learn) (1.11.3)\n",
            "Requirement already satisfied: scikit-learn>=0.22 in /usr/local/lib/python3.10/dist-packages (from umap-learn) (1.2.2)\n",
            "Requirement already satisfied: numba>=0.51.2 in /usr/local/lib/python3.10/dist-packages (from umap-learn) (0.56.4)\n",
            "Requirement already satisfied: pynndescent>=0.5 in /usr/local/lib/python3.10/dist-packages (from umap-learn) (0.5.10)\n",
            "Requirement already satisfied: tqdm in /usr/local/lib/python3.10/dist-packages (from umap-learn) (4.66.1)\n",
            "Requirement already satisfied: tbb>=2019.0 in /usr/local/lib/python3.10/dist-packages (from umap-learn) (2021.10.0)\n",
            "Requirement already satisfied: llvmlite<0.40,>=0.39.0dev0 in /usr/local/lib/python3.10/dist-packages (from numba>=0.51.2->umap-learn) (0.39.1)\n",
            "Requirement already satisfied: setuptools in /usr/local/lib/python3.10/dist-packages (from numba>=0.51.2->umap-learn) (67.7.2)\n",
            "Requirement already satisfied: joblib>=0.11 in /usr/local/lib/python3.10/dist-packages (from pynndescent>=0.5->umap-learn) (1.3.2)\n",
            "Requirement already satisfied: threadpoolctl>=2.0.0 in /usr/local/lib/python3.10/dist-packages (from scikit-learn>=0.22->umap-learn) (3.2.0)\n"
          ]
        }
      ],
      "source": [
        "!pip install umap-learn"
      ]
    },
    {
      "cell_type": "code",
      "execution_count": null,
      "metadata": {
        "id": "3BA4Ofs3I6a_"
      },
      "outputs": [],
      "source": [
        "import pandas as pd\n",
        "import numpy as np\n",
        "\n",
        "from sklearn.manifold import TSNE\n",
        "import matplotlib.pyplot as plt\n",
        "import seaborn as sns\n",
        "\n",
        "from sklearn.preprocessing import OneHotEncoder, MinMaxScaler, StandardScaler, RobustScaler\n",
        "from sklearn.model_selection import train_test_split, cross_val_score, KFold, GridSearchCV\n",
        "from sklearn.svm import SVC\n",
        "from sklearn.neighbors import KNeighborsClassifier\n",
        "\n",
        "from sklearn.metrics import accuracy_score, confusion_matrix, classification_report\n",
        "from sklearn.metrics import roc_curve, roc_auc_score\n",
        "\n",
        "#for visualisation\n",
        "from sklearn.tree import export_graphviz\n",
        "import graphviz\n",
        "\n",
        "import umap"
      ]
    },
    {
      "cell_type": "code",
      "execution_count": null,
      "metadata": {
        "id": "jny0S7lMJ1pg"
      },
      "outputs": [],
      "source": [
        "pd.set_option('display.max_columns', None)\n",
        "# pd.set_option(\"max_rows\", 300)\n",
        "# return\n",
        "# pd.reset_option(“max_columns”)"
      ]
    },
    {
      "cell_type": "code",
      "execution_count": null,
      "metadata": {
        "id": "txQjQUvTRs1G"
      },
      "outputs": [],
      "source": [
        "column_names = ['surgery?', 'Age', 'Hospital Number', 'rectal temperature', 'pulse', 'respiratory rate',\n",
        "                'temperature of extremities', 'peripheral pulse', 'mucous membranes', 'capillary refill time', 'pain',\n",
        "                'peristalsis', 'abdominal distension', 'nasogastric tube', 'nasogastric reflux',\n",
        "                'nasogastric reflux PH', 'rectal examination - feces', 'abdomen', 'packed cell volume', 'total protein',\n",
        "                'abdominocentesis appearance', 'abdomcentesis total protein', 'outcome', 'surgical lesion?',\n",
        "                'site of lesion', 'type of lesion', 'subtype', 'cp_data']"
      ]
    },
    {
      "cell_type": "code",
      "execution_count": null,
      "metadata": {
        "id": "vEpwy8XkWC0r",
        "colab": {
          "base_uri": "https://localhost:8080/"
        },
        "outputId": "7ca397a4-b0d7-4de1-c201-a56615915297"
      },
      "outputs": [
        {
          "output_type": "execute_result",
          "data": {
            "text/plain": [
              "28"
            ]
          },
          "metadata": {},
          "execution_count": 7
        }
      ],
      "source": [
        "len(column_names)"
      ]
    },
    {
      "cell_type": "markdown",
      "metadata": {
        "id": "OGgk1HCYYXh3"
      },
      "source": [
        "Processing and reading"
      ]
    },
    {
      "cell_type": "code",
      "execution_count": null,
      "metadata": {
        "id": "I3kjidMz5nFO"
      },
      "outputs": [],
      "source": [
        "processed_data = []\n",
        "\n",
        "with open('horse-colic.data', 'r') as file:\n",
        "  for line in file:\n",
        "    row = line.strip().split(' ')\n",
        "    processed_data.append(row)\n",
        "\n",
        "df = pd.DataFrame(processed_data, columns = column_names)"
      ]
    },
    {
      "cell_type": "code",
      "execution_count": null,
      "metadata": {
        "id": "ET_4x9ox5oFu",
        "colab": {
          "base_uri": "https://localhost:8080/",
          "height": 258
        },
        "outputId": "4b9badfa-d3e9-4e15-ef93-ec9da096f305"
      },
      "outputs": [
        {
          "output_type": "execute_result",
          "data": {
            "text/plain": [
              "  surgery? Age Hospital Number rectal temperature pulse respiratory rate  \\\n",
              "0        2   1          530101              38.50    66               28   \n",
              "1        1   1          534817               39.2    88               20   \n",
              "2        2   1          530334              38.30    40               24   \n",
              "3        1   9         5290409              39.10   164               84   \n",
              "4        2   1          530255              37.30   104               35   \n",
              "\n",
              "  temperature of extremities peripheral pulse mucous membranes  \\\n",
              "0                          3                3                ?   \n",
              "1                          ?                ?                4   \n",
              "2                          1                1                3   \n",
              "3                          4                1                6   \n",
              "4                          ?                ?                6   \n",
              "\n",
              "  capillary refill time pain peristalsis abdominal distension  \\\n",
              "0                     2    5           4                    4   \n",
              "1                     1    3           4                    2   \n",
              "2                     1    3           3                    1   \n",
              "3                     2    2           4                    4   \n",
              "4                     2    ?           ?                    ?   \n",
              "\n",
              "  nasogastric tube nasogastric reflux nasogastric reflux PH  \\\n",
              "0                ?                  ?                     ?   \n",
              "1                ?                  ?                     ?   \n",
              "2                ?                  ?                     ?   \n",
              "3                1                  2                  5.00   \n",
              "4                ?                  ?                     ?   \n",
              "\n",
              "  rectal examination - feces abdomen packed cell volume total protein  \\\n",
              "0                          3       5              45.00          8.40   \n",
              "1                          4       2                 50            85   \n",
              "2                          1       1              33.00          6.70   \n",
              "3                          3       ?              48.00          7.20   \n",
              "4                          ?       ?              74.00          7.40   \n",
              "\n",
              "  abdominocentesis appearance abdomcentesis total protein outcome  \\\n",
              "0                           ?                           ?       2   \n",
              "1                           2                           2       3   \n",
              "2                           ?                           ?       1   \n",
              "3                           3                        5.30       2   \n",
              "4                           ?                           ?       2   \n",
              "\n",
              "  surgical lesion? site of lesion type of lesion subtype cp_data  \n",
              "0                2          11300          00000   00000       2  \n",
              "1                2          02208          00000   00000       2  \n",
              "2                2          00000          00000   00000       1  \n",
              "3                1          02208          00000   00000       1  \n",
              "4                2          04300          00000   00000       2  "
            ],
            "text/html": [
              "\n",
              "  <div id=\"df-3a7eaf55-5dba-4841-97dd-24c4266d69d4\" class=\"colab-df-container\">\n",
              "    <div>\n",
              "<style scoped>\n",
              "    .dataframe tbody tr th:only-of-type {\n",
              "        vertical-align: middle;\n",
              "    }\n",
              "\n",
              "    .dataframe tbody tr th {\n",
              "        vertical-align: top;\n",
              "    }\n",
              "\n",
              "    .dataframe thead th {\n",
              "        text-align: right;\n",
              "    }\n",
              "</style>\n",
              "<table border=\"1\" class=\"dataframe\">\n",
              "  <thead>\n",
              "    <tr style=\"text-align: right;\">\n",
              "      <th></th>\n",
              "      <th>surgery?</th>\n",
              "      <th>Age</th>\n",
              "      <th>Hospital Number</th>\n",
              "      <th>rectal temperature</th>\n",
              "      <th>pulse</th>\n",
              "      <th>respiratory rate</th>\n",
              "      <th>temperature of extremities</th>\n",
              "      <th>peripheral pulse</th>\n",
              "      <th>mucous membranes</th>\n",
              "      <th>capillary refill time</th>\n",
              "      <th>pain</th>\n",
              "      <th>peristalsis</th>\n",
              "      <th>abdominal distension</th>\n",
              "      <th>nasogastric tube</th>\n",
              "      <th>nasogastric reflux</th>\n",
              "      <th>nasogastric reflux PH</th>\n",
              "      <th>rectal examination - feces</th>\n",
              "      <th>abdomen</th>\n",
              "      <th>packed cell volume</th>\n",
              "      <th>total protein</th>\n",
              "      <th>abdominocentesis appearance</th>\n",
              "      <th>abdomcentesis total protein</th>\n",
              "      <th>outcome</th>\n",
              "      <th>surgical lesion?</th>\n",
              "      <th>site of lesion</th>\n",
              "      <th>type of lesion</th>\n",
              "      <th>subtype</th>\n",
              "      <th>cp_data</th>\n",
              "    </tr>\n",
              "  </thead>\n",
              "  <tbody>\n",
              "    <tr>\n",
              "      <th>0</th>\n",
              "      <td>2</td>\n",
              "      <td>1</td>\n",
              "      <td>530101</td>\n",
              "      <td>38.50</td>\n",
              "      <td>66</td>\n",
              "      <td>28</td>\n",
              "      <td>3</td>\n",
              "      <td>3</td>\n",
              "      <td>?</td>\n",
              "      <td>2</td>\n",
              "      <td>5</td>\n",
              "      <td>4</td>\n",
              "      <td>4</td>\n",
              "      <td>?</td>\n",
              "      <td>?</td>\n",
              "      <td>?</td>\n",
              "      <td>3</td>\n",
              "      <td>5</td>\n",
              "      <td>45.00</td>\n",
              "      <td>8.40</td>\n",
              "      <td>?</td>\n",
              "      <td>?</td>\n",
              "      <td>2</td>\n",
              "      <td>2</td>\n",
              "      <td>11300</td>\n",
              "      <td>00000</td>\n",
              "      <td>00000</td>\n",
              "      <td>2</td>\n",
              "    </tr>\n",
              "    <tr>\n",
              "      <th>1</th>\n",
              "      <td>1</td>\n",
              "      <td>1</td>\n",
              "      <td>534817</td>\n",
              "      <td>39.2</td>\n",
              "      <td>88</td>\n",
              "      <td>20</td>\n",
              "      <td>?</td>\n",
              "      <td>?</td>\n",
              "      <td>4</td>\n",
              "      <td>1</td>\n",
              "      <td>3</td>\n",
              "      <td>4</td>\n",
              "      <td>2</td>\n",
              "      <td>?</td>\n",
              "      <td>?</td>\n",
              "      <td>?</td>\n",
              "      <td>4</td>\n",
              "      <td>2</td>\n",
              "      <td>50</td>\n",
              "      <td>85</td>\n",
              "      <td>2</td>\n",
              "      <td>2</td>\n",
              "      <td>3</td>\n",
              "      <td>2</td>\n",
              "      <td>02208</td>\n",
              "      <td>00000</td>\n",
              "      <td>00000</td>\n",
              "      <td>2</td>\n",
              "    </tr>\n",
              "    <tr>\n",
              "      <th>2</th>\n",
              "      <td>2</td>\n",
              "      <td>1</td>\n",
              "      <td>530334</td>\n",
              "      <td>38.30</td>\n",
              "      <td>40</td>\n",
              "      <td>24</td>\n",
              "      <td>1</td>\n",
              "      <td>1</td>\n",
              "      <td>3</td>\n",
              "      <td>1</td>\n",
              "      <td>3</td>\n",
              "      <td>3</td>\n",
              "      <td>1</td>\n",
              "      <td>?</td>\n",
              "      <td>?</td>\n",
              "      <td>?</td>\n",
              "      <td>1</td>\n",
              "      <td>1</td>\n",
              "      <td>33.00</td>\n",
              "      <td>6.70</td>\n",
              "      <td>?</td>\n",
              "      <td>?</td>\n",
              "      <td>1</td>\n",
              "      <td>2</td>\n",
              "      <td>00000</td>\n",
              "      <td>00000</td>\n",
              "      <td>00000</td>\n",
              "      <td>1</td>\n",
              "    </tr>\n",
              "    <tr>\n",
              "      <th>3</th>\n",
              "      <td>1</td>\n",
              "      <td>9</td>\n",
              "      <td>5290409</td>\n",
              "      <td>39.10</td>\n",
              "      <td>164</td>\n",
              "      <td>84</td>\n",
              "      <td>4</td>\n",
              "      <td>1</td>\n",
              "      <td>6</td>\n",
              "      <td>2</td>\n",
              "      <td>2</td>\n",
              "      <td>4</td>\n",
              "      <td>4</td>\n",
              "      <td>1</td>\n",
              "      <td>2</td>\n",
              "      <td>5.00</td>\n",
              "      <td>3</td>\n",
              "      <td>?</td>\n",
              "      <td>48.00</td>\n",
              "      <td>7.20</td>\n",
              "      <td>3</td>\n",
              "      <td>5.30</td>\n",
              "      <td>2</td>\n",
              "      <td>1</td>\n",
              "      <td>02208</td>\n",
              "      <td>00000</td>\n",
              "      <td>00000</td>\n",
              "      <td>1</td>\n",
              "    </tr>\n",
              "    <tr>\n",
              "      <th>4</th>\n",
              "      <td>2</td>\n",
              "      <td>1</td>\n",
              "      <td>530255</td>\n",
              "      <td>37.30</td>\n",
              "      <td>104</td>\n",
              "      <td>35</td>\n",
              "      <td>?</td>\n",
              "      <td>?</td>\n",
              "      <td>6</td>\n",
              "      <td>2</td>\n",
              "      <td>?</td>\n",
              "      <td>?</td>\n",
              "      <td>?</td>\n",
              "      <td>?</td>\n",
              "      <td>?</td>\n",
              "      <td>?</td>\n",
              "      <td>?</td>\n",
              "      <td>?</td>\n",
              "      <td>74.00</td>\n",
              "      <td>7.40</td>\n",
              "      <td>?</td>\n",
              "      <td>?</td>\n",
              "      <td>2</td>\n",
              "      <td>2</td>\n",
              "      <td>04300</td>\n",
              "      <td>00000</td>\n",
              "      <td>00000</td>\n",
              "      <td>2</td>\n",
              "    </tr>\n",
              "  </tbody>\n",
              "</table>\n",
              "</div>\n",
              "    <div class=\"colab-df-buttons\">\n",
              "\n",
              "  <div class=\"colab-df-container\">\n",
              "    <button class=\"colab-df-convert\" onclick=\"convertToInteractive('df-3a7eaf55-5dba-4841-97dd-24c4266d69d4')\"\n",
              "            title=\"Convert this dataframe to an interactive table.\"\n",
              "            style=\"display:none;\">\n",
              "\n",
              "  <svg xmlns=\"http://www.w3.org/2000/svg\" height=\"24px\" viewBox=\"0 -960 960 960\">\n",
              "    <path d=\"M120-120v-720h720v720H120Zm60-500h600v-160H180v160Zm220 220h160v-160H400v160Zm0 220h160v-160H400v160ZM180-400h160v-160H180v160Zm440 0h160v-160H620v160ZM180-180h160v-160H180v160Zm440 0h160v-160H620v160Z\"/>\n",
              "  </svg>\n",
              "    </button>\n",
              "\n",
              "  <style>\n",
              "    .colab-df-container {\n",
              "      display:flex;\n",
              "      gap: 12px;\n",
              "    }\n",
              "\n",
              "    .colab-df-convert {\n",
              "      background-color: #E8F0FE;\n",
              "      border: none;\n",
              "      border-radius: 50%;\n",
              "      cursor: pointer;\n",
              "      display: none;\n",
              "      fill: #1967D2;\n",
              "      height: 32px;\n",
              "      padding: 0 0 0 0;\n",
              "      width: 32px;\n",
              "    }\n",
              "\n",
              "    .colab-df-convert:hover {\n",
              "      background-color: #E2EBFA;\n",
              "      box-shadow: 0px 1px 2px rgba(60, 64, 67, 0.3), 0px 1px 3px 1px rgba(60, 64, 67, 0.15);\n",
              "      fill: #174EA6;\n",
              "    }\n",
              "\n",
              "    .colab-df-buttons div {\n",
              "      margin-bottom: 4px;\n",
              "    }\n",
              "\n",
              "    [theme=dark] .colab-df-convert {\n",
              "      background-color: #3B4455;\n",
              "      fill: #D2E3FC;\n",
              "    }\n",
              "\n",
              "    [theme=dark] .colab-df-convert:hover {\n",
              "      background-color: #434B5C;\n",
              "      box-shadow: 0px 1px 3px 1px rgba(0, 0, 0, 0.15);\n",
              "      filter: drop-shadow(0px 1px 2px rgba(0, 0, 0, 0.3));\n",
              "      fill: #FFFFFF;\n",
              "    }\n",
              "  </style>\n",
              "\n",
              "    <script>\n",
              "      const buttonEl =\n",
              "        document.querySelector('#df-3a7eaf55-5dba-4841-97dd-24c4266d69d4 button.colab-df-convert');\n",
              "      buttonEl.style.display =\n",
              "        google.colab.kernel.accessAllowed ? 'block' : 'none';\n",
              "\n",
              "      async function convertToInteractive(key) {\n",
              "        const element = document.querySelector('#df-3a7eaf55-5dba-4841-97dd-24c4266d69d4');\n",
              "        const dataTable =\n",
              "          await google.colab.kernel.invokeFunction('convertToInteractive',\n",
              "                                                    [key], {});\n",
              "        if (!dataTable) return;\n",
              "\n",
              "        const docLinkHtml = 'Like what you see? Visit the ' +\n",
              "          '<a target=\"_blank\" href=https://colab.research.google.com/notebooks/data_table.ipynb>data table notebook</a>'\n",
              "          + ' to learn more about interactive tables.';\n",
              "        element.innerHTML = '';\n",
              "        dataTable['output_type'] = 'display_data';\n",
              "        await google.colab.output.renderOutput(dataTable, element);\n",
              "        const docLink = document.createElement('div');\n",
              "        docLink.innerHTML = docLinkHtml;\n",
              "        element.appendChild(docLink);\n",
              "      }\n",
              "    </script>\n",
              "  </div>\n",
              "\n",
              "\n",
              "<div id=\"df-9a6a9dcc-f77b-4e17-a797-acbbf1ff74ac\">\n",
              "  <button class=\"colab-df-quickchart\" onclick=\"quickchart('df-9a6a9dcc-f77b-4e17-a797-acbbf1ff74ac')\"\n",
              "            title=\"Suggest charts.\"\n",
              "            style=\"display:none;\">\n",
              "\n",
              "<svg xmlns=\"http://www.w3.org/2000/svg\" height=\"24px\"viewBox=\"0 0 24 24\"\n",
              "     width=\"24px\">\n",
              "    <g>\n",
              "        <path d=\"M19 3H5c-1.1 0-2 .9-2 2v14c0 1.1.9 2 2 2h14c1.1 0 2-.9 2-2V5c0-1.1-.9-2-2-2zM9 17H7v-7h2v7zm4 0h-2V7h2v10zm4 0h-2v-4h2v4z\"/>\n",
              "    </g>\n",
              "</svg>\n",
              "  </button>\n",
              "\n",
              "<style>\n",
              "  .colab-df-quickchart {\n",
              "      --bg-color: #E8F0FE;\n",
              "      --fill-color: #1967D2;\n",
              "      --hover-bg-color: #E2EBFA;\n",
              "      --hover-fill-color: #174EA6;\n",
              "      --disabled-fill-color: #AAA;\n",
              "      --disabled-bg-color: #DDD;\n",
              "  }\n",
              "\n",
              "  [theme=dark] .colab-df-quickchart {\n",
              "      --bg-color: #3B4455;\n",
              "      --fill-color: #D2E3FC;\n",
              "      --hover-bg-color: #434B5C;\n",
              "      --hover-fill-color: #FFFFFF;\n",
              "      --disabled-bg-color: #3B4455;\n",
              "      --disabled-fill-color: #666;\n",
              "  }\n",
              "\n",
              "  .colab-df-quickchart {\n",
              "    background-color: var(--bg-color);\n",
              "    border: none;\n",
              "    border-radius: 50%;\n",
              "    cursor: pointer;\n",
              "    display: none;\n",
              "    fill: var(--fill-color);\n",
              "    height: 32px;\n",
              "    padding: 0;\n",
              "    width: 32px;\n",
              "  }\n",
              "\n",
              "  .colab-df-quickchart:hover {\n",
              "    background-color: var(--hover-bg-color);\n",
              "    box-shadow: 0 1px 2px rgba(60, 64, 67, 0.3), 0 1px 3px 1px rgba(60, 64, 67, 0.15);\n",
              "    fill: var(--button-hover-fill-color);\n",
              "  }\n",
              "\n",
              "  .colab-df-quickchart-complete:disabled,\n",
              "  .colab-df-quickchart-complete:disabled:hover {\n",
              "    background-color: var(--disabled-bg-color);\n",
              "    fill: var(--disabled-fill-color);\n",
              "    box-shadow: none;\n",
              "  }\n",
              "\n",
              "  .colab-df-spinner {\n",
              "    border: 2px solid var(--fill-color);\n",
              "    border-color: transparent;\n",
              "    border-bottom-color: var(--fill-color);\n",
              "    animation:\n",
              "      spin 1s steps(1) infinite;\n",
              "  }\n",
              "\n",
              "  @keyframes spin {\n",
              "    0% {\n",
              "      border-color: transparent;\n",
              "      border-bottom-color: var(--fill-color);\n",
              "      border-left-color: var(--fill-color);\n",
              "    }\n",
              "    20% {\n",
              "      border-color: transparent;\n",
              "      border-left-color: var(--fill-color);\n",
              "      border-top-color: var(--fill-color);\n",
              "    }\n",
              "    30% {\n",
              "      border-color: transparent;\n",
              "      border-left-color: var(--fill-color);\n",
              "      border-top-color: var(--fill-color);\n",
              "      border-right-color: var(--fill-color);\n",
              "    }\n",
              "    40% {\n",
              "      border-color: transparent;\n",
              "      border-right-color: var(--fill-color);\n",
              "      border-top-color: var(--fill-color);\n",
              "    }\n",
              "    60% {\n",
              "      border-color: transparent;\n",
              "      border-right-color: var(--fill-color);\n",
              "    }\n",
              "    80% {\n",
              "      border-color: transparent;\n",
              "      border-right-color: var(--fill-color);\n",
              "      border-bottom-color: var(--fill-color);\n",
              "    }\n",
              "    90% {\n",
              "      border-color: transparent;\n",
              "      border-bottom-color: var(--fill-color);\n",
              "    }\n",
              "  }\n",
              "</style>\n",
              "\n",
              "  <script>\n",
              "    async function quickchart(key) {\n",
              "      const quickchartButtonEl =\n",
              "        document.querySelector('#' + key + ' button');\n",
              "      quickchartButtonEl.disabled = true;  // To prevent multiple clicks.\n",
              "      quickchartButtonEl.classList.add('colab-df-spinner');\n",
              "      try {\n",
              "        const charts = await google.colab.kernel.invokeFunction(\n",
              "            'suggestCharts', [key], {});\n",
              "      } catch (error) {\n",
              "        console.error('Error during call to suggestCharts:', error);\n",
              "      }\n",
              "      quickchartButtonEl.classList.remove('colab-df-spinner');\n",
              "      quickchartButtonEl.classList.add('colab-df-quickchart-complete');\n",
              "    }\n",
              "    (() => {\n",
              "      let quickchartButtonEl =\n",
              "        document.querySelector('#df-9a6a9dcc-f77b-4e17-a797-acbbf1ff74ac button');\n",
              "      quickchartButtonEl.style.display =\n",
              "        google.colab.kernel.accessAllowed ? 'block' : 'none';\n",
              "    })();\n",
              "  </script>\n",
              "</div>\n",
              "    </div>\n",
              "  </div>\n"
            ]
          },
          "metadata": {},
          "execution_count": 9
        }
      ],
      "source": [
        "df.head()"
      ]
    },
    {
      "cell_type": "markdown",
      "metadata": {
        "id": "AcZcGOZpb3l7"
      },
      "source": [
        "delete useless columns"
      ]
    },
    {
      "cell_type": "code",
      "execution_count": null,
      "metadata": {
        "id": "j1LBfWUxVP1x"
      },
      "outputs": [],
      "source": [
        "df.drop(columns = ['Hospital Number', 'subtype', 'type of lesion'], inplace = True)"
      ]
    },
    {
      "cell_type": "code",
      "execution_count": null,
      "metadata": {
        "id": "kPgaEYrubqqV",
        "colab": {
          "base_uri": "https://localhost:8080/",
          "height": 258
        },
        "outputId": "45c9ca33-da52-4128-93f4-ea0f0e024e60"
      },
      "outputs": [
        {
          "output_type": "execute_result",
          "data": {
            "text/plain": [
              "  surgery? Age rectal temperature pulse respiratory rate  \\\n",
              "0        2   1              38.50    66               28   \n",
              "1        1   1               39.2    88               20   \n",
              "2        2   1              38.30    40               24   \n",
              "3        1   9              39.10   164               84   \n",
              "4        2   1              37.30   104               35   \n",
              "\n",
              "  temperature of extremities peripheral pulse mucous membranes  \\\n",
              "0                          3                3                ?   \n",
              "1                          ?                ?                4   \n",
              "2                          1                1                3   \n",
              "3                          4                1                6   \n",
              "4                          ?                ?                6   \n",
              "\n",
              "  capillary refill time pain peristalsis abdominal distension  \\\n",
              "0                     2    5           4                    4   \n",
              "1                     1    3           4                    2   \n",
              "2                     1    3           3                    1   \n",
              "3                     2    2           4                    4   \n",
              "4                     2    ?           ?                    ?   \n",
              "\n",
              "  nasogastric tube nasogastric reflux nasogastric reflux PH  \\\n",
              "0                ?                  ?                     ?   \n",
              "1                ?                  ?                     ?   \n",
              "2                ?                  ?                     ?   \n",
              "3                1                  2                  5.00   \n",
              "4                ?                  ?                     ?   \n",
              "\n",
              "  rectal examination - feces abdomen packed cell volume total protein  \\\n",
              "0                          3       5              45.00          8.40   \n",
              "1                          4       2                 50            85   \n",
              "2                          1       1              33.00          6.70   \n",
              "3                          3       ?              48.00          7.20   \n",
              "4                          ?       ?              74.00          7.40   \n",
              "\n",
              "  abdominocentesis appearance abdomcentesis total protein outcome  \\\n",
              "0                           ?                           ?       2   \n",
              "1                           2                           2       3   \n",
              "2                           ?                           ?       1   \n",
              "3                           3                        5.30       2   \n",
              "4                           ?                           ?       2   \n",
              "\n",
              "  surgical lesion? site of lesion cp_data  \n",
              "0                2          11300       2  \n",
              "1                2          02208       2  \n",
              "2                2          00000       1  \n",
              "3                1          02208       1  \n",
              "4                2          04300       2  "
            ],
            "text/html": [
              "\n",
              "  <div id=\"df-db13ded6-3e85-463e-ba25-025a0ef026e6\" class=\"colab-df-container\">\n",
              "    <div>\n",
              "<style scoped>\n",
              "    .dataframe tbody tr th:only-of-type {\n",
              "        vertical-align: middle;\n",
              "    }\n",
              "\n",
              "    .dataframe tbody tr th {\n",
              "        vertical-align: top;\n",
              "    }\n",
              "\n",
              "    .dataframe thead th {\n",
              "        text-align: right;\n",
              "    }\n",
              "</style>\n",
              "<table border=\"1\" class=\"dataframe\">\n",
              "  <thead>\n",
              "    <tr style=\"text-align: right;\">\n",
              "      <th></th>\n",
              "      <th>surgery?</th>\n",
              "      <th>Age</th>\n",
              "      <th>rectal temperature</th>\n",
              "      <th>pulse</th>\n",
              "      <th>respiratory rate</th>\n",
              "      <th>temperature of extremities</th>\n",
              "      <th>peripheral pulse</th>\n",
              "      <th>mucous membranes</th>\n",
              "      <th>capillary refill time</th>\n",
              "      <th>pain</th>\n",
              "      <th>peristalsis</th>\n",
              "      <th>abdominal distension</th>\n",
              "      <th>nasogastric tube</th>\n",
              "      <th>nasogastric reflux</th>\n",
              "      <th>nasogastric reflux PH</th>\n",
              "      <th>rectal examination - feces</th>\n",
              "      <th>abdomen</th>\n",
              "      <th>packed cell volume</th>\n",
              "      <th>total protein</th>\n",
              "      <th>abdominocentesis appearance</th>\n",
              "      <th>abdomcentesis total protein</th>\n",
              "      <th>outcome</th>\n",
              "      <th>surgical lesion?</th>\n",
              "      <th>site of lesion</th>\n",
              "      <th>cp_data</th>\n",
              "    </tr>\n",
              "  </thead>\n",
              "  <tbody>\n",
              "    <tr>\n",
              "      <th>0</th>\n",
              "      <td>2</td>\n",
              "      <td>1</td>\n",
              "      <td>38.50</td>\n",
              "      <td>66</td>\n",
              "      <td>28</td>\n",
              "      <td>3</td>\n",
              "      <td>3</td>\n",
              "      <td>?</td>\n",
              "      <td>2</td>\n",
              "      <td>5</td>\n",
              "      <td>4</td>\n",
              "      <td>4</td>\n",
              "      <td>?</td>\n",
              "      <td>?</td>\n",
              "      <td>?</td>\n",
              "      <td>3</td>\n",
              "      <td>5</td>\n",
              "      <td>45.00</td>\n",
              "      <td>8.40</td>\n",
              "      <td>?</td>\n",
              "      <td>?</td>\n",
              "      <td>2</td>\n",
              "      <td>2</td>\n",
              "      <td>11300</td>\n",
              "      <td>2</td>\n",
              "    </tr>\n",
              "    <tr>\n",
              "      <th>1</th>\n",
              "      <td>1</td>\n",
              "      <td>1</td>\n",
              "      <td>39.2</td>\n",
              "      <td>88</td>\n",
              "      <td>20</td>\n",
              "      <td>?</td>\n",
              "      <td>?</td>\n",
              "      <td>4</td>\n",
              "      <td>1</td>\n",
              "      <td>3</td>\n",
              "      <td>4</td>\n",
              "      <td>2</td>\n",
              "      <td>?</td>\n",
              "      <td>?</td>\n",
              "      <td>?</td>\n",
              "      <td>4</td>\n",
              "      <td>2</td>\n",
              "      <td>50</td>\n",
              "      <td>85</td>\n",
              "      <td>2</td>\n",
              "      <td>2</td>\n",
              "      <td>3</td>\n",
              "      <td>2</td>\n",
              "      <td>02208</td>\n",
              "      <td>2</td>\n",
              "    </tr>\n",
              "    <tr>\n",
              "      <th>2</th>\n",
              "      <td>2</td>\n",
              "      <td>1</td>\n",
              "      <td>38.30</td>\n",
              "      <td>40</td>\n",
              "      <td>24</td>\n",
              "      <td>1</td>\n",
              "      <td>1</td>\n",
              "      <td>3</td>\n",
              "      <td>1</td>\n",
              "      <td>3</td>\n",
              "      <td>3</td>\n",
              "      <td>1</td>\n",
              "      <td>?</td>\n",
              "      <td>?</td>\n",
              "      <td>?</td>\n",
              "      <td>1</td>\n",
              "      <td>1</td>\n",
              "      <td>33.00</td>\n",
              "      <td>6.70</td>\n",
              "      <td>?</td>\n",
              "      <td>?</td>\n",
              "      <td>1</td>\n",
              "      <td>2</td>\n",
              "      <td>00000</td>\n",
              "      <td>1</td>\n",
              "    </tr>\n",
              "    <tr>\n",
              "      <th>3</th>\n",
              "      <td>1</td>\n",
              "      <td>9</td>\n",
              "      <td>39.10</td>\n",
              "      <td>164</td>\n",
              "      <td>84</td>\n",
              "      <td>4</td>\n",
              "      <td>1</td>\n",
              "      <td>6</td>\n",
              "      <td>2</td>\n",
              "      <td>2</td>\n",
              "      <td>4</td>\n",
              "      <td>4</td>\n",
              "      <td>1</td>\n",
              "      <td>2</td>\n",
              "      <td>5.00</td>\n",
              "      <td>3</td>\n",
              "      <td>?</td>\n",
              "      <td>48.00</td>\n",
              "      <td>7.20</td>\n",
              "      <td>3</td>\n",
              "      <td>5.30</td>\n",
              "      <td>2</td>\n",
              "      <td>1</td>\n",
              "      <td>02208</td>\n",
              "      <td>1</td>\n",
              "    </tr>\n",
              "    <tr>\n",
              "      <th>4</th>\n",
              "      <td>2</td>\n",
              "      <td>1</td>\n",
              "      <td>37.30</td>\n",
              "      <td>104</td>\n",
              "      <td>35</td>\n",
              "      <td>?</td>\n",
              "      <td>?</td>\n",
              "      <td>6</td>\n",
              "      <td>2</td>\n",
              "      <td>?</td>\n",
              "      <td>?</td>\n",
              "      <td>?</td>\n",
              "      <td>?</td>\n",
              "      <td>?</td>\n",
              "      <td>?</td>\n",
              "      <td>?</td>\n",
              "      <td>?</td>\n",
              "      <td>74.00</td>\n",
              "      <td>7.40</td>\n",
              "      <td>?</td>\n",
              "      <td>?</td>\n",
              "      <td>2</td>\n",
              "      <td>2</td>\n",
              "      <td>04300</td>\n",
              "      <td>2</td>\n",
              "    </tr>\n",
              "  </tbody>\n",
              "</table>\n",
              "</div>\n",
              "    <div class=\"colab-df-buttons\">\n",
              "\n",
              "  <div class=\"colab-df-container\">\n",
              "    <button class=\"colab-df-convert\" onclick=\"convertToInteractive('df-db13ded6-3e85-463e-ba25-025a0ef026e6')\"\n",
              "            title=\"Convert this dataframe to an interactive table.\"\n",
              "            style=\"display:none;\">\n",
              "\n",
              "  <svg xmlns=\"http://www.w3.org/2000/svg\" height=\"24px\" viewBox=\"0 -960 960 960\">\n",
              "    <path d=\"M120-120v-720h720v720H120Zm60-500h600v-160H180v160Zm220 220h160v-160H400v160Zm0 220h160v-160H400v160ZM180-400h160v-160H180v160Zm440 0h160v-160H620v160ZM180-180h160v-160H180v160Zm440 0h160v-160H620v160Z\"/>\n",
              "  </svg>\n",
              "    </button>\n",
              "\n",
              "  <style>\n",
              "    .colab-df-container {\n",
              "      display:flex;\n",
              "      gap: 12px;\n",
              "    }\n",
              "\n",
              "    .colab-df-convert {\n",
              "      background-color: #E8F0FE;\n",
              "      border: none;\n",
              "      border-radius: 50%;\n",
              "      cursor: pointer;\n",
              "      display: none;\n",
              "      fill: #1967D2;\n",
              "      height: 32px;\n",
              "      padding: 0 0 0 0;\n",
              "      width: 32px;\n",
              "    }\n",
              "\n",
              "    .colab-df-convert:hover {\n",
              "      background-color: #E2EBFA;\n",
              "      box-shadow: 0px 1px 2px rgba(60, 64, 67, 0.3), 0px 1px 3px 1px rgba(60, 64, 67, 0.15);\n",
              "      fill: #174EA6;\n",
              "    }\n",
              "\n",
              "    .colab-df-buttons div {\n",
              "      margin-bottom: 4px;\n",
              "    }\n",
              "\n",
              "    [theme=dark] .colab-df-convert {\n",
              "      background-color: #3B4455;\n",
              "      fill: #D2E3FC;\n",
              "    }\n",
              "\n",
              "    [theme=dark] .colab-df-convert:hover {\n",
              "      background-color: #434B5C;\n",
              "      box-shadow: 0px 1px 3px 1px rgba(0, 0, 0, 0.15);\n",
              "      filter: drop-shadow(0px 1px 2px rgba(0, 0, 0, 0.3));\n",
              "      fill: #FFFFFF;\n",
              "    }\n",
              "  </style>\n",
              "\n",
              "    <script>\n",
              "      const buttonEl =\n",
              "        document.querySelector('#df-db13ded6-3e85-463e-ba25-025a0ef026e6 button.colab-df-convert');\n",
              "      buttonEl.style.display =\n",
              "        google.colab.kernel.accessAllowed ? 'block' : 'none';\n",
              "\n",
              "      async function convertToInteractive(key) {\n",
              "        const element = document.querySelector('#df-db13ded6-3e85-463e-ba25-025a0ef026e6');\n",
              "        const dataTable =\n",
              "          await google.colab.kernel.invokeFunction('convertToInteractive',\n",
              "                                                    [key], {});\n",
              "        if (!dataTable) return;\n",
              "\n",
              "        const docLinkHtml = 'Like what you see? Visit the ' +\n",
              "          '<a target=\"_blank\" href=https://colab.research.google.com/notebooks/data_table.ipynb>data table notebook</a>'\n",
              "          + ' to learn more about interactive tables.';\n",
              "        element.innerHTML = '';\n",
              "        dataTable['output_type'] = 'display_data';\n",
              "        await google.colab.output.renderOutput(dataTable, element);\n",
              "        const docLink = document.createElement('div');\n",
              "        docLink.innerHTML = docLinkHtml;\n",
              "        element.appendChild(docLink);\n",
              "      }\n",
              "    </script>\n",
              "  </div>\n",
              "\n",
              "\n",
              "<div id=\"df-6e047861-d418-413f-ade6-4b5597d14b5d\">\n",
              "  <button class=\"colab-df-quickchart\" onclick=\"quickchart('df-6e047861-d418-413f-ade6-4b5597d14b5d')\"\n",
              "            title=\"Suggest charts.\"\n",
              "            style=\"display:none;\">\n",
              "\n",
              "<svg xmlns=\"http://www.w3.org/2000/svg\" height=\"24px\"viewBox=\"0 0 24 24\"\n",
              "     width=\"24px\">\n",
              "    <g>\n",
              "        <path d=\"M19 3H5c-1.1 0-2 .9-2 2v14c0 1.1.9 2 2 2h14c1.1 0 2-.9 2-2V5c0-1.1-.9-2-2-2zM9 17H7v-7h2v7zm4 0h-2V7h2v10zm4 0h-2v-4h2v4z\"/>\n",
              "    </g>\n",
              "</svg>\n",
              "  </button>\n",
              "\n",
              "<style>\n",
              "  .colab-df-quickchart {\n",
              "      --bg-color: #E8F0FE;\n",
              "      --fill-color: #1967D2;\n",
              "      --hover-bg-color: #E2EBFA;\n",
              "      --hover-fill-color: #174EA6;\n",
              "      --disabled-fill-color: #AAA;\n",
              "      --disabled-bg-color: #DDD;\n",
              "  }\n",
              "\n",
              "  [theme=dark] .colab-df-quickchart {\n",
              "      --bg-color: #3B4455;\n",
              "      --fill-color: #D2E3FC;\n",
              "      --hover-bg-color: #434B5C;\n",
              "      --hover-fill-color: #FFFFFF;\n",
              "      --disabled-bg-color: #3B4455;\n",
              "      --disabled-fill-color: #666;\n",
              "  }\n",
              "\n",
              "  .colab-df-quickchart {\n",
              "    background-color: var(--bg-color);\n",
              "    border: none;\n",
              "    border-radius: 50%;\n",
              "    cursor: pointer;\n",
              "    display: none;\n",
              "    fill: var(--fill-color);\n",
              "    height: 32px;\n",
              "    padding: 0;\n",
              "    width: 32px;\n",
              "  }\n",
              "\n",
              "  .colab-df-quickchart:hover {\n",
              "    background-color: var(--hover-bg-color);\n",
              "    box-shadow: 0 1px 2px rgba(60, 64, 67, 0.3), 0 1px 3px 1px rgba(60, 64, 67, 0.15);\n",
              "    fill: var(--button-hover-fill-color);\n",
              "  }\n",
              "\n",
              "  .colab-df-quickchart-complete:disabled,\n",
              "  .colab-df-quickchart-complete:disabled:hover {\n",
              "    background-color: var(--disabled-bg-color);\n",
              "    fill: var(--disabled-fill-color);\n",
              "    box-shadow: none;\n",
              "  }\n",
              "\n",
              "  .colab-df-spinner {\n",
              "    border: 2px solid var(--fill-color);\n",
              "    border-color: transparent;\n",
              "    border-bottom-color: var(--fill-color);\n",
              "    animation:\n",
              "      spin 1s steps(1) infinite;\n",
              "  }\n",
              "\n",
              "  @keyframes spin {\n",
              "    0% {\n",
              "      border-color: transparent;\n",
              "      border-bottom-color: var(--fill-color);\n",
              "      border-left-color: var(--fill-color);\n",
              "    }\n",
              "    20% {\n",
              "      border-color: transparent;\n",
              "      border-left-color: var(--fill-color);\n",
              "      border-top-color: var(--fill-color);\n",
              "    }\n",
              "    30% {\n",
              "      border-color: transparent;\n",
              "      border-left-color: var(--fill-color);\n",
              "      border-top-color: var(--fill-color);\n",
              "      border-right-color: var(--fill-color);\n",
              "    }\n",
              "    40% {\n",
              "      border-color: transparent;\n",
              "      border-right-color: var(--fill-color);\n",
              "      border-top-color: var(--fill-color);\n",
              "    }\n",
              "    60% {\n",
              "      border-color: transparent;\n",
              "      border-right-color: var(--fill-color);\n",
              "    }\n",
              "    80% {\n",
              "      border-color: transparent;\n",
              "      border-right-color: var(--fill-color);\n",
              "      border-bottom-color: var(--fill-color);\n",
              "    }\n",
              "    90% {\n",
              "      border-color: transparent;\n",
              "      border-bottom-color: var(--fill-color);\n",
              "    }\n",
              "  }\n",
              "</style>\n",
              "\n",
              "  <script>\n",
              "    async function quickchart(key) {\n",
              "      const quickchartButtonEl =\n",
              "        document.querySelector('#' + key + ' button');\n",
              "      quickchartButtonEl.disabled = true;  // To prevent multiple clicks.\n",
              "      quickchartButtonEl.classList.add('colab-df-spinner');\n",
              "      try {\n",
              "        const charts = await google.colab.kernel.invokeFunction(\n",
              "            'suggestCharts', [key], {});\n",
              "      } catch (error) {\n",
              "        console.error('Error during call to suggestCharts:', error);\n",
              "      }\n",
              "      quickchartButtonEl.classList.remove('colab-df-spinner');\n",
              "      quickchartButtonEl.classList.add('colab-df-quickchart-complete');\n",
              "    }\n",
              "    (() => {\n",
              "      let quickchartButtonEl =\n",
              "        document.querySelector('#df-6e047861-d418-413f-ade6-4b5597d14b5d button');\n",
              "      quickchartButtonEl.style.display =\n",
              "        google.colab.kernel.accessAllowed ? 'block' : 'none';\n",
              "    })();\n",
              "  </script>\n",
              "</div>\n",
              "    </div>\n",
              "  </div>\n"
            ]
          },
          "metadata": {},
          "execution_count": 11
        }
      ],
      "source": [
        "df.head()"
      ]
    },
    {
      "cell_type": "markdown",
      "metadata": {
        "id": "K-XhoM1fb8K8"
      },
      "source": [
        "Work with '?' in numerical values. Changing all '?' in numeric columns on mean of column\n",
        "\n"
      ]
    },
    {
      "cell_type": "code",
      "execution_count": null,
      "metadata": {
        "colab": {
          "base_uri": "https://localhost:8080/"
        },
        "id": "_MEAbPCkb6sm",
        "outputId": "c17c2d0e-0b89-4c33-860b-54deffb6cff6"
      },
      "outputs": [
        {
          "output_type": "stream",
          "name": "stderr",
          "text": [
            "<ipython-input-12-c514a6c21bf6>:10: SettingWithCopyWarning: \n",
            "A value is trying to be set on a copy of a slice from a DataFrame\n",
            "\n",
            "See the caveats in the documentation: https://pandas.pydata.org/pandas-docs/stable/user_guide/indexing.html#returning-a-view-versus-a-copy\n",
            "  df_num[col][i] = mean_col\n"
          ]
        }
      ],
      "source": [
        "df_num = df[['rectal temperature', 'pulse', 'respiratory rate', 'nasogastric reflux PH', 'packed cell volume',\n",
        "             'total protein', 'abdomcentesis total protein']]\n",
        "\n",
        "count = 0\n",
        "for col in df_num:\n",
        "  clear_column =  df_num[df_num[col] != '?'][col]\n",
        "  mean_col = clear_column.astype(float).mean()\n",
        "  for i in range(0, len(df_num[col])):\n",
        "    if df_num[col][i] == '?':\n",
        "      df_num[col][i] = mean_col"
      ]
    },
    {
      "cell_type": "markdown",
      "metadata": {
        "id": "3yGWfMPAcD9l"
      },
      "source": [
        "One hot encoder to categorical values (column with ? we can just drop)"
      ]
    },
    {
      "cell_type": "code",
      "execution_count": null,
      "metadata": {
        "id": "JPG59PGQVCaC"
      },
      "outputs": [],
      "source": [
        "df_cat = df[[item for item in df.columns if item not in ['rectal temperature', 'pulse', 'respiratory rate', 'nasogastric reflux PH', 'packed cell volume', 'total protein', 'abdomcentesis total protein']]]\n"
      ]
    },
    {
      "cell_type": "code",
      "execution_count": null,
      "metadata": {
        "id": "EVu7wiv0Q7bU",
        "colab": {
          "base_uri": "https://localhost:8080/"
        },
        "outputId": "43b3afbc-4320-4066-e5e2-57d851aef703"
      },
      "outputs": [
        {
          "output_type": "execute_result",
          "data": {
            "text/plain": [
              "Index(['surgery?', 'Age', 'temperature of extremities', 'peripheral pulse',\n",
              "       'mucous membranes', 'capillary refill time', 'pain', 'peristalsis',\n",
              "       'abdominal distension', 'nasogastric tube', 'nasogastric reflux',\n",
              "       'rectal examination - feces', 'abdomen', 'abdominocentesis appearance',\n",
              "       'outcome', 'surgical lesion?', 'site of lesion', 'cp_data'],\n",
              "      dtype='object')"
            ]
          },
          "metadata": {},
          "execution_count": 14
        }
      ],
      "source": [
        "df_cat.columns"
      ]
    },
    {
      "cell_type": "markdown",
      "metadata": {
        "id": "ViNzYOjIWMcy"
      },
      "source": [
        "Divide binar and categorical values for one hot encoder"
      ]
    },
    {
      "cell_type": "code",
      "execution_count": null,
      "metadata": {
        "id": "e2E0sSvuTWNL"
      },
      "outputs": [],
      "source": [
        "df_binar = df_cat[['Age', 'cp_data', 'surgical lesion?']]\n",
        "\n",
        "df_cat = df_cat[[item for item in df_cat.columns if item not in df_binar.columns]]"
      ]
    },
    {
      "cell_type": "code",
      "execution_count": null,
      "metadata": {
        "id": "ze4HQiDXVTzl",
        "colab": {
          "base_uri": "https://localhost:8080/",
          "height": 258
        },
        "outputId": "b24df037-23c6-4c4c-cc5b-d49081b1a85e"
      },
      "outputs": [
        {
          "output_type": "execute_result",
          "data": {
            "text/plain": [
              "  surgery? temperature of extremities peripheral pulse mucous membranes  \\\n",
              "0        2                          3                3                ?   \n",
              "1        1                          ?                ?                4   \n",
              "2        2                          1                1                3   \n",
              "3        1                          4                1                6   \n",
              "4        2                          ?                ?                6   \n",
              "\n",
              "  capillary refill time pain peristalsis abdominal distension  \\\n",
              "0                     2    5           4                    4   \n",
              "1                     1    3           4                    2   \n",
              "2                     1    3           3                    1   \n",
              "3                     2    2           4                    4   \n",
              "4                     2    ?           ?                    ?   \n",
              "\n",
              "  nasogastric tube nasogastric reflux rectal examination - feces abdomen  \\\n",
              "0                ?                  ?                          3       5   \n",
              "1                ?                  ?                          4       2   \n",
              "2                ?                  ?                          1       1   \n",
              "3                1                  2                          3       ?   \n",
              "4                ?                  ?                          ?       ?   \n",
              "\n",
              "  abdominocentesis appearance outcome site of lesion  \n",
              "0                           ?       2          11300  \n",
              "1                           2       3          02208  \n",
              "2                           ?       1          00000  \n",
              "3                           3       2          02208  \n",
              "4                           ?       2          04300  "
            ],
            "text/html": [
              "\n",
              "  <div id=\"df-203ebee1-777a-43b4-be3b-623561ec94be\" class=\"colab-df-container\">\n",
              "    <div>\n",
              "<style scoped>\n",
              "    .dataframe tbody tr th:only-of-type {\n",
              "        vertical-align: middle;\n",
              "    }\n",
              "\n",
              "    .dataframe tbody tr th {\n",
              "        vertical-align: top;\n",
              "    }\n",
              "\n",
              "    .dataframe thead th {\n",
              "        text-align: right;\n",
              "    }\n",
              "</style>\n",
              "<table border=\"1\" class=\"dataframe\">\n",
              "  <thead>\n",
              "    <tr style=\"text-align: right;\">\n",
              "      <th></th>\n",
              "      <th>surgery?</th>\n",
              "      <th>temperature of extremities</th>\n",
              "      <th>peripheral pulse</th>\n",
              "      <th>mucous membranes</th>\n",
              "      <th>capillary refill time</th>\n",
              "      <th>pain</th>\n",
              "      <th>peristalsis</th>\n",
              "      <th>abdominal distension</th>\n",
              "      <th>nasogastric tube</th>\n",
              "      <th>nasogastric reflux</th>\n",
              "      <th>rectal examination - feces</th>\n",
              "      <th>abdomen</th>\n",
              "      <th>abdominocentesis appearance</th>\n",
              "      <th>outcome</th>\n",
              "      <th>site of lesion</th>\n",
              "    </tr>\n",
              "  </thead>\n",
              "  <tbody>\n",
              "    <tr>\n",
              "      <th>0</th>\n",
              "      <td>2</td>\n",
              "      <td>3</td>\n",
              "      <td>3</td>\n",
              "      <td>?</td>\n",
              "      <td>2</td>\n",
              "      <td>5</td>\n",
              "      <td>4</td>\n",
              "      <td>4</td>\n",
              "      <td>?</td>\n",
              "      <td>?</td>\n",
              "      <td>3</td>\n",
              "      <td>5</td>\n",
              "      <td>?</td>\n",
              "      <td>2</td>\n",
              "      <td>11300</td>\n",
              "    </tr>\n",
              "    <tr>\n",
              "      <th>1</th>\n",
              "      <td>1</td>\n",
              "      <td>?</td>\n",
              "      <td>?</td>\n",
              "      <td>4</td>\n",
              "      <td>1</td>\n",
              "      <td>3</td>\n",
              "      <td>4</td>\n",
              "      <td>2</td>\n",
              "      <td>?</td>\n",
              "      <td>?</td>\n",
              "      <td>4</td>\n",
              "      <td>2</td>\n",
              "      <td>2</td>\n",
              "      <td>3</td>\n",
              "      <td>02208</td>\n",
              "    </tr>\n",
              "    <tr>\n",
              "      <th>2</th>\n",
              "      <td>2</td>\n",
              "      <td>1</td>\n",
              "      <td>1</td>\n",
              "      <td>3</td>\n",
              "      <td>1</td>\n",
              "      <td>3</td>\n",
              "      <td>3</td>\n",
              "      <td>1</td>\n",
              "      <td>?</td>\n",
              "      <td>?</td>\n",
              "      <td>1</td>\n",
              "      <td>1</td>\n",
              "      <td>?</td>\n",
              "      <td>1</td>\n",
              "      <td>00000</td>\n",
              "    </tr>\n",
              "    <tr>\n",
              "      <th>3</th>\n",
              "      <td>1</td>\n",
              "      <td>4</td>\n",
              "      <td>1</td>\n",
              "      <td>6</td>\n",
              "      <td>2</td>\n",
              "      <td>2</td>\n",
              "      <td>4</td>\n",
              "      <td>4</td>\n",
              "      <td>1</td>\n",
              "      <td>2</td>\n",
              "      <td>3</td>\n",
              "      <td>?</td>\n",
              "      <td>3</td>\n",
              "      <td>2</td>\n",
              "      <td>02208</td>\n",
              "    </tr>\n",
              "    <tr>\n",
              "      <th>4</th>\n",
              "      <td>2</td>\n",
              "      <td>?</td>\n",
              "      <td>?</td>\n",
              "      <td>6</td>\n",
              "      <td>2</td>\n",
              "      <td>?</td>\n",
              "      <td>?</td>\n",
              "      <td>?</td>\n",
              "      <td>?</td>\n",
              "      <td>?</td>\n",
              "      <td>?</td>\n",
              "      <td>?</td>\n",
              "      <td>?</td>\n",
              "      <td>2</td>\n",
              "      <td>04300</td>\n",
              "    </tr>\n",
              "  </tbody>\n",
              "</table>\n",
              "</div>\n",
              "    <div class=\"colab-df-buttons\">\n",
              "\n",
              "  <div class=\"colab-df-container\">\n",
              "    <button class=\"colab-df-convert\" onclick=\"convertToInteractive('df-203ebee1-777a-43b4-be3b-623561ec94be')\"\n",
              "            title=\"Convert this dataframe to an interactive table.\"\n",
              "            style=\"display:none;\">\n",
              "\n",
              "  <svg xmlns=\"http://www.w3.org/2000/svg\" height=\"24px\" viewBox=\"0 -960 960 960\">\n",
              "    <path d=\"M120-120v-720h720v720H120Zm60-500h600v-160H180v160Zm220 220h160v-160H400v160Zm0 220h160v-160H400v160ZM180-400h160v-160H180v160Zm440 0h160v-160H620v160ZM180-180h160v-160H180v160Zm440 0h160v-160H620v160Z\"/>\n",
              "  </svg>\n",
              "    </button>\n",
              "\n",
              "  <style>\n",
              "    .colab-df-container {\n",
              "      display:flex;\n",
              "      gap: 12px;\n",
              "    }\n",
              "\n",
              "    .colab-df-convert {\n",
              "      background-color: #E8F0FE;\n",
              "      border: none;\n",
              "      border-radius: 50%;\n",
              "      cursor: pointer;\n",
              "      display: none;\n",
              "      fill: #1967D2;\n",
              "      height: 32px;\n",
              "      padding: 0 0 0 0;\n",
              "      width: 32px;\n",
              "    }\n",
              "\n",
              "    .colab-df-convert:hover {\n",
              "      background-color: #E2EBFA;\n",
              "      box-shadow: 0px 1px 2px rgba(60, 64, 67, 0.3), 0px 1px 3px 1px rgba(60, 64, 67, 0.15);\n",
              "      fill: #174EA6;\n",
              "    }\n",
              "\n",
              "    .colab-df-buttons div {\n",
              "      margin-bottom: 4px;\n",
              "    }\n",
              "\n",
              "    [theme=dark] .colab-df-convert {\n",
              "      background-color: #3B4455;\n",
              "      fill: #D2E3FC;\n",
              "    }\n",
              "\n",
              "    [theme=dark] .colab-df-convert:hover {\n",
              "      background-color: #434B5C;\n",
              "      box-shadow: 0px 1px 3px 1px rgba(0, 0, 0, 0.15);\n",
              "      filter: drop-shadow(0px 1px 2px rgba(0, 0, 0, 0.3));\n",
              "      fill: #FFFFFF;\n",
              "    }\n",
              "  </style>\n",
              "\n",
              "    <script>\n",
              "      const buttonEl =\n",
              "        document.querySelector('#df-203ebee1-777a-43b4-be3b-623561ec94be button.colab-df-convert');\n",
              "      buttonEl.style.display =\n",
              "        google.colab.kernel.accessAllowed ? 'block' : 'none';\n",
              "\n",
              "      async function convertToInteractive(key) {\n",
              "        const element = document.querySelector('#df-203ebee1-777a-43b4-be3b-623561ec94be');\n",
              "        const dataTable =\n",
              "          await google.colab.kernel.invokeFunction('convertToInteractive',\n",
              "                                                    [key], {});\n",
              "        if (!dataTable) return;\n",
              "\n",
              "        const docLinkHtml = 'Like what you see? Visit the ' +\n",
              "          '<a target=\"_blank\" href=https://colab.research.google.com/notebooks/data_table.ipynb>data table notebook</a>'\n",
              "          + ' to learn more about interactive tables.';\n",
              "        element.innerHTML = '';\n",
              "        dataTable['output_type'] = 'display_data';\n",
              "        await google.colab.output.renderOutput(dataTable, element);\n",
              "        const docLink = document.createElement('div');\n",
              "        docLink.innerHTML = docLinkHtml;\n",
              "        element.appendChild(docLink);\n",
              "      }\n",
              "    </script>\n",
              "  </div>\n",
              "\n",
              "\n",
              "<div id=\"df-638e1aac-67af-4559-bcf8-ba4e38828587\">\n",
              "  <button class=\"colab-df-quickchart\" onclick=\"quickchart('df-638e1aac-67af-4559-bcf8-ba4e38828587')\"\n",
              "            title=\"Suggest charts.\"\n",
              "            style=\"display:none;\">\n",
              "\n",
              "<svg xmlns=\"http://www.w3.org/2000/svg\" height=\"24px\"viewBox=\"0 0 24 24\"\n",
              "     width=\"24px\">\n",
              "    <g>\n",
              "        <path d=\"M19 3H5c-1.1 0-2 .9-2 2v14c0 1.1.9 2 2 2h14c1.1 0 2-.9 2-2V5c0-1.1-.9-2-2-2zM9 17H7v-7h2v7zm4 0h-2V7h2v10zm4 0h-2v-4h2v4z\"/>\n",
              "    </g>\n",
              "</svg>\n",
              "  </button>\n",
              "\n",
              "<style>\n",
              "  .colab-df-quickchart {\n",
              "      --bg-color: #E8F0FE;\n",
              "      --fill-color: #1967D2;\n",
              "      --hover-bg-color: #E2EBFA;\n",
              "      --hover-fill-color: #174EA6;\n",
              "      --disabled-fill-color: #AAA;\n",
              "      --disabled-bg-color: #DDD;\n",
              "  }\n",
              "\n",
              "  [theme=dark] .colab-df-quickchart {\n",
              "      --bg-color: #3B4455;\n",
              "      --fill-color: #D2E3FC;\n",
              "      --hover-bg-color: #434B5C;\n",
              "      --hover-fill-color: #FFFFFF;\n",
              "      --disabled-bg-color: #3B4455;\n",
              "      --disabled-fill-color: #666;\n",
              "  }\n",
              "\n",
              "  .colab-df-quickchart {\n",
              "    background-color: var(--bg-color);\n",
              "    border: none;\n",
              "    border-radius: 50%;\n",
              "    cursor: pointer;\n",
              "    display: none;\n",
              "    fill: var(--fill-color);\n",
              "    height: 32px;\n",
              "    padding: 0;\n",
              "    width: 32px;\n",
              "  }\n",
              "\n",
              "  .colab-df-quickchart:hover {\n",
              "    background-color: var(--hover-bg-color);\n",
              "    box-shadow: 0 1px 2px rgba(60, 64, 67, 0.3), 0 1px 3px 1px rgba(60, 64, 67, 0.15);\n",
              "    fill: var(--button-hover-fill-color);\n",
              "  }\n",
              "\n",
              "  .colab-df-quickchart-complete:disabled,\n",
              "  .colab-df-quickchart-complete:disabled:hover {\n",
              "    background-color: var(--disabled-bg-color);\n",
              "    fill: var(--disabled-fill-color);\n",
              "    box-shadow: none;\n",
              "  }\n",
              "\n",
              "  .colab-df-spinner {\n",
              "    border: 2px solid var(--fill-color);\n",
              "    border-color: transparent;\n",
              "    border-bottom-color: var(--fill-color);\n",
              "    animation:\n",
              "      spin 1s steps(1) infinite;\n",
              "  }\n",
              "\n",
              "  @keyframes spin {\n",
              "    0% {\n",
              "      border-color: transparent;\n",
              "      border-bottom-color: var(--fill-color);\n",
              "      border-left-color: var(--fill-color);\n",
              "    }\n",
              "    20% {\n",
              "      border-color: transparent;\n",
              "      border-left-color: var(--fill-color);\n",
              "      border-top-color: var(--fill-color);\n",
              "    }\n",
              "    30% {\n",
              "      border-color: transparent;\n",
              "      border-left-color: var(--fill-color);\n",
              "      border-top-color: var(--fill-color);\n",
              "      border-right-color: var(--fill-color);\n",
              "    }\n",
              "    40% {\n",
              "      border-color: transparent;\n",
              "      border-right-color: var(--fill-color);\n",
              "      border-top-color: var(--fill-color);\n",
              "    }\n",
              "    60% {\n",
              "      border-color: transparent;\n",
              "      border-right-color: var(--fill-color);\n",
              "    }\n",
              "    80% {\n",
              "      border-color: transparent;\n",
              "      border-right-color: var(--fill-color);\n",
              "      border-bottom-color: var(--fill-color);\n",
              "    }\n",
              "    90% {\n",
              "      border-color: transparent;\n",
              "      border-bottom-color: var(--fill-color);\n",
              "    }\n",
              "  }\n",
              "</style>\n",
              "\n",
              "  <script>\n",
              "    async function quickchart(key) {\n",
              "      const quickchartButtonEl =\n",
              "        document.querySelector('#' + key + ' button');\n",
              "      quickchartButtonEl.disabled = true;  // To prevent multiple clicks.\n",
              "      quickchartButtonEl.classList.add('colab-df-spinner');\n",
              "      try {\n",
              "        const charts = await google.colab.kernel.invokeFunction(\n",
              "            'suggestCharts', [key], {});\n",
              "      } catch (error) {\n",
              "        console.error('Error during call to suggestCharts:', error);\n",
              "      }\n",
              "      quickchartButtonEl.classList.remove('colab-df-spinner');\n",
              "      quickchartButtonEl.classList.add('colab-df-quickchart-complete');\n",
              "    }\n",
              "    (() => {\n",
              "      let quickchartButtonEl =\n",
              "        document.querySelector('#df-638e1aac-67af-4559-bcf8-ba4e38828587 button');\n",
              "      quickchartButtonEl.style.display =\n",
              "        google.colab.kernel.accessAllowed ? 'block' : 'none';\n",
              "    })();\n",
              "  </script>\n",
              "</div>\n",
              "    </div>\n",
              "  </div>\n"
            ]
          },
          "metadata": {},
          "execution_count": 16
        }
      ],
      "source": [
        "df_cat.head()"
      ]
    },
    {
      "cell_type": "code",
      "execution_count": null,
      "metadata": {
        "id": "qTQmUM2RW1iF"
      },
      "outputs": [],
      "source": [
        "df_cat = pd.get_dummies(df_cat)"
      ]
    },
    {
      "cell_type": "markdown",
      "metadata": {
        "id": "Siz4mvd5YUav"
      },
      "source": [
        "Remove all columns with '?'"
      ]
    },
    {
      "cell_type": "code",
      "execution_count": null,
      "metadata": {
        "id": "tHN97FkGXA5H"
      },
      "outputs": [],
      "source": [
        "df_cat.drop(columns = ['surgery?_?', 'temperature of extremities_?', 'peripheral pulse_?', 'capillary refill time_?',\n",
        "                      'pain_?', 'peristalsis_?', 'abdominal distension_?', 'nasogastric tube_?', 'nasogastric reflux_?',\n",
        "                      'rectal examination - feces_?', 'abdomen_?', 'abdominocentesis appearance_?', 'outcome_?'], inplace = True)"
      ]
    },
    {
      "cell_type": "markdown",
      "metadata": {
        "id": "9TA6ZftpccYi"
      },
      "source": [
        "Concate tables"
      ]
    },
    {
      "cell_type": "code",
      "execution_count": null,
      "metadata": {
        "id": "eZt8zth3cGqj"
      },
      "outputs": [],
      "source": [
        "dff = pd.concat([df_binar, df_num, df_cat], axis=1)"
      ]
    },
    {
      "cell_type": "code",
      "execution_count": null,
      "metadata": {
        "id": "ncKdVNxQcUUz",
        "colab": {
          "base_uri": "https://localhost:8080/",
          "height": 258
        },
        "outputId": "311f608e-9046-4d7d-fbf3-159381ae2eed"
      },
      "outputs": [
        {
          "output_type": "execute_result",
          "data": {
            "text/plain": [
              "  Age cp_data surgical lesion? rectal temperature pulse respiratory rate  \\\n",
              "0   1       2                2              38.50    66               28   \n",
              "1   1       2                2               39.2    88               20   \n",
              "2   1       1                2              38.30    40               24   \n",
              "3   9       1                1              39.10   164               84   \n",
              "4   1       2                2              37.30   104               35   \n",
              "\n",
              "  nasogastric reflux PH packed cell volume total protein  \\\n",
              "0              4.707547              45.00          8.40   \n",
              "1              4.707547                 50            85   \n",
              "2              4.707547              33.00          6.70   \n",
              "3                  5.00              48.00          7.20   \n",
              "4              4.707547              74.00          7.40   \n",
              "\n",
              "  abdomcentesis total protein  surgery?_1  surgery?_2  \\\n",
              "0                    3.019608           0           1   \n",
              "1                           2           1           0   \n",
              "2                    3.019608           0           1   \n",
              "3                        5.30           1           0   \n",
              "4                    3.019608           0           1   \n",
              "\n",
              "   temperature of extremities_1  temperature of extremities_2  \\\n",
              "0                             0                             0   \n",
              "1                             0                             0   \n",
              "2                             1                             0   \n",
              "3                             0                             0   \n",
              "4                             0                             0   \n",
              "\n",
              "   temperature of extremities_3  temperature of extremities_4  \\\n",
              "0                             1                             0   \n",
              "1                             0                             0   \n",
              "2                             0                             0   \n",
              "3                             0                             1   \n",
              "4                             0                             0   \n",
              "\n",
              "   peripheral pulse_1  peripheral pulse_2  peripheral pulse_3  \\\n",
              "0                   0                   0                   1   \n",
              "1                   0                   0                   0   \n",
              "2                   1                   0                   0   \n",
              "3                   1                   0                   0   \n",
              "4                   0                   0                   0   \n",
              "\n",
              "   peripheral pulse_4  mucous membranes_1  mucous membranes_2  \\\n",
              "0                   0                   0                   0   \n",
              "1                   0                   0                   0   \n",
              "2                   0                   0                   0   \n",
              "3                   0                   0                   0   \n",
              "4                   0                   0                   0   \n",
              "\n",
              "   mucous membranes_3  mucous membranes_4  mucous membranes_5  \\\n",
              "0                   0                   0                   0   \n",
              "1                   0                   1                   0   \n",
              "2                   1                   0                   0   \n",
              "3                   0                   0                   0   \n",
              "4                   0                   0                   0   \n",
              "\n",
              "   mucous membranes_6  mucous membranes_?  capillary refill time_1  \\\n",
              "0                   0                   1                        0   \n",
              "1                   0                   0                        1   \n",
              "2                   0                   0                        1   \n",
              "3                   1                   0                        0   \n",
              "4                   1                   0                        0   \n",
              "\n",
              "   capillary refill time_2  capillary refill time_3  pain_1  pain_2  pain_3  \\\n",
              "0                        1                        0       0       0       0   \n",
              "1                        0                        0       0       0       1   \n",
              "2                        0                        0       0       0       1   \n",
              "3                        1                        0       0       1       0   \n",
              "4                        1                        0       0       0       0   \n",
              "\n",
              "   pain_4  pain_5  peristalsis_1  peristalsis_2  peristalsis_3  peristalsis_4  \\\n",
              "0       0       1              0              0              0              1   \n",
              "1       0       0              0              0              0              1   \n",
              "2       0       0              0              0              1              0   \n",
              "3       0       0              0              0              0              1   \n",
              "4       0       0              0              0              0              0   \n",
              "\n",
              "   abdominal distension_1  abdominal distension_2  abdominal distension_3  \\\n",
              "0                       0                       0                       0   \n",
              "1                       0                       1                       0   \n",
              "2                       1                       0                       0   \n",
              "3                       0                       0                       0   \n",
              "4                       0                       0                       0   \n",
              "\n",
              "   abdominal distension_4  nasogastric tube_1  nasogastric tube_2  \\\n",
              "0                       1                   0                   0   \n",
              "1                       0                   0                   0   \n",
              "2                       0                   0                   0   \n",
              "3                       1                   1                   0   \n",
              "4                       0                   0                   0   \n",
              "\n",
              "   nasogastric tube_3  nasogastric reflux_1  nasogastric reflux_2  \\\n",
              "0                   0                     0                     0   \n",
              "1                   0                     0                     0   \n",
              "2                   0                     0                     0   \n",
              "3                   0                     0                     1   \n",
              "4                   0                     0                     0   \n",
              "\n",
              "   nasogastric reflux_3  rectal examination - feces_1  \\\n",
              "0                     0                             0   \n",
              "1                     0                             0   \n",
              "2                     0                             1   \n",
              "3                     0                             0   \n",
              "4                     0                             0   \n",
              "\n",
              "   rectal examination - feces_2  rectal examination - feces_3  \\\n",
              "0                             0                             1   \n",
              "1                             0                             0   \n",
              "2                             0                             0   \n",
              "3                             0                             1   \n",
              "4                             0                             0   \n",
              "\n",
              "   rectal examination - feces_4  abdomen_1  abdomen_2  abdomen_3  abdomen_4  \\\n",
              "0                             0          0          0          0          0   \n",
              "1                             1          0          1          0          0   \n",
              "2                             0          1          0          0          0   \n",
              "3                             0          0          0          0          0   \n",
              "4                             0          0          0          0          0   \n",
              "\n",
              "   abdomen_5  abdominocentesis appearance_1  abdominocentesis appearance_2  \\\n",
              "0          1                              0                              0   \n",
              "1          0                              0                              1   \n",
              "2          0                              0                              0   \n",
              "3          0                              0                              0   \n",
              "4          0                              0                              0   \n",
              "\n",
              "   abdominocentesis appearance_3  outcome_1  outcome_2  outcome_3  \\\n",
              "0                              0          0          1          0   \n",
              "1                              0          0          0          1   \n",
              "2                              0          1          0          0   \n",
              "3                              1          0          1          0   \n",
              "4                              0          0          1          0   \n",
              "\n",
              "   site of lesion_00000  site of lesion_00300  site of lesion_00400  \\\n",
              "0                     0                     0                     0   \n",
              "1                     0                     0                     0   \n",
              "2                     1                     0                     0   \n",
              "3                     0                     0                     0   \n",
              "4                     0                     0                     0   \n",
              "\n",
              "   site of lesion_01111  site of lesion_01124  site of lesion_01400  \\\n",
              "0                     0                     0                     0   \n",
              "1                     0                     0                     0   \n",
              "2                     0                     0                     0   \n",
              "3                     0                     0                     0   \n",
              "4                     0                     0                     0   \n",
              "\n",
              "   site of lesion_02111  site of lesion_02112  site of lesion_02113  \\\n",
              "0                     0                     0                     0   \n",
              "1                     0                     0                     0   \n",
              "2                     0                     0                     0   \n",
              "3                     0                     0                     0   \n",
              "4                     0                     0                     0   \n",
              "\n",
              "   site of lesion_02124  site of lesion_02205  site of lesion_02206  \\\n",
              "0                     0                     0                     0   \n",
              "1                     0                     0                     0   \n",
              "2                     0                     0                     0   \n",
              "3                     0                     0                     0   \n",
              "4                     0                     0                     0   \n",
              "\n",
              "   site of lesion_02207  site of lesion_02208  site of lesion_02209  \\\n",
              "0                     0                     0                     0   \n",
              "1                     0                     1                     0   \n",
              "2                     0                     0                     0   \n",
              "3                     0                     1                     0   \n",
              "4                     0                     0                     0   \n",
              "\n",
              "   site of lesion_02300  site of lesion_02305  site of lesion_02322  \\\n",
              "0                     0                     0                     0   \n",
              "1                     0                     0                     0   \n",
              "2                     0                     0                     0   \n",
              "3                     0                     0                     0   \n",
              "4                     0                     0                     0   \n",
              "\n",
              "   site of lesion_03025  site of lesion_03111  site of lesion_03112  \\\n",
              "0                     0                     0                     0   \n",
              "1                     0                     0                     0   \n",
              "2                     0                     0                     0   \n",
              "3                     0                     0                     0   \n",
              "4                     0                     0                     0   \n",
              "\n",
              "   site of lesion_03113  site of lesion_03115  site of lesion_03124  \\\n",
              "0                     0                     0                     0   \n",
              "1                     0                     0                     0   \n",
              "2                     0                     0                     0   \n",
              "3                     0                     0                     0   \n",
              "4                     0                     0                     0   \n",
              "\n",
              "   site of lesion_03133  site of lesion_03205  site of lesion_03207  \\\n",
              "0                     0                     0                     0   \n",
              "1                     0                     0                     0   \n",
              "2                     0                     0                     0   \n",
              "3                     0                     0                     0   \n",
              "4                     0                     0                     0   \n",
              "\n",
              "   site of lesion_03209  site of lesion_03300  site of lesion_03400  \\\n",
              "0                     0                     0                     0   \n",
              "1                     0                     0                     0   \n",
              "2                     0                     0                     0   \n",
              "3                     0                     0                     0   \n",
              "4                     0                     0                     0   \n",
              "\n",
              "   site of lesion_04111  site of lesion_04122  site of lesion_04124  \\\n",
              "0                     0                     0                     0   \n",
              "1                     0                     0                     0   \n",
              "2                     0                     0                     0   \n",
              "3                     0                     0                     0   \n",
              "4                     0                     0                     0   \n",
              "\n",
              "   site of lesion_04205  site of lesion_04206  site of lesion_04207  \\\n",
              "0                     0                     0                     0   \n",
              "1                     0                     0                     0   \n",
              "2                     0                     0                     0   \n",
              "3                     0                     0                     0   \n",
              "4                     0                     0                     0   \n",
              "\n",
              "   site of lesion_04300  site of lesion_05000  site of lesion_05111  \\\n",
              "0                     0                     0                     0   \n",
              "1                     0                     0                     0   \n",
              "2                     0                     0                     0   \n",
              "3                     0                     0                     0   \n",
              "4                     1                     0                     0   \n",
              "\n",
              "   site of lesion_05124  site of lesion_05205  site of lesion_05206  \\\n",
              "0                     0                     0                     0   \n",
              "1                     0                     0                     0   \n",
              "2                     0                     0                     0   \n",
              "3                     0                     0                     0   \n",
              "4                     0                     0                     0   \n",
              "\n",
              "   site of lesion_05400  site of lesion_06111  site of lesion_06112  \\\n",
              "0                     0                     0                     0   \n",
              "1                     0                     0                     0   \n",
              "2                     0                     0                     0   \n",
              "3                     0                     0                     0   \n",
              "4                     0                     0                     0   \n",
              "\n",
              "   site of lesion_06209  site of lesion_07111  site of lesion_07113  \\\n",
              "0                     0                     0                     0   \n",
              "1                     0                     0                     0   \n",
              "2                     0                     0                     0   \n",
              "3                     0                     0                     0   \n",
              "4                     0                     0                     0   \n",
              "\n",
              "   site of lesion_07209  site of lesion_07400  site of lesion_08300  \\\n",
              "0                     0                     0                     0   \n",
              "1                     0                     0                     0   \n",
              "2                     0                     0                     0   \n",
              "3                     0                     0                     0   \n",
              "4                     0                     0                     0   \n",
              "\n",
              "   site of lesion_08400  site of lesion_09000  site of lesion_09400  \\\n",
              "0                     0                     0                     0   \n",
              "1                     0                     0                     0   \n",
              "2                     0                     0                     0   \n",
              "3                     0                     0                     0   \n",
              "4                     0                     0                     0   \n",
              "\n",
              "   site of lesion_11124  site of lesion_11300  site of lesion_11400  \\\n",
              "0                     0                     1                     0   \n",
              "1                     0                     0                     0   \n",
              "2                     0                     0                     0   \n",
              "3                     0                     0                     0   \n",
              "4                     0                     0                     0   \n",
              "\n",
              "   site of lesion_12208  site of lesion_21110  site of lesion_31110  \\\n",
              "0                     0                     0                     0   \n",
              "1                     0                     0                     0   \n",
              "2                     0                     0                     0   \n",
              "3                     0                     0                     0   \n",
              "4                     0                     0                     0   \n",
              "\n",
              "   site of lesion_41110  \n",
              "0                     0  \n",
              "1                     0  \n",
              "2                     0  \n",
              "3                     0  \n",
              "4                     0  "
            ],
            "text/html": [
              "\n",
              "  <div id=\"df-37022103-2961-4918-94e4-8634ddad5086\" class=\"colab-df-container\">\n",
              "    <div>\n",
              "<style scoped>\n",
              "    .dataframe tbody tr th:only-of-type {\n",
              "        vertical-align: middle;\n",
              "    }\n",
              "\n",
              "    .dataframe tbody tr th {\n",
              "        vertical-align: top;\n",
              "    }\n",
              "\n",
              "    .dataframe thead th {\n",
              "        text-align: right;\n",
              "    }\n",
              "</style>\n",
              "<table border=\"1\" class=\"dataframe\">\n",
              "  <thead>\n",
              "    <tr style=\"text-align: right;\">\n",
              "      <th></th>\n",
              "      <th>Age</th>\n",
              "      <th>cp_data</th>\n",
              "      <th>surgical lesion?</th>\n",
              "      <th>rectal temperature</th>\n",
              "      <th>pulse</th>\n",
              "      <th>respiratory rate</th>\n",
              "      <th>nasogastric reflux PH</th>\n",
              "      <th>packed cell volume</th>\n",
              "      <th>total protein</th>\n",
              "      <th>abdomcentesis total protein</th>\n",
              "      <th>surgery?_1</th>\n",
              "      <th>surgery?_2</th>\n",
              "      <th>temperature of extremities_1</th>\n",
              "      <th>temperature of extremities_2</th>\n",
              "      <th>temperature of extremities_3</th>\n",
              "      <th>temperature of extremities_4</th>\n",
              "      <th>peripheral pulse_1</th>\n",
              "      <th>peripheral pulse_2</th>\n",
              "      <th>peripheral pulse_3</th>\n",
              "      <th>peripheral pulse_4</th>\n",
              "      <th>mucous membranes_1</th>\n",
              "      <th>mucous membranes_2</th>\n",
              "      <th>mucous membranes_3</th>\n",
              "      <th>mucous membranes_4</th>\n",
              "      <th>mucous membranes_5</th>\n",
              "      <th>mucous membranes_6</th>\n",
              "      <th>mucous membranes_?</th>\n",
              "      <th>capillary refill time_1</th>\n",
              "      <th>capillary refill time_2</th>\n",
              "      <th>capillary refill time_3</th>\n",
              "      <th>pain_1</th>\n",
              "      <th>pain_2</th>\n",
              "      <th>pain_3</th>\n",
              "      <th>pain_4</th>\n",
              "      <th>pain_5</th>\n",
              "      <th>peristalsis_1</th>\n",
              "      <th>peristalsis_2</th>\n",
              "      <th>peristalsis_3</th>\n",
              "      <th>peristalsis_4</th>\n",
              "      <th>abdominal distension_1</th>\n",
              "      <th>abdominal distension_2</th>\n",
              "      <th>abdominal distension_3</th>\n",
              "      <th>abdominal distension_4</th>\n",
              "      <th>nasogastric tube_1</th>\n",
              "      <th>nasogastric tube_2</th>\n",
              "      <th>nasogastric tube_3</th>\n",
              "      <th>nasogastric reflux_1</th>\n",
              "      <th>nasogastric reflux_2</th>\n",
              "      <th>nasogastric reflux_3</th>\n",
              "      <th>rectal examination - feces_1</th>\n",
              "      <th>rectal examination - feces_2</th>\n",
              "      <th>rectal examination - feces_3</th>\n",
              "      <th>rectal examination - feces_4</th>\n",
              "      <th>abdomen_1</th>\n",
              "      <th>abdomen_2</th>\n",
              "      <th>abdomen_3</th>\n",
              "      <th>abdomen_4</th>\n",
              "      <th>abdomen_5</th>\n",
              "      <th>abdominocentesis appearance_1</th>\n",
              "      <th>abdominocentesis appearance_2</th>\n",
              "      <th>abdominocentesis appearance_3</th>\n",
              "      <th>outcome_1</th>\n",
              "      <th>outcome_2</th>\n",
              "      <th>outcome_3</th>\n",
              "      <th>site of lesion_00000</th>\n",
              "      <th>site of lesion_00300</th>\n",
              "      <th>site of lesion_00400</th>\n",
              "      <th>site of lesion_01111</th>\n",
              "      <th>site of lesion_01124</th>\n",
              "      <th>site of lesion_01400</th>\n",
              "      <th>site of lesion_02111</th>\n",
              "      <th>site of lesion_02112</th>\n",
              "      <th>site of lesion_02113</th>\n",
              "      <th>site of lesion_02124</th>\n",
              "      <th>site of lesion_02205</th>\n",
              "      <th>site of lesion_02206</th>\n",
              "      <th>site of lesion_02207</th>\n",
              "      <th>site of lesion_02208</th>\n",
              "      <th>site of lesion_02209</th>\n",
              "      <th>site of lesion_02300</th>\n",
              "      <th>site of lesion_02305</th>\n",
              "      <th>site of lesion_02322</th>\n",
              "      <th>site of lesion_03025</th>\n",
              "      <th>site of lesion_03111</th>\n",
              "      <th>site of lesion_03112</th>\n",
              "      <th>site of lesion_03113</th>\n",
              "      <th>site of lesion_03115</th>\n",
              "      <th>site of lesion_03124</th>\n",
              "      <th>site of lesion_03133</th>\n",
              "      <th>site of lesion_03205</th>\n",
              "      <th>site of lesion_03207</th>\n",
              "      <th>site of lesion_03209</th>\n",
              "      <th>site of lesion_03300</th>\n",
              "      <th>site of lesion_03400</th>\n",
              "      <th>site of lesion_04111</th>\n",
              "      <th>site of lesion_04122</th>\n",
              "      <th>site of lesion_04124</th>\n",
              "      <th>site of lesion_04205</th>\n",
              "      <th>site of lesion_04206</th>\n",
              "      <th>site of lesion_04207</th>\n",
              "      <th>site of lesion_04300</th>\n",
              "      <th>site of lesion_05000</th>\n",
              "      <th>site of lesion_05111</th>\n",
              "      <th>site of lesion_05124</th>\n",
              "      <th>site of lesion_05205</th>\n",
              "      <th>site of lesion_05206</th>\n",
              "      <th>site of lesion_05400</th>\n",
              "      <th>site of lesion_06111</th>\n",
              "      <th>site of lesion_06112</th>\n",
              "      <th>site of lesion_06209</th>\n",
              "      <th>site of lesion_07111</th>\n",
              "      <th>site of lesion_07113</th>\n",
              "      <th>site of lesion_07209</th>\n",
              "      <th>site of lesion_07400</th>\n",
              "      <th>site of lesion_08300</th>\n",
              "      <th>site of lesion_08400</th>\n",
              "      <th>site of lesion_09000</th>\n",
              "      <th>site of lesion_09400</th>\n",
              "      <th>site of lesion_11124</th>\n",
              "      <th>site of lesion_11300</th>\n",
              "      <th>site of lesion_11400</th>\n",
              "      <th>site of lesion_12208</th>\n",
              "      <th>site of lesion_21110</th>\n",
              "      <th>site of lesion_31110</th>\n",
              "      <th>site of lesion_41110</th>\n",
              "    </tr>\n",
              "  </thead>\n",
              "  <tbody>\n",
              "    <tr>\n",
              "      <th>0</th>\n",
              "      <td>1</td>\n",
              "      <td>2</td>\n",
              "      <td>2</td>\n",
              "      <td>38.50</td>\n",
              "      <td>66</td>\n",
              "      <td>28</td>\n",
              "      <td>4.707547</td>\n",
              "      <td>45.00</td>\n",
              "      <td>8.40</td>\n",
              "      <td>3.019608</td>\n",
              "      <td>0</td>\n",
              "      <td>1</td>\n",
              "      <td>0</td>\n",
              "      <td>0</td>\n",
              "      <td>1</td>\n",
              "      <td>0</td>\n",
              "      <td>0</td>\n",
              "      <td>0</td>\n",
              "      <td>1</td>\n",
              "      <td>0</td>\n",
              "      <td>0</td>\n",
              "      <td>0</td>\n",
              "      <td>0</td>\n",
              "      <td>0</td>\n",
              "      <td>0</td>\n",
              "      <td>0</td>\n",
              "      <td>1</td>\n",
              "      <td>0</td>\n",
              "      <td>1</td>\n",
              "      <td>0</td>\n",
              "      <td>0</td>\n",
              "      <td>0</td>\n",
              "      <td>0</td>\n",
              "      <td>0</td>\n",
              "      <td>1</td>\n",
              "      <td>0</td>\n",
              "      <td>0</td>\n",
              "      <td>0</td>\n",
              "      <td>1</td>\n",
              "      <td>0</td>\n",
              "      <td>0</td>\n",
              "      <td>0</td>\n",
              "      <td>1</td>\n",
              "      <td>0</td>\n",
              "      <td>0</td>\n",
              "      <td>0</td>\n",
              "      <td>0</td>\n",
              "      <td>0</td>\n",
              "      <td>0</td>\n",
              "      <td>0</td>\n",
              "      <td>0</td>\n",
              "      <td>1</td>\n",
              "      <td>0</td>\n",
              "      <td>0</td>\n",
              "      <td>0</td>\n",
              "      <td>0</td>\n",
              "      <td>0</td>\n",
              "      <td>1</td>\n",
              "      <td>0</td>\n",
              "      <td>0</td>\n",
              "      <td>0</td>\n",
              "      <td>0</td>\n",
              "      <td>1</td>\n",
              "      <td>0</td>\n",
              "      <td>0</td>\n",
              "      <td>0</td>\n",
              "      <td>0</td>\n",
              "      <td>0</td>\n",
              "      <td>0</td>\n",
              "      <td>0</td>\n",
              "      <td>0</td>\n",
              "      <td>0</td>\n",
              "      <td>0</td>\n",
              "      <td>0</td>\n",
              "      <td>0</td>\n",
              "      <td>0</td>\n",
              "      <td>0</td>\n",
              "      <td>0</td>\n",
              "      <td>0</td>\n",
              "      <td>0</td>\n",
              "      <td>0</td>\n",
              "      <td>0</td>\n",
              "      <td>0</td>\n",
              "      <td>0</td>\n",
              "      <td>0</td>\n",
              "      <td>0</td>\n",
              "      <td>0</td>\n",
              "      <td>0</td>\n",
              "      <td>0</td>\n",
              "      <td>0</td>\n",
              "      <td>0</td>\n",
              "      <td>0</td>\n",
              "      <td>0</td>\n",
              "      <td>0</td>\n",
              "      <td>0</td>\n",
              "      <td>0</td>\n",
              "      <td>0</td>\n",
              "      <td>0</td>\n",
              "      <td>0</td>\n",
              "      <td>0</td>\n",
              "      <td>0</td>\n",
              "      <td>0</td>\n",
              "      <td>0</td>\n",
              "      <td>0</td>\n",
              "      <td>0</td>\n",
              "      <td>0</td>\n",
              "      <td>0</td>\n",
              "      <td>0</td>\n",
              "      <td>0</td>\n",
              "      <td>0</td>\n",
              "      <td>0</td>\n",
              "      <td>0</td>\n",
              "      <td>0</td>\n",
              "      <td>0</td>\n",
              "      <td>0</td>\n",
              "      <td>0</td>\n",
              "      <td>0</td>\n",
              "      <td>0</td>\n",
              "      <td>0</td>\n",
              "      <td>1</td>\n",
              "      <td>0</td>\n",
              "      <td>0</td>\n",
              "      <td>0</td>\n",
              "      <td>0</td>\n",
              "      <td>0</td>\n",
              "    </tr>\n",
              "    <tr>\n",
              "      <th>1</th>\n",
              "      <td>1</td>\n",
              "      <td>2</td>\n",
              "      <td>2</td>\n",
              "      <td>39.2</td>\n",
              "      <td>88</td>\n",
              "      <td>20</td>\n",
              "      <td>4.707547</td>\n",
              "      <td>50</td>\n",
              "      <td>85</td>\n",
              "      <td>2</td>\n",
              "      <td>1</td>\n",
              "      <td>0</td>\n",
              "      <td>0</td>\n",
              "      <td>0</td>\n",
              "      <td>0</td>\n",
              "      <td>0</td>\n",
              "      <td>0</td>\n",
              "      <td>0</td>\n",
              "      <td>0</td>\n",
              "      <td>0</td>\n",
              "      <td>0</td>\n",
              "      <td>0</td>\n",
              "      <td>0</td>\n",
              "      <td>1</td>\n",
              "      <td>0</td>\n",
              "      <td>0</td>\n",
              "      <td>0</td>\n",
              "      <td>1</td>\n",
              "      <td>0</td>\n",
              "      <td>0</td>\n",
              "      <td>0</td>\n",
              "      <td>0</td>\n",
              "      <td>1</td>\n",
              "      <td>0</td>\n",
              "      <td>0</td>\n",
              "      <td>0</td>\n",
              "      <td>0</td>\n",
              "      <td>0</td>\n",
              "      <td>1</td>\n",
              "      <td>0</td>\n",
              "      <td>1</td>\n",
              "      <td>0</td>\n",
              "      <td>0</td>\n",
              "      <td>0</td>\n",
              "      <td>0</td>\n",
              "      <td>0</td>\n",
              "      <td>0</td>\n",
              "      <td>0</td>\n",
              "      <td>0</td>\n",
              "      <td>0</td>\n",
              "      <td>0</td>\n",
              "      <td>0</td>\n",
              "      <td>1</td>\n",
              "      <td>0</td>\n",
              "      <td>1</td>\n",
              "      <td>0</td>\n",
              "      <td>0</td>\n",
              "      <td>0</td>\n",
              "      <td>0</td>\n",
              "      <td>1</td>\n",
              "      <td>0</td>\n",
              "      <td>0</td>\n",
              "      <td>0</td>\n",
              "      <td>1</td>\n",
              "      <td>0</td>\n",
              "      <td>0</td>\n",
              "      <td>0</td>\n",
              "      <td>0</td>\n",
              "      <td>0</td>\n",
              "      <td>0</td>\n",
              "      <td>0</td>\n",
              "      <td>0</td>\n",
              "      <td>0</td>\n",
              "      <td>0</td>\n",
              "      <td>0</td>\n",
              "      <td>0</td>\n",
              "      <td>0</td>\n",
              "      <td>1</td>\n",
              "      <td>0</td>\n",
              "      <td>0</td>\n",
              "      <td>0</td>\n",
              "      <td>0</td>\n",
              "      <td>0</td>\n",
              "      <td>0</td>\n",
              "      <td>0</td>\n",
              "      <td>0</td>\n",
              "      <td>0</td>\n",
              "      <td>0</td>\n",
              "      <td>0</td>\n",
              "      <td>0</td>\n",
              "      <td>0</td>\n",
              "      <td>0</td>\n",
              "      <td>0</td>\n",
              "      <td>0</td>\n",
              "      <td>0</td>\n",
              "      <td>0</td>\n",
              "      <td>0</td>\n",
              "      <td>0</td>\n",
              "      <td>0</td>\n",
              "      <td>0</td>\n",
              "      <td>0</td>\n",
              "      <td>0</td>\n",
              "      <td>0</td>\n",
              "      <td>0</td>\n",
              "      <td>0</td>\n",
              "      <td>0</td>\n",
              "      <td>0</td>\n",
              "      <td>0</td>\n",
              "      <td>0</td>\n",
              "      <td>0</td>\n",
              "      <td>0</td>\n",
              "      <td>0</td>\n",
              "      <td>0</td>\n",
              "      <td>0</td>\n",
              "      <td>0</td>\n",
              "      <td>0</td>\n",
              "      <td>0</td>\n",
              "      <td>0</td>\n",
              "      <td>0</td>\n",
              "      <td>0</td>\n",
              "      <td>0</td>\n",
              "      <td>0</td>\n",
              "      <td>0</td>\n",
              "      <td>0</td>\n",
              "      <td>0</td>\n",
              "    </tr>\n",
              "    <tr>\n",
              "      <th>2</th>\n",
              "      <td>1</td>\n",
              "      <td>1</td>\n",
              "      <td>2</td>\n",
              "      <td>38.30</td>\n",
              "      <td>40</td>\n",
              "      <td>24</td>\n",
              "      <td>4.707547</td>\n",
              "      <td>33.00</td>\n",
              "      <td>6.70</td>\n",
              "      <td>3.019608</td>\n",
              "      <td>0</td>\n",
              "      <td>1</td>\n",
              "      <td>1</td>\n",
              "      <td>0</td>\n",
              "      <td>0</td>\n",
              "      <td>0</td>\n",
              "      <td>1</td>\n",
              "      <td>0</td>\n",
              "      <td>0</td>\n",
              "      <td>0</td>\n",
              "      <td>0</td>\n",
              "      <td>0</td>\n",
              "      <td>1</td>\n",
              "      <td>0</td>\n",
              "      <td>0</td>\n",
              "      <td>0</td>\n",
              "      <td>0</td>\n",
              "      <td>1</td>\n",
              "      <td>0</td>\n",
              "      <td>0</td>\n",
              "      <td>0</td>\n",
              "      <td>0</td>\n",
              "      <td>1</td>\n",
              "      <td>0</td>\n",
              "      <td>0</td>\n",
              "      <td>0</td>\n",
              "      <td>0</td>\n",
              "      <td>1</td>\n",
              "      <td>0</td>\n",
              "      <td>1</td>\n",
              "      <td>0</td>\n",
              "      <td>0</td>\n",
              "      <td>0</td>\n",
              "      <td>0</td>\n",
              "      <td>0</td>\n",
              "      <td>0</td>\n",
              "      <td>0</td>\n",
              "      <td>0</td>\n",
              "      <td>0</td>\n",
              "      <td>1</td>\n",
              "      <td>0</td>\n",
              "      <td>0</td>\n",
              "      <td>0</td>\n",
              "      <td>1</td>\n",
              "      <td>0</td>\n",
              "      <td>0</td>\n",
              "      <td>0</td>\n",
              "      <td>0</td>\n",
              "      <td>0</td>\n",
              "      <td>0</td>\n",
              "      <td>0</td>\n",
              "      <td>1</td>\n",
              "      <td>0</td>\n",
              "      <td>0</td>\n",
              "      <td>1</td>\n",
              "      <td>0</td>\n",
              "      <td>0</td>\n",
              "      <td>0</td>\n",
              "      <td>0</td>\n",
              "      <td>0</td>\n",
              "      <td>0</td>\n",
              "      <td>0</td>\n",
              "      <td>0</td>\n",
              "      <td>0</td>\n",
              "      <td>0</td>\n",
              "      <td>0</td>\n",
              "      <td>0</td>\n",
              "      <td>0</td>\n",
              "      <td>0</td>\n",
              "      <td>0</td>\n",
              "      <td>0</td>\n",
              "      <td>0</td>\n",
              "      <td>0</td>\n",
              "      <td>0</td>\n",
              "      <td>0</td>\n",
              "      <td>0</td>\n",
              "      <td>0</td>\n",
              "      <td>0</td>\n",
              "      <td>0</td>\n",
              "      <td>0</td>\n",
              "      <td>0</td>\n",
              "      <td>0</td>\n",
              "      <td>0</td>\n",
              "      <td>0</td>\n",
              "      <td>0</td>\n",
              "      <td>0</td>\n",
              "      <td>0</td>\n",
              "      <td>0</td>\n",
              "      <td>0</td>\n",
              "      <td>0</td>\n",
              "      <td>0</td>\n",
              "      <td>0</td>\n",
              "      <td>0</td>\n",
              "      <td>0</td>\n",
              "      <td>0</td>\n",
              "      <td>0</td>\n",
              "      <td>0</td>\n",
              "      <td>0</td>\n",
              "      <td>0</td>\n",
              "      <td>0</td>\n",
              "      <td>0</td>\n",
              "      <td>0</td>\n",
              "      <td>0</td>\n",
              "      <td>0</td>\n",
              "      <td>0</td>\n",
              "      <td>0</td>\n",
              "      <td>0</td>\n",
              "      <td>0</td>\n",
              "      <td>0</td>\n",
              "      <td>0</td>\n",
              "      <td>0</td>\n",
              "      <td>0</td>\n",
              "      <td>0</td>\n",
              "      <td>0</td>\n",
              "      <td>0</td>\n",
              "    </tr>\n",
              "    <tr>\n",
              "      <th>3</th>\n",
              "      <td>9</td>\n",
              "      <td>1</td>\n",
              "      <td>1</td>\n",
              "      <td>39.10</td>\n",
              "      <td>164</td>\n",
              "      <td>84</td>\n",
              "      <td>5.00</td>\n",
              "      <td>48.00</td>\n",
              "      <td>7.20</td>\n",
              "      <td>5.30</td>\n",
              "      <td>1</td>\n",
              "      <td>0</td>\n",
              "      <td>0</td>\n",
              "      <td>0</td>\n",
              "      <td>0</td>\n",
              "      <td>1</td>\n",
              "      <td>1</td>\n",
              "      <td>0</td>\n",
              "      <td>0</td>\n",
              "      <td>0</td>\n",
              "      <td>0</td>\n",
              "      <td>0</td>\n",
              "      <td>0</td>\n",
              "      <td>0</td>\n",
              "      <td>0</td>\n",
              "      <td>1</td>\n",
              "      <td>0</td>\n",
              "      <td>0</td>\n",
              "      <td>1</td>\n",
              "      <td>0</td>\n",
              "      <td>0</td>\n",
              "      <td>1</td>\n",
              "      <td>0</td>\n",
              "      <td>0</td>\n",
              "      <td>0</td>\n",
              "      <td>0</td>\n",
              "      <td>0</td>\n",
              "      <td>0</td>\n",
              "      <td>1</td>\n",
              "      <td>0</td>\n",
              "      <td>0</td>\n",
              "      <td>0</td>\n",
              "      <td>1</td>\n",
              "      <td>1</td>\n",
              "      <td>0</td>\n",
              "      <td>0</td>\n",
              "      <td>0</td>\n",
              "      <td>1</td>\n",
              "      <td>0</td>\n",
              "      <td>0</td>\n",
              "      <td>0</td>\n",
              "      <td>1</td>\n",
              "      <td>0</td>\n",
              "      <td>0</td>\n",
              "      <td>0</td>\n",
              "      <td>0</td>\n",
              "      <td>0</td>\n",
              "      <td>0</td>\n",
              "      <td>0</td>\n",
              "      <td>0</td>\n",
              "      <td>1</td>\n",
              "      <td>0</td>\n",
              "      <td>1</td>\n",
              "      <td>0</td>\n",
              "      <td>0</td>\n",
              "      <td>0</td>\n",
              "      <td>0</td>\n",
              "      <td>0</td>\n",
              "      <td>0</td>\n",
              "      <td>0</td>\n",
              "      <td>0</td>\n",
              "      <td>0</td>\n",
              "      <td>0</td>\n",
              "      <td>0</td>\n",
              "      <td>0</td>\n",
              "      <td>0</td>\n",
              "      <td>0</td>\n",
              "      <td>1</td>\n",
              "      <td>0</td>\n",
              "      <td>0</td>\n",
              "      <td>0</td>\n",
              "      <td>0</td>\n",
              "      <td>0</td>\n",
              "      <td>0</td>\n",
              "      <td>0</td>\n",
              "      <td>0</td>\n",
              "      <td>0</td>\n",
              "      <td>0</td>\n",
              "      <td>0</td>\n",
              "      <td>0</td>\n",
              "      <td>0</td>\n",
              "      <td>0</td>\n",
              "      <td>0</td>\n",
              "      <td>0</td>\n",
              "      <td>0</td>\n",
              "      <td>0</td>\n",
              "      <td>0</td>\n",
              "      <td>0</td>\n",
              "      <td>0</td>\n",
              "      <td>0</td>\n",
              "      <td>0</td>\n",
              "      <td>0</td>\n",
              "      <td>0</td>\n",
              "      <td>0</td>\n",
              "      <td>0</td>\n",
              "      <td>0</td>\n",
              "      <td>0</td>\n",
              "      <td>0</td>\n",
              "      <td>0</td>\n",
              "      <td>0</td>\n",
              "      <td>0</td>\n",
              "      <td>0</td>\n",
              "      <td>0</td>\n",
              "      <td>0</td>\n",
              "      <td>0</td>\n",
              "      <td>0</td>\n",
              "      <td>0</td>\n",
              "      <td>0</td>\n",
              "      <td>0</td>\n",
              "      <td>0</td>\n",
              "      <td>0</td>\n",
              "      <td>0</td>\n",
              "      <td>0</td>\n",
              "      <td>0</td>\n",
              "      <td>0</td>\n",
              "    </tr>\n",
              "    <tr>\n",
              "      <th>4</th>\n",
              "      <td>1</td>\n",
              "      <td>2</td>\n",
              "      <td>2</td>\n",
              "      <td>37.30</td>\n",
              "      <td>104</td>\n",
              "      <td>35</td>\n",
              "      <td>4.707547</td>\n",
              "      <td>74.00</td>\n",
              "      <td>7.40</td>\n",
              "      <td>3.019608</td>\n",
              "      <td>0</td>\n",
              "      <td>1</td>\n",
              "      <td>0</td>\n",
              "      <td>0</td>\n",
              "      <td>0</td>\n",
              "      <td>0</td>\n",
              "      <td>0</td>\n",
              "      <td>0</td>\n",
              "      <td>0</td>\n",
              "      <td>0</td>\n",
              "      <td>0</td>\n",
              "      <td>0</td>\n",
              "      <td>0</td>\n",
              "      <td>0</td>\n",
              "      <td>0</td>\n",
              "      <td>1</td>\n",
              "      <td>0</td>\n",
              "      <td>0</td>\n",
              "      <td>1</td>\n",
              "      <td>0</td>\n",
              "      <td>0</td>\n",
              "      <td>0</td>\n",
              "      <td>0</td>\n",
              "      <td>0</td>\n",
              "      <td>0</td>\n",
              "      <td>0</td>\n",
              "      <td>0</td>\n",
              "      <td>0</td>\n",
              "      <td>0</td>\n",
              "      <td>0</td>\n",
              "      <td>0</td>\n",
              "      <td>0</td>\n",
              "      <td>0</td>\n",
              "      <td>0</td>\n",
              "      <td>0</td>\n",
              "      <td>0</td>\n",
              "      <td>0</td>\n",
              "      <td>0</td>\n",
              "      <td>0</td>\n",
              "      <td>0</td>\n",
              "      <td>0</td>\n",
              "      <td>0</td>\n",
              "      <td>0</td>\n",
              "      <td>0</td>\n",
              "      <td>0</td>\n",
              "      <td>0</td>\n",
              "      <td>0</td>\n",
              "      <td>0</td>\n",
              "      <td>0</td>\n",
              "      <td>0</td>\n",
              "      <td>0</td>\n",
              "      <td>0</td>\n",
              "      <td>1</td>\n",
              "      <td>0</td>\n",
              "      <td>0</td>\n",
              "      <td>0</td>\n",
              "      <td>0</td>\n",
              "      <td>0</td>\n",
              "      <td>0</td>\n",
              "      <td>0</td>\n",
              "      <td>0</td>\n",
              "      <td>0</td>\n",
              "      <td>0</td>\n",
              "      <td>0</td>\n",
              "      <td>0</td>\n",
              "      <td>0</td>\n",
              "      <td>0</td>\n",
              "      <td>0</td>\n",
              "      <td>0</td>\n",
              "      <td>0</td>\n",
              "      <td>0</td>\n",
              "      <td>0</td>\n",
              "      <td>0</td>\n",
              "      <td>0</td>\n",
              "      <td>0</td>\n",
              "      <td>0</td>\n",
              "      <td>0</td>\n",
              "      <td>0</td>\n",
              "      <td>0</td>\n",
              "      <td>0</td>\n",
              "      <td>0</td>\n",
              "      <td>0</td>\n",
              "      <td>0</td>\n",
              "      <td>0</td>\n",
              "      <td>0</td>\n",
              "      <td>0</td>\n",
              "      <td>0</td>\n",
              "      <td>0</td>\n",
              "      <td>0</td>\n",
              "      <td>0</td>\n",
              "      <td>1</td>\n",
              "      <td>0</td>\n",
              "      <td>0</td>\n",
              "      <td>0</td>\n",
              "      <td>0</td>\n",
              "      <td>0</td>\n",
              "      <td>0</td>\n",
              "      <td>0</td>\n",
              "      <td>0</td>\n",
              "      <td>0</td>\n",
              "      <td>0</td>\n",
              "      <td>0</td>\n",
              "      <td>0</td>\n",
              "      <td>0</td>\n",
              "      <td>0</td>\n",
              "      <td>0</td>\n",
              "      <td>0</td>\n",
              "      <td>0</td>\n",
              "      <td>0</td>\n",
              "      <td>0</td>\n",
              "      <td>0</td>\n",
              "      <td>0</td>\n",
              "      <td>0</td>\n",
              "      <td>0</td>\n",
              "      <td>0</td>\n",
              "    </tr>\n",
              "  </tbody>\n",
              "</table>\n",
              "</div>\n",
              "    <div class=\"colab-df-buttons\">\n",
              "\n",
              "  <div class=\"colab-df-container\">\n",
              "    <button class=\"colab-df-convert\" onclick=\"convertToInteractive('df-37022103-2961-4918-94e4-8634ddad5086')\"\n",
              "            title=\"Convert this dataframe to an interactive table.\"\n",
              "            style=\"display:none;\">\n",
              "\n",
              "  <svg xmlns=\"http://www.w3.org/2000/svg\" height=\"24px\" viewBox=\"0 -960 960 960\">\n",
              "    <path d=\"M120-120v-720h720v720H120Zm60-500h600v-160H180v160Zm220 220h160v-160H400v160Zm0 220h160v-160H400v160ZM180-400h160v-160H180v160Zm440 0h160v-160H620v160ZM180-180h160v-160H180v160Zm440 0h160v-160H620v160Z\"/>\n",
              "  </svg>\n",
              "    </button>\n",
              "\n",
              "  <style>\n",
              "    .colab-df-container {\n",
              "      display:flex;\n",
              "      gap: 12px;\n",
              "    }\n",
              "\n",
              "    .colab-df-convert {\n",
              "      background-color: #E8F0FE;\n",
              "      border: none;\n",
              "      border-radius: 50%;\n",
              "      cursor: pointer;\n",
              "      display: none;\n",
              "      fill: #1967D2;\n",
              "      height: 32px;\n",
              "      padding: 0 0 0 0;\n",
              "      width: 32px;\n",
              "    }\n",
              "\n",
              "    .colab-df-convert:hover {\n",
              "      background-color: #E2EBFA;\n",
              "      box-shadow: 0px 1px 2px rgba(60, 64, 67, 0.3), 0px 1px 3px 1px rgba(60, 64, 67, 0.15);\n",
              "      fill: #174EA6;\n",
              "    }\n",
              "\n",
              "    .colab-df-buttons div {\n",
              "      margin-bottom: 4px;\n",
              "    }\n",
              "\n",
              "    [theme=dark] .colab-df-convert {\n",
              "      background-color: #3B4455;\n",
              "      fill: #D2E3FC;\n",
              "    }\n",
              "\n",
              "    [theme=dark] .colab-df-convert:hover {\n",
              "      background-color: #434B5C;\n",
              "      box-shadow: 0px 1px 3px 1px rgba(0, 0, 0, 0.15);\n",
              "      filter: drop-shadow(0px 1px 2px rgba(0, 0, 0, 0.3));\n",
              "      fill: #FFFFFF;\n",
              "    }\n",
              "  </style>\n",
              "\n",
              "    <script>\n",
              "      const buttonEl =\n",
              "        document.querySelector('#df-37022103-2961-4918-94e4-8634ddad5086 button.colab-df-convert');\n",
              "      buttonEl.style.display =\n",
              "        google.colab.kernel.accessAllowed ? 'block' : 'none';\n",
              "\n",
              "      async function convertToInteractive(key) {\n",
              "        const element = document.querySelector('#df-37022103-2961-4918-94e4-8634ddad5086');\n",
              "        const dataTable =\n",
              "          await google.colab.kernel.invokeFunction('convertToInteractive',\n",
              "                                                    [key], {});\n",
              "        if (!dataTable) return;\n",
              "\n",
              "        const docLinkHtml = 'Like what you see? Visit the ' +\n",
              "          '<a target=\"_blank\" href=https://colab.research.google.com/notebooks/data_table.ipynb>data table notebook</a>'\n",
              "          + ' to learn more about interactive tables.';\n",
              "        element.innerHTML = '';\n",
              "        dataTable['output_type'] = 'display_data';\n",
              "        await google.colab.output.renderOutput(dataTable, element);\n",
              "        const docLink = document.createElement('div');\n",
              "        docLink.innerHTML = docLinkHtml;\n",
              "        element.appendChild(docLink);\n",
              "      }\n",
              "    </script>\n",
              "  </div>\n",
              "\n",
              "\n",
              "<div id=\"df-b4943d72-29b4-42ee-92cf-5fa30d927dae\">\n",
              "  <button class=\"colab-df-quickchart\" onclick=\"quickchart('df-b4943d72-29b4-42ee-92cf-5fa30d927dae')\"\n",
              "            title=\"Suggest charts.\"\n",
              "            style=\"display:none;\">\n",
              "\n",
              "<svg xmlns=\"http://www.w3.org/2000/svg\" height=\"24px\"viewBox=\"0 0 24 24\"\n",
              "     width=\"24px\">\n",
              "    <g>\n",
              "        <path d=\"M19 3H5c-1.1 0-2 .9-2 2v14c0 1.1.9 2 2 2h14c1.1 0 2-.9 2-2V5c0-1.1-.9-2-2-2zM9 17H7v-7h2v7zm4 0h-2V7h2v10zm4 0h-2v-4h2v4z\"/>\n",
              "    </g>\n",
              "</svg>\n",
              "  </button>\n",
              "\n",
              "<style>\n",
              "  .colab-df-quickchart {\n",
              "      --bg-color: #E8F0FE;\n",
              "      --fill-color: #1967D2;\n",
              "      --hover-bg-color: #E2EBFA;\n",
              "      --hover-fill-color: #174EA6;\n",
              "      --disabled-fill-color: #AAA;\n",
              "      --disabled-bg-color: #DDD;\n",
              "  }\n",
              "\n",
              "  [theme=dark] .colab-df-quickchart {\n",
              "      --bg-color: #3B4455;\n",
              "      --fill-color: #D2E3FC;\n",
              "      --hover-bg-color: #434B5C;\n",
              "      --hover-fill-color: #FFFFFF;\n",
              "      --disabled-bg-color: #3B4455;\n",
              "      --disabled-fill-color: #666;\n",
              "  }\n",
              "\n",
              "  .colab-df-quickchart {\n",
              "    background-color: var(--bg-color);\n",
              "    border: none;\n",
              "    border-radius: 50%;\n",
              "    cursor: pointer;\n",
              "    display: none;\n",
              "    fill: var(--fill-color);\n",
              "    height: 32px;\n",
              "    padding: 0;\n",
              "    width: 32px;\n",
              "  }\n",
              "\n",
              "  .colab-df-quickchart:hover {\n",
              "    background-color: var(--hover-bg-color);\n",
              "    box-shadow: 0 1px 2px rgba(60, 64, 67, 0.3), 0 1px 3px 1px rgba(60, 64, 67, 0.15);\n",
              "    fill: var(--button-hover-fill-color);\n",
              "  }\n",
              "\n",
              "  .colab-df-quickchart-complete:disabled,\n",
              "  .colab-df-quickchart-complete:disabled:hover {\n",
              "    background-color: var(--disabled-bg-color);\n",
              "    fill: var(--disabled-fill-color);\n",
              "    box-shadow: none;\n",
              "  }\n",
              "\n",
              "  .colab-df-spinner {\n",
              "    border: 2px solid var(--fill-color);\n",
              "    border-color: transparent;\n",
              "    border-bottom-color: var(--fill-color);\n",
              "    animation:\n",
              "      spin 1s steps(1) infinite;\n",
              "  }\n",
              "\n",
              "  @keyframes spin {\n",
              "    0% {\n",
              "      border-color: transparent;\n",
              "      border-bottom-color: var(--fill-color);\n",
              "      border-left-color: var(--fill-color);\n",
              "    }\n",
              "    20% {\n",
              "      border-color: transparent;\n",
              "      border-left-color: var(--fill-color);\n",
              "      border-top-color: var(--fill-color);\n",
              "    }\n",
              "    30% {\n",
              "      border-color: transparent;\n",
              "      border-left-color: var(--fill-color);\n",
              "      border-top-color: var(--fill-color);\n",
              "      border-right-color: var(--fill-color);\n",
              "    }\n",
              "    40% {\n",
              "      border-color: transparent;\n",
              "      border-right-color: var(--fill-color);\n",
              "      border-top-color: var(--fill-color);\n",
              "    }\n",
              "    60% {\n",
              "      border-color: transparent;\n",
              "      border-right-color: var(--fill-color);\n",
              "    }\n",
              "    80% {\n",
              "      border-color: transparent;\n",
              "      border-right-color: var(--fill-color);\n",
              "      border-bottom-color: var(--fill-color);\n",
              "    }\n",
              "    90% {\n",
              "      border-color: transparent;\n",
              "      border-bottom-color: var(--fill-color);\n",
              "    }\n",
              "  }\n",
              "</style>\n",
              "\n",
              "  <script>\n",
              "    async function quickchart(key) {\n",
              "      const quickchartButtonEl =\n",
              "        document.querySelector('#' + key + ' button');\n",
              "      quickchartButtonEl.disabled = true;  // To prevent multiple clicks.\n",
              "      quickchartButtonEl.classList.add('colab-df-spinner');\n",
              "      try {\n",
              "        const charts = await google.colab.kernel.invokeFunction(\n",
              "            'suggestCharts', [key], {});\n",
              "      } catch (error) {\n",
              "        console.error('Error during call to suggestCharts:', error);\n",
              "      }\n",
              "      quickchartButtonEl.classList.remove('colab-df-spinner');\n",
              "      quickchartButtonEl.classList.add('colab-df-quickchart-complete');\n",
              "    }\n",
              "    (() => {\n",
              "      let quickchartButtonEl =\n",
              "        document.querySelector('#df-b4943d72-29b4-42ee-92cf-5fa30d927dae button');\n",
              "      quickchartButtonEl.style.display =\n",
              "        google.colab.kernel.accessAllowed ? 'block' : 'none';\n",
              "    })();\n",
              "  </script>\n",
              "</div>\n",
              "    </div>\n",
              "  </div>\n"
            ]
          },
          "metadata": {},
          "execution_count": 20
        }
      ],
      "source": [
        "dff.head()"
      ]
    },
    {
      "cell_type": "code",
      "execution_count": null,
      "metadata": {
        "id": "gTI7ZWuEbeKh",
        "colab": {
          "base_uri": "https://localhost:8080/"
        },
        "outputId": "8da6cda5-1775-46a6-c197-3c1f68cde527"
      },
      "outputs": [
        {
          "output_type": "execute_result",
          "data": {
            "text/plain": [
              "(300, 125)"
            ]
          },
          "metadata": {},
          "execution_count": 21
        }
      ],
      "source": [
        "dff.shape"
      ]
    },
    {
      "cell_type": "markdown",
      "metadata": {
        "id": "doNVyB-OYfNz"
      },
      "source": [
        "After processing data and removing all missing values (?), let's use algorythms"
      ]
    },
    {
      "cell_type": "markdown",
      "source": [
        "#SVM - classification"
      ],
      "metadata": {
        "id": "bQJFVnMVKBOi"
      }
    },
    {
      "cell_type": "code",
      "source": [
        "dff.columns"
      ],
      "metadata": {
        "colab": {
          "base_uri": "https://localhost:8080/"
        },
        "id": "GjSxGvs5V-7F",
        "outputId": "59b34ca6-4ac5-47ac-d4da-bcab833689c8"
      },
      "execution_count": null,
      "outputs": [
        {
          "output_type": "execute_result",
          "data": {
            "text/plain": [
              "Index(['Age', 'cp_data', 'surgical lesion?', 'rectal temperature', 'pulse',\n",
              "       'respiratory rate', 'nasogastric reflux PH', 'packed cell volume',\n",
              "       'total protein', 'abdomcentesis total protein',\n",
              "       ...\n",
              "       'site of lesion_08400', 'site of lesion_09000', 'site of lesion_09400',\n",
              "       'site of lesion_11124', 'site of lesion_11300', 'site of lesion_11400',\n",
              "       'site of lesion_12208', 'site of lesion_21110', 'site of lesion_31110',\n",
              "       'site of lesion_41110'],\n",
              "      dtype='object', length=125)"
            ]
          },
          "metadata": {},
          "execution_count": 22
        }
      ]
    },
    {
      "cell_type": "code",
      "source": [
        "X = dff.drop(['surgery?_1', 'surgery?_2'], axis = 1)\n",
        "\n",
        "y = dff['surgery?_1']"
      ],
      "metadata": {
        "id": "EcUbryHGJ_NP"
      },
      "execution_count": null,
      "outputs": []
    },
    {
      "cell_type": "code",
      "source": [
        "X_embedded = TSNE(n_components = 2, perplexity = 28).fit_transform(X)\n",
        "\n",
        "x_emb = X_embedded[:, 0]\n",
        "y_emb = X_embedded[:, 1]\n",
        "\n",
        "sns.scatterplot(x = x_emb, y = y_emb, hue = y)"
      ],
      "metadata": {
        "colab": {
          "base_uri": "https://localhost:8080/",
          "height": 452
        },
        "id": "bCAHV2WiFxMj",
        "outputId": "a760492f-8eef-4da3-edb7-01796a416463"
      },
      "execution_count": null,
      "outputs": [
        {
          "output_type": "execute_result",
          "data": {
            "text/plain": [
              "<Axes: >"
            ]
          },
          "metadata": {},
          "execution_count": 24
        },
        {
          "output_type": "display_data",
          "data": {
            "text/plain": [
              "<Figure size 640x480 with 1 Axes>"
            ],
            "image/png": "[encoded data removed]"
          },
          "metadata": {}
        }
      ]
    },
    {
      "cell_type": "code",
      "source": [
        "X_train, X_test, y_train, y_test = train_test_split(X, y, test_size = 0.2, random_state = 0)\n",
        "\n",
        "X_train.shape, X_test.shape"
      ],
      "metadata": {
        "colab": {
          "base_uri": "https://localhost:8080/"
        },
        "id": "LJsV27TgWPAT",
        "outputId": "5724f612-fe1c-456e-dbdc-3533f9adc54d"
      },
      "execution_count": null,
      "outputs": [
        {
          "output_type": "execute_result",
          "data": {
            "text/plain": [
              "((240, 123), (60, 123))"
            ]
          },
          "metadata": {},
          "execution_count": 25
        }
      ]
    },
    {
      "cell_type": "code",
      "source": [
        "cols = X_train.columns"
      ],
      "metadata": {
        "id": "3gyhLd0Rak9k"
      },
      "execution_count": null,
      "outputs": []
    },
    {
      "cell_type": "code",
      "source": [
        "scaler = StandardScaler()\n",
        "\n",
        "X_train = scaler.fit_transform(X_train)\n",
        "\n",
        "X_test = scaler.transform(X_test)"
      ],
      "metadata": {
        "id": "ieScKMfYXshp"
      },
      "execution_count": null,
      "outputs": []
    },
    {
      "cell_type": "code",
      "source": [
        "X_train = pd.DataFrame(X_train, columns=[cols])"
      ],
      "metadata": {
        "id": "VSpW5XxwaXMf"
      },
      "execution_count": null,
      "outputs": []
    },
    {
      "cell_type": "code",
      "source": [
        "X_test = pd.DataFrame(X_test, columns=[cols])"
      ],
      "metadata": {
        "id": "MDQcDZXXaa7Z"
      },
      "execution_count": null,
      "outputs": []
    },
    {
      "cell_type": "markdown",
      "source": [
        "#Rbf kernel"
      ],
      "metadata": {
        "id": "mv7h95vWct5p"
      }
    },
    {
      "cell_type": "code",
      "source": [
        "svc = SVC()\n",
        "svc.fit(X_train,y_train)\n",
        "\n",
        "y_pred=svc.predict(X_test)\n",
        "print('Model accuracy score with C = 1: {}'.format(accuracy_score(y_test, y_pred)))"
      ],
      "metadata": {
        "id": "6ktlfgwEcbc-",
        "colab": {
          "base_uri": "https://localhost:8080/"
        },
        "outputId": "555d4563-6908-4c62-bd6d-cbc8e06012f9"
      },
      "execution_count": null,
      "outputs": [
        {
          "output_type": "stream",
          "name": "stdout",
          "text": [
            "Model accuracy score with C = 1: 0.8166666666666667\n"
          ]
        }
      ]
    },
    {
      "cell_type": "code",
      "source": [
        "#Checking overfitting and underfitting\n",
        "y_pred_train = svc.predict(X_train)\n",
        "print(accuracy_score(y_train, y_pred_train))"
      ],
      "metadata": {
        "colab": {
          "base_uri": "https://localhost:8080/"
        },
        "id": "_7QhLxJJZpd6",
        "outputId": "c477a89f-7f5a-49ba-e84c-c8545a1a61f0"
      },
      "execution_count": null,
      "outputs": [
        {
          "output_type": "stream",
          "name": "stdout",
          "text": [
            "0.925\n"
          ]
        }
      ]
    },
    {
      "cell_type": "code",
      "source": [
        "X_train.shape"
      ],
      "metadata": {
        "colab": {
          "base_uri": "https://localhost:8080/"
        },
        "id": "Mg4IMk5-t6HS",
        "outputId": "ebb0d8dd-1522-45d2-975c-39dcb39e2488"
      },
      "execution_count": null,
      "outputs": [
        {
          "output_type": "execute_result",
          "data": {
            "text/plain": [
              "(240, 123)"
            ]
          },
          "metadata": {},
          "execution_count": 146
        }
      ]
    },
    {
      "cell_type": "code",
      "source": [
        "svc.support_vectors_.shape"
      ],
      "metadata": {
        "colab": {
          "base_uri": "https://localhost:8080/"
        },
        "id": "hwb_G4gDqDMX",
        "outputId": "9e6bb4a6-2e6a-4185-9e3f-799f75f5167a"
      },
      "execution_count": null,
      "outputs": [
        {
          "output_type": "execute_result",
          "data": {
            "text/plain": [
              "(208, 123)"
            ]
          },
          "metadata": {},
          "execution_count": 147
        }
      ]
    },
    {
      "cell_type": "code",
      "source": [
        "X_embedded = TSNE(n_components = 2).fit_transform(X_test)\n",
        "x_emb = X_embedded[:, 0]\n",
        "y_emb = X_embedded[:, 1]\n",
        "\n",
        "plt.figure(figsize = (12, 5))\n",
        "\n",
        "plt.subplot(1, 2, 1)\n",
        "sns.scatterplot(x = x_emb, y = y_emb, hue = y_pred)\n",
        "\n",
        "plt.subplot(1, 2, 2)\n",
        "sns.scatterplot(x = x_emb, y = y_emb, hue = y_test)"
      ],
      "metadata": {
        "colab": {
          "base_uri": "https://localhost:8080/",
          "height": 466
        },
        "id": "i-6QRcGi2YlS",
        "outputId": "72b878b0-7b7b-4143-fce3-adef24e34107"
      },
      "execution_count": null,
      "outputs": [
        {
          "output_type": "execute_result",
          "data": {
            "text/plain": [
              "<Axes: >"
            ]
          },
          "metadata": {},
          "execution_count": 77
        },
        {
          "output_type": "display_data",
          "data": {
            "text/plain": [
              "<Figure size 1200x500 with 2 Axes>"
            ],
            "image/png": "[encoded data removed]"
          },
          "metadata": {}
        }
      ]
    },
    {
      "cell_type": "code",
      "source": [
        "svc = SVC(C = 2.0)\n",
        "svc.fit(X_train,y_train)\n",
        "\n",
        "y_pred=svc.predict(X_test)\n",
        "print('Model accuracy score with C = 2: {}'.format(accuracy_score(y_test, y_pred)))"
      ],
      "metadata": {
        "colab": {
          "base_uri": "https://localhost:8080/"
        },
        "id": "b20icXA7X2J6",
        "outputId": "734e235e-fa82-40f6-e0fc-089f82fc557d"
      },
      "execution_count": null,
      "outputs": [
        {
          "output_type": "stream",
          "name": "stdout",
          "text": [
            "Model accuracy score with C = 2: 0.8166666666666667\n"
          ]
        }
      ]
    },
    {
      "cell_type": "code",
      "source": [
        "#Checking overfitting and underfitting\n",
        "y_pred_train = svc.predict(X_train)\n",
        "print(accuracy_score(y_train, y_pred_train))"
      ],
      "metadata": {
        "colab": {
          "base_uri": "https://localhost:8080/"
        },
        "id": "pumlQ9ZwXy9P",
        "outputId": "691e4240-c22c-4401-d458-aa9e36ecaad9"
      },
      "execution_count": null,
      "outputs": [
        {
          "output_type": "stream",
          "name": "stdout",
          "text": [
            "0.9708333333333333\n"
          ]
        }
      ]
    },
    {
      "cell_type": "markdown",
      "source": [
        "As we can see, the most reliable model is first with C = 1"
      ],
      "metadata": {
        "id": "8Qg8KFpJZ25_"
      }
    },
    {
      "cell_type": "markdown",
      "source": [
        "#Linear kernel"
      ],
      "metadata": {
        "id": "horDoI4ekm6P"
      }
    },
    {
      "cell_type": "code",
      "source": [
        "linear_svc = SVC(kernel = 'linear')\n",
        "linear_svc.fit(X_train,y_train)\n",
        "y_pred=linear_svc.predict(X_test)\n",
        "print('Model accuracy score with C = 1: {}'.format(accuracy_score(y_test, y_pred)))"
      ],
      "metadata": {
        "colab": {
          "base_uri": "https://localhost:8080/"
        },
        "id": "I665JzW3kmHx",
        "outputId": "3244a2bc-ba1c-4d21-c547-afdb33448b38"
      },
      "execution_count": null,
      "outputs": [
        {
          "output_type": "stream",
          "name": "stdout",
          "text": [
            "Model accuracy score with C = 1: 0.6833333333333333\n"
          ]
        }
      ]
    },
    {
      "cell_type": "code",
      "source": [
        "y_pred_train = linear_svc.predict(X_train)\n",
        "print(accuracy_score(y_train, y_pred_train))"
      ],
      "metadata": {
        "colab": {
          "base_uri": "https://localhost:8080/"
        },
        "id": "qyBm5Q1Na2Pb",
        "outputId": "a0baf388-7c60-44f3-a20a-0d5265090be9"
      },
      "execution_count": null,
      "outputs": [
        {
          "output_type": "stream",
          "name": "stdout",
          "text": [
            "0.9875\n"
          ]
        }
      ]
    },
    {
      "cell_type": "code",
      "source": [
        "linear_svc.support_vectors_.shape"
      ],
      "metadata": {
        "colab": {
          "base_uri": "https://localhost:8080/"
        },
        "id": "y8OioVISxIli",
        "outputId": "0d8f8c48-2897-42b5-9e67-790bc4e425bb"
      },
      "execution_count": null,
      "outputs": [
        {
          "output_type": "execute_result",
          "data": {
            "text/plain": [
              "(93, 123)"
            ]
          },
          "metadata": {},
          "execution_count": 159
        }
      ]
    },
    {
      "cell_type": "code",
      "source": [
        "X_embedded = TSNE(n_components = 2).fit_transform(X_test)\n",
        "x_emb = X_embedded[:, 0]\n",
        "y_emb = X_embedded[:, 1]\n",
        "\n",
        "plt.figure(figsize = (12, 5))\n",
        "\n",
        "plt.subplot(1, 2, 1)\n",
        "sns.scatterplot(x = x_emb, y = y_emb, hue = y_pred)\n",
        "\n",
        "plt.subplot(1, 2, 2)\n",
        "sns.scatterplot(x = x_emb, y = y_emb, hue = y_test)"
      ],
      "metadata": {
        "colab": {
          "base_uri": "https://localhost:8080/",
          "height": 462
        },
        "id": "aVrSPqIm3k2v",
        "outputId": "35fbb879-400c-48ec-a290-cb7f9440592b"
      },
      "execution_count": null,
      "outputs": [
        {
          "output_type": "execute_result",
          "data": {
            "text/plain": [
              "<Axes: >"
            ]
          },
          "metadata": {},
          "execution_count": 83
        },
        {
          "output_type": "display_data",
          "data": {
            "text/plain": [
              "<Figure size 1200x500 with 2 Axes>"
            ],
            "image/png": "[encoded data removed]"
          },
          "metadata": {}
        }
      ]
    },
    {
      "cell_type": "code",
      "source": [
        "linear_svc = SVC(kernel = 'linear', C = 2)\n",
        "linear_svc.fit(X_train,y_train)\n",
        "y_pred=linear_svc.predict(X_test)\n",
        "print('Model accuracy score with C = 2: {}'.format(accuracy_score(y_test, y_pred)))"
      ],
      "metadata": {
        "colab": {
          "base_uri": "https://localhost:8080/"
        },
        "id": "vqvIdHERk6Yh",
        "outputId": "227b31b4-8238-4729-b51a-9fc070593687"
      },
      "execution_count": null,
      "outputs": [
        {
          "output_type": "stream",
          "name": "stdout",
          "text": [
            "Model accuracy score with C = 2: 0.6333333333333333\n"
          ]
        }
      ]
    },
    {
      "cell_type": "code",
      "source": [
        "y_pred_train = linear_svc.predict(X_train)\n",
        "print(accuracy_score(y_train, y_pred_train))"
      ],
      "metadata": {
        "colab": {
          "base_uri": "https://localhost:8080/"
        },
        "id": "xsRqn1lYbGUy",
        "outputId": "7b6409dc-7407-4ed5-ffd1-032b08084469"
      },
      "execution_count": null,
      "outputs": [
        {
          "output_type": "stream",
          "name": "stdout",
          "text": [
            "1.0\n"
          ]
        }
      ]
    },
    {
      "cell_type": "code",
      "source": [
        "linear_svc.support_vectors_.shape"
      ],
      "metadata": {
        "colab": {
          "base_uri": "https://localhost:8080/"
        },
        "id": "x_6O-z3EzPUO",
        "outputId": "cda450d8-21e2-40c2-e893-549a37b83180"
      },
      "execution_count": null,
      "outputs": [
        {
          "output_type": "execute_result",
          "data": {
            "text/plain": [
              "(88, 123)"
            ]
          },
          "metadata": {},
          "execution_count": 72
        }
      ]
    },
    {
      "cell_type": "markdown",
      "source": [
        "Model with C = 1 is the best among other linear kernel models. But this model is weak."
      ],
      "metadata": {
        "id": "qz2wSHuobJYR"
      }
    },
    {
      "cell_type": "markdown",
      "source": [
        "#Polynomial kernel"
      ],
      "metadata": {
        "id": "tBcPxAwWHP9m"
      }
    },
    {
      "cell_type": "code",
      "source": [
        "poly_svc = SVC(kernel = 'poly', C = 1.0)\n",
        "\n",
        "poly_svc.fit(X_train, y_train)\n",
        "y_pred = poly_svc.predict(X_test)\n",
        "\n",
        "print('Model accuracy score with C = 1: {}'.format(accuracy_score(y_test, y_pred)))"
      ],
      "metadata": {
        "colab": {
          "base_uri": "https://localhost:8080/"
        },
        "id": "cXY4scduHPht",
        "outputId": "99b4e8e4-bff1-48db-9fe4-74dc775fdaca"
      },
      "execution_count": null,
      "outputs": [
        {
          "output_type": "stream",
          "name": "stdout",
          "text": [
            "Model accuracy score with C = 1: 0.6833333333333333\n"
          ]
        }
      ]
    },
    {
      "cell_type": "code",
      "source": [
        "y_pred_train = poly_svc.predict(X_train)\n",
        "print(accuracy_score(y_train, y_pred_train))"
      ],
      "metadata": {
        "colab": {
          "base_uri": "https://localhost:8080/"
        },
        "id": "mkZ5sVkKdYek",
        "outputId": "89fd4d40-4a34-4ddb-b91a-f4c1b2527f01"
      },
      "execution_count": null,
      "outputs": [
        {
          "output_type": "stream",
          "name": "stdout",
          "text": [
            "0.7583333333333333\n"
          ]
        }
      ]
    },
    {
      "cell_type": "code",
      "source": [
        "poly_svc_best = SVC(kernel = 'poly', C = 4.0)\n",
        "\n",
        "poly_svc_best.fit(X_train, y_train)\n",
        "y_pred_poly_best = poly_svc_best.predict(X_test)\n",
        "\n",
        "print('Model accuracy score with C = 4: {}'.format(accuracy_score(y_test, y_pred_poly_best)))"
      ],
      "metadata": {
        "colab": {
          "base_uri": "https://localhost:8080/"
        },
        "id": "5Sz-hFVlIdIq",
        "outputId": "da9bb45b-e263-442e-bb89-9c09e87a5bfc"
      },
      "execution_count": null,
      "outputs": [
        {
          "output_type": "stream",
          "name": "stdout",
          "text": [
            "Model accuracy score with C = 4: 0.85\n"
          ]
        }
      ]
    },
    {
      "cell_type": "code",
      "source": [
        "y_pred_train = poly_svc_best.predict(X_train)\n",
        "\n",
        "print(accuracy_score(y_train, y_pred_train))"
      ],
      "metadata": {
        "colab": {
          "base_uri": "https://localhost:8080/"
        },
        "id": "0MwxbrnkI1st",
        "outputId": "8e8d4638-6314-4be9-9cfe-2d642487e6af"
      },
      "execution_count": null,
      "outputs": [
        {
          "output_type": "stream",
          "name": "stdout",
          "text": [
            "0.9875\n"
          ]
        }
      ]
    },
    {
      "cell_type": "code",
      "source": [
        "X_embedded = TSNE(n_components = 2).fit_transform(X_test)\n",
        "x_emb = X_embedded[:, 0]\n",
        "y_emb = X_embedded[:, 1]\n",
        "\n",
        "plt.figure(figsize = (12, 5))\n",
        "\n",
        "plt.subplot(1, 2, 1)\n",
        "sns.scatterplot(x = x_emb, y = y_emb, hue = y_pred_poly_best)\n",
        "\n",
        "plt.subplot(1, 2, 2)\n",
        "sns.scatterplot(x = x_emb, y = y_emb, hue = y_test)"
      ],
      "metadata": {
        "colab": {
          "base_uri": "https://localhost:8080/",
          "height": 462
        },
        "id": "u63oe-aO4i-p",
        "outputId": "19b33c78-bc2c-41a7-9ace-1920bf3730af"
      },
      "execution_count": null,
      "outputs": [
        {
          "output_type": "execute_result",
          "data": {
            "text/plain": [
              "<Axes: >"
            ]
          },
          "metadata": {},
          "execution_count": 91
        },
        {
          "output_type": "display_data",
          "data": {
            "text/plain": [
              "<Figure size 1200x500 with 2 Axes>"
            ],
            "image/png": "[encoded data removed]"
          },
          "metadata": {}
        }
      ]
    },
    {
      "cell_type": "code",
      "source": [
        "poly_svc = SVC(kernel = 'poly', C = 5.0)\n",
        "\n",
        "poly_svc.fit(X_train, y_train)\n",
        "y_pred = poly_svc.predict(X_test)\n",
        "\n",
        "print('Model accuracy score with C = 5: {}'.format(accuracy_score(y_test, y_pred)))"
      ],
      "metadata": {
        "colab": {
          "base_uri": "https://localhost:8080/"
        },
        "id": "sPU3yVxcIxsy",
        "outputId": "ebc8cd6d-69c8-4e3a-fbb4-2e63d259e7d2"
      },
      "execution_count": null,
      "outputs": [
        {
          "output_type": "stream",
          "name": "stdout",
          "text": [
            "Model accuracy score with C = 5: 0.85\n"
          ]
        }
      ]
    },
    {
      "cell_type": "code",
      "source": [
        "y_pred_train = poly_svc.predict(X_train)\n",
        "\n",
        "print(accuracy_score(y_train, y_pred_train))"
      ],
      "metadata": {
        "colab": {
          "base_uri": "https://localhost:8080/"
        },
        "id": "8ikoYwdOdky-",
        "outputId": "9b235280-2038-42ac-c019-58dc528fe294"
      },
      "execution_count": null,
      "outputs": [
        {
          "output_type": "stream",
          "name": "stdout",
          "text": [
            "0.9916666666666667\n"
          ]
        }
      ]
    },
    {
      "cell_type": "markdown",
      "source": [
        "Last model is overfitted,\n",
        "hence best score for model with C = 4"
      ],
      "metadata": {
        "id": "8MY5pYw7JRjB"
      }
    },
    {
      "cell_type": "markdown",
      "source": [
        "#Sigmoid kernel"
      ],
      "metadata": {
        "id": "t7JQnB9DJXWQ"
      }
    },
    {
      "cell_type": "code",
      "source": [
        "sigmoid_svc_best = SVC(kernel = 'sigmoid', C = 1.0)\n",
        "\n",
        "sigmoid_svc_best.fit(X_train, y_train)\n",
        "y_pred_sigmoid_best = sigmoid_svc_best.predict(X_test)\n",
        "\n",
        "print('Model accuracy score with C = 1: {}'.format(accuracy_score(y_test, y_pred_sigmoid_best)))"
      ],
      "metadata": {
        "colab": {
          "base_uri": "https://localhost:8080/"
        },
        "id": "7DiYR6J8J_Xd",
        "outputId": "1a79b311-46e4-488f-9cf0-560f27e1f8ea"
      },
      "execution_count": null,
      "outputs": [
        {
          "output_type": "stream",
          "name": "stdout",
          "text": [
            "Model accuracy score with C = 1: 0.85\n"
          ]
        }
      ]
    },
    {
      "cell_type": "code",
      "source": [
        "X_embedded = TSNE(n_components = 2).fit_transform(X_test)\n",
        "x_emb = X_embedded[:, 0]\n",
        "y_emb = X_embedded[:, 1]\n",
        "\n",
        "plt.figure(figsize = (12, 5))\n",
        "\n",
        "plt.subplot(1, 2, 1)\n",
        "sns.scatterplot(x = x_emb, y = y_emb, hue = y_pred_sigmoid_best)\n",
        "\n",
        "plt.subplot(1, 2, 2)\n",
        "sns.scatterplot(x = x_emb, y = y_emb, hue = y_test)"
      ],
      "metadata": {
        "colab": {
          "base_uri": "https://localhost:8080/",
          "height": 466
        },
        "id": "an1ovjRa49ya",
        "outputId": "607e2a07-50f1-4366-a649-2d332193ae27"
      },
      "execution_count": null,
      "outputs": [
        {
          "output_type": "execute_result",
          "data": {
            "text/plain": [
              "<Axes: >"
            ]
          },
          "metadata": {},
          "execution_count": 172
        },
        {
          "output_type": "display_data",
          "data": {
            "text/plain": [
              "<Figure size 1200x500 with 2 Axes>"
            ],
            "image/png": "[encoded data removed]"
          },
          "metadata": {}
        }
      ]
    },
    {
      "cell_type": "code",
      "source": [
        "sigmoid_svc = SVC(kernel = 'sigmoid', C = 2)\n",
        "\n",
        "sigmoid_svc.fit(X_train, y_train)\n",
        "y_pred = sigmoid_svc.predict(X_test)\n",
        "\n",
        "print('Model accuracy score with C = 1: {}'.format(accuracy_score(y_test, y_pred)))"
      ],
      "metadata": {
        "colab": {
          "base_uri": "https://localhost:8080/"
        },
        "id": "8pzWrcj4LUIb",
        "outputId": "fbe32120-aeba-426c-aeb3-53f2a0c43d8d"
      },
      "execution_count": null,
      "outputs": [
        {
          "output_type": "stream",
          "name": "stdout",
          "text": [
            "Model accuracy score with C = 1: 0.8166666666666667\n"
          ]
        }
      ]
    },
    {
      "cell_type": "code",
      "source": [
        "y_pred_train = poly_svc.predict(X_train)\n",
        "\n",
        "print(accuracy_score(y_train, y_pred_train))"
      ],
      "metadata": {
        "colab": {
          "base_uri": "https://localhost:8080/"
        },
        "id": "KcDlRF3ULqfC",
        "outputId": "99fed329-5d38-4ef5-fb53-7f76ce96b8db"
      },
      "execution_count": null,
      "outputs": [
        {
          "output_type": "stream",
          "name": "stdout",
          "text": [
            "0.9916666666666667\n"
          ]
        }
      ]
    },
    {
      "cell_type": "markdown",
      "source": [
        "Best score is shown by model with C = 1"
      ],
      "metadata": {
        "id": "wpNj4YrSLxN9"
      }
    },
    {
      "cell_type": "markdown",
      "source": [
        "Best Scores:\n",
        "\n",
        "Sigmoid:\n",
        "  test = 0.85\n",
        "  train = 0.99167\n",
        "\n",
        "Poly:\n",
        "  test = 0.85\n",
        "  train = 0.929167\n",
        "\n",
        "Linear:\n",
        "  test = 0.6833\n",
        "  train = 0.9875\n",
        "\n",
        "RBF:\n",
        "  test = 0.816\n",
        "  train = 0.925\n",
        "\n",
        "\n",
        "Let's choose two best models (it's models with sigmoid and poly kernels). And let's move to metrics evaluations. And choose the best model."
      ],
      "metadata": {
        "id": "ZkSh4AtXf3Ga"
      }
    },
    {
      "cell_type": "markdown",
      "source": [
        "#Metrics"
      ],
      "metadata": {
        "id": "qKfTkOabPcTp"
      }
    },
    {
      "cell_type": "code",
      "source": [
        "# y_pred_poly_best\n",
        "# y_pred_sigmoid_best\n",
        "\n",
        "cm_poly = confusion_matrix(y_test, y_pred_poly_best)\n",
        "cm_sigmoid = confusion_matrix(y_test, y_pred_sigmoid_best)\n",
        "\n",
        "print('Confusion matrix with poly kernel\\n\\n', cm_poly)\n",
        "\n",
        "print('\\n\\nConfusion matrix with sigmoid kernel\\n\\n', cm_sigmoid)\n"
      ],
      "metadata": {
        "colab": {
          "base_uri": "https://localhost:8080/"
        },
        "id": "sJKUvZ1YL_3h",
        "outputId": "5492d6c9-142f-426a-c364-5d6883a09e73"
      },
      "execution_count": null,
      "outputs": [
        {
          "output_type": "stream",
          "name": "stdout",
          "text": [
            "Confusion matrix with poly kernel\n",
            "\n",
            " [[16  6]\n",
            " [ 3 35]]\n",
            "\n",
            "\n",
            "Confusion matrix with sigmoid kernel\n",
            "\n",
            " [[14  8]\n",
            " [ 1 37]]\n"
          ]
        }
      ]
    },
    {
      "cell_type": "code",
      "source": [
        "TP_p = cm_poly[0,0]\n",
        "TN_p = cm_poly[1,1]\n",
        "FP_p = cm_poly[0,1]\n",
        "FN_p = cm_poly[1,0]\n",
        "\n",
        "TP_s = cm_sigmoid[0,0]\n",
        "TN_s = cm_sigmoid[1,1]\n",
        "FP_s = cm_sigmoid[0,1]\n",
        "FN_s = cm_sigmoid[1,0]\n"
      ],
      "metadata": {
        "id": "n8svOFX8Qddk"
      },
      "execution_count": null,
      "outputs": []
    },
    {
      "cell_type": "code",
      "source": [
        "print(classification_report(y_test, y_pred_poly_best))"
      ],
      "metadata": {
        "colab": {
          "base_uri": "https://localhost:8080/"
        },
        "id": "O_6tSEUqQ4wo",
        "outputId": "6ab02f5c-7a1e-4d78-9c2c-ec3068543fe7"
      },
      "execution_count": null,
      "outputs": [
        {
          "output_type": "stream",
          "name": "stdout",
          "text": [
            "              precision    recall  f1-score   support\n",
            "\n",
            "           0       0.84      0.73      0.78        22\n",
            "           1       0.85      0.92      0.89        38\n",
            "\n",
            "    accuracy                           0.85        60\n",
            "   macro avg       0.85      0.82      0.83        60\n",
            "weighted avg       0.85      0.85      0.85        60\n",
            "\n"
          ]
        }
      ]
    },
    {
      "cell_type": "code",
      "source": [
        "print(classification_report(y_test, y_pred_sigmoid_best))"
      ],
      "metadata": {
        "colab": {
          "base_uri": "https://localhost:8080/"
        },
        "id": "2hfxoFwnwFaH",
        "outputId": "d87cbde5-e760-4531-93d6-8f227217c2c7"
      },
      "execution_count": null,
      "outputs": [
        {
          "output_type": "stream",
          "name": "stdout",
          "text": [
            "              precision    recall  f1-score   support\n",
            "\n",
            "           0       0.93      0.64      0.76        22\n",
            "           1       0.82      0.97      0.89        38\n",
            "\n",
            "    accuracy                           0.85        60\n",
            "   macro avg       0.88      0.81      0.82        60\n",
            "weighted avg       0.86      0.85      0.84        60\n",
            "\n"
          ]
        }
      ]
    },
    {
      "cell_type": "code",
      "source": [
        "classification_accuracy = (TP_p + TN_p) / float(TP_p + TN_p + FP_p + FN_p)\n",
        "print('Classification accuracy (poly) : {}'.format(classification_accuracy))\n",
        "\n",
        "classification_accuracy = (TP_s + TN_s) / float(TP_s + TN_s + FP_s + FN_s)\n",
        "print('\\nClassification accuracy (sigmoid) : {}'.format(classification_accuracy))"
      ],
      "metadata": {
        "colab": {
          "base_uri": "https://localhost:8080/"
        },
        "id": "N_rZPiVQXcZz",
        "outputId": "b442f4cc-8db0-4328-86c5-2be0edece255"
      },
      "execution_count": null,
      "outputs": [
        {
          "output_type": "stream",
          "name": "stdout",
          "text": [
            "Classification accuracy (poly) : 0.85\n",
            "\n",
            "Classification accuracy (sigmoid) : 0.85\n"
          ]
        }
      ]
    },
    {
      "cell_type": "code",
      "source": [
        "classification_error = (FP_p + FN_p) / float(TP_p + TN_p + FP_p + FN_p)\n",
        "print('Classification error : {}'.format(classification_error))\n",
        "\n",
        "classification_error = (FP_s + FN_s) / float(TP_s + TN_s + FP_s + FN_s)\n",
        "print('Classification error : {}'.format(classification_error))"
      ],
      "metadata": {
        "colab": {
          "base_uri": "https://localhost:8080/"
        },
        "id": "uaea6gskXoGN",
        "outputId": "cd512286-67f0-4b7f-ee23-59571eb404bb"
      },
      "execution_count": null,
      "outputs": [
        {
          "output_type": "stream",
          "name": "stdout",
          "text": [
            "Classification error : 0.15\n",
            "Classification error : 0.15\n"
          ]
        }
      ]
    },
    {
      "cell_type": "markdown",
      "source": [
        "True Positive Rate (Recall)"
      ],
      "metadata": {
        "id": "gwaM49Y1K-WG"
      }
    },
    {
      "cell_type": "code",
      "source": [
        "true_positive_rate = TP_p / float(TP_p + FN_p)\n",
        "print('True Positive Rate : {0:0.4f}'.format(true_positive_rate))\n",
        "\n",
        "true_positive_rate = TP_s / float(TP_s + FN_s)\n",
        "print('True Positive Rate : {0:0.4f}'.format(true_positive_rate))"
      ],
      "metadata": {
        "colab": {
          "base_uri": "https://localhost:8080/"
        },
        "id": "f_g1csgWLCKy",
        "outputId": "722fb042-f687-471b-ab83-f37c90d57d61"
      },
      "execution_count": null,
      "outputs": [
        {
          "output_type": "stream",
          "name": "stdout",
          "text": [
            "True Positive Rate : 0.8421\n",
            "True Positive Rate : 0.9333\n"
          ]
        }
      ]
    },
    {
      "cell_type": "markdown",
      "source": [
        "False Positive Rate\n",
        "\n"
      ],
      "metadata": {
        "id": "10p7_7y4LyQ-"
      }
    },
    {
      "cell_type": "code",
      "source": [
        "false_positive_rate = FP_p / float(FP_p + TN_p)\n",
        "print('False Positive Rate : {0:0.4f}'.format(false_positive_rate))\n",
        "\n",
        "false_positive_rate = FP_s / float(FP_s + TN_s)\n",
        "print('False Positive Rate : {0:0.4f}'.format(false_positive_rate))"
      ],
      "metadata": {
        "colab": {
          "base_uri": "https://localhost:8080/"
        },
        "id": "krJoDQT4L2mI",
        "outputId": "24f6d892-8879-4604-da28-37f4f11993cf"
      },
      "execution_count": null,
      "outputs": [
        {
          "output_type": "stream",
          "name": "stdout",
          "text": [
            "False Positive Rate : 0.1463\n",
            "False Positive Rate : 0.1778\n"
          ]
        }
      ]
    },
    {
      "cell_type": "markdown",
      "source": [
        "Specificity"
      ],
      "metadata": {
        "id": "nkpucqmwMM_f"
      }
    },
    {
      "cell_type": "code",
      "source": [
        "specificity = TN_p / (TN_p + FP_p)\n",
        "print('Specificity : {0:0.4f}'.format(specificity))\n",
        "\n",
        "specificity = TN_s / (TN_s + FP_s)\n",
        "print('Specificity : {0:0.4f}'.format(specificity))"
      ],
      "metadata": {
        "colab": {
          "base_uri": "https://localhost:8080/"
        },
        "id": "LlthdsOcMJFo",
        "outputId": "3e298204-83be-47bd-e55d-e9928fd281b1"
      },
      "execution_count": null,
      "outputs": [
        {
          "output_type": "stream",
          "name": "stdout",
          "text": [
            "Specificity : 0.8537\n",
            "Specificity : 0.8222\n"
          ]
        }
      ]
    },
    {
      "cell_type": "code",
      "source": [
        "fpr, tpr, thresholds = roc_curve(y_test, y_pred_poly_best)\n",
        "\n",
        "plt.figure(figsize=(6,4))\n",
        "\n",
        "plt.plot(fpr, tpr, linewidth=2)\n",
        "\n",
        "plt.plot([0,1], [0,1], 'k--' )\n",
        "\n",
        "plt.rcParams['font.size'] = 12\n",
        "\n",
        "plt.title('ROC curve')\n",
        "\n",
        "plt.xlabel('False Positive Rate (1 - Specificity)')\n",
        "\n",
        "plt.ylabel('True Positive Rate (Sensitivity)')\n",
        "\n",
        "plt.show()"
      ],
      "metadata": {
        "colab": {
          "base_uri": "https://localhost:8080/",
          "height": 411
        },
        "id": "l08VxmW6RGGC",
        "outputId": "ee3cb42a-6b1d-4284-a4fb-fc223fc75a05"
      },
      "execution_count": null,
      "outputs": [
        {
          "output_type": "display_data",
          "data": {
            "text/plain": [
              "<Figure size 600x400 with 1 Axes>"
            ],
            "image/png": "[encoded data removed]"
          },
          "metadata": {}
        }
      ]
    },
    {
      "cell_type": "code",
      "source": [
        "fpr, tpr, thresholds = roc_curve(y_test, y_pred_sigmoid_best)\n",
        "\n",
        "plt.figure(figsize=(6,4))\n",
        "\n",
        "plt.plot(fpr, tpr, linewidth=2)\n",
        "\n",
        "plt.plot([0,1], [0,1], 'k--' )\n",
        "\n",
        "plt.rcParams['font.size'] = 12\n",
        "\n",
        "plt.title('ROC curve')\n",
        "\n",
        "plt.xlabel('False Positive Rate (1 - Specificity)')\n",
        "\n",
        "plt.ylabel('True Positive Rate (Sensitivity)')\n",
        "\n",
        "plt.show()"
      ],
      "metadata": {
        "colab": {
          "base_uri": "https://localhost:8080/",
          "height": 419
        },
        "id": "fWJQbPx1xmHW",
        "outputId": "47ca455e-4ff4-4a7a-f6aa-ad47ef731103"
      },
      "execution_count": null,
      "outputs": [
        {
          "output_type": "display_data",
          "data": {
            "text/plain": [
              "<Figure size 600x400 with 1 Axes>"
            ],
            "image/png": "[encoded data removed]"
          },
          "metadata": {}
        }
      ]
    },
    {
      "cell_type": "code",
      "source": [
        "fpr, tpr"
      ],
      "metadata": {
        "colab": {
          "base_uri": "https://localhost:8080/"
        },
        "id": "hmwW-tiNRuM1",
        "outputId": "0f05941a-9d85-4e11-efc5-e3cff9128289"
      },
      "execution_count": null,
      "outputs": [
        {
          "output_type": "execute_result",
          "data": {
            "text/plain": [
              "(array([0.        , 0.36363636, 1.        ]),\n",
              " array([0.        , 0.97368421, 1.        ]))"
            ]
          },
          "metadata": {},
          "execution_count": 109
        }
      ]
    },
    {
      "cell_type": "code",
      "source": [
        "ROC_AUC = roc_auc_score(y_test, y_pred_poly_best)\n",
        "print('ROC AUC (poly) : {:.4f}'.format(ROC_AUC))\n",
        "\n",
        "ROC_AUC = roc_auc_score(y_test, y_pred_sigmoid_best)\n",
        "print('ROC AUC (sigmoid) : {:.4f}'.format(ROC_AUC))"
      ],
      "metadata": {
        "colab": {
          "base_uri": "https://localhost:8080/"
        },
        "id": "g0yldWFzV6br",
        "outputId": "6b30019a-92c5-4a8d-dbbd-ad71ccd7e73c"
      },
      "execution_count": null,
      "outputs": [
        {
          "output_type": "stream",
          "name": "stdout",
          "text": [
            "ROC AUC (poly) : 0.8242\n",
            "ROC AUC (sigmoid) : 0.8050\n"
          ]
        }
      ]
    },
    {
      "cell_type": "code",
      "source": [
        "Cross_validated_ROC_AUC = cross_val_score(poly_svc_best, X, y, cv=10, scoring='roc_auc').mean()\n",
        "print('Cross validated ROC AUC (poly) : {:.4f}'.format(Cross_validated_ROC_AUC))\n",
        "\n",
        "Cross_validated_ROC_AUC = cross_val_score(sigmoid_svc_best, X, y, cv=10, scoring='roc_auc').mean()\n",
        "print('Cross validated ROC AUC (sigmoid): {:.4f}'.format(Cross_validated_ROC_AUC))"
      ],
      "metadata": {
        "colab": {
          "base_uri": "https://localhost:8080/"
        },
        "id": "NaZWq1DORXqq",
        "outputId": "b0531a1d-4e4e-42b4-fbc0-a07f3b62d033"
      },
      "execution_count": null,
      "outputs": [
        {
          "output_type": "stream",
          "name": "stdout",
          "text": [
            "Cross validated ROC AUC (poly) : 0.7171\n",
            "Cross validated ROC AUC (sigmoid): 0.4528\n"
          ]
        }
      ]
    },
    {
      "cell_type": "markdown",
      "source": [
        "we see that on the straight roc auc score poly is better, but using cross validation we expose that sigmoid has better results"
      ],
      "metadata": {
        "id": "AF4XNiFN0QNd"
      }
    },
    {
      "cell_type": "code",
      "source": [
        "# Стратифицированная классификация проводится, если обьем таргетов не пропорционален (это не то немного)\n",
        "y_test.value_counts()\n",
        "y_train.value_counts()"
      ],
      "metadata": {
        "colab": {
          "base_uri": "https://localhost:8080/"
        },
        "id": "ylKxI8lhbu8H",
        "outputId": "0df99ada-6edb-45e7-f278-962851ce40c8"
      },
      "execution_count": null,
      "outputs": [
        {
          "output_type": "execute_result",
          "data": {
            "text/plain": [
              "1    142\n",
              "0     98\n",
              "Name: surgery?_1, dtype: int64"
            ]
          },
          "metadata": {},
          "execution_count": 112
        }
      ]
    },
    {
      "cell_type": "code",
      "source": [
        "kfold = KFold(n_splits = 5, shuffle = True, random_state = 0)\n",
        "\n",
        "poly_scores = cross_val_score(poly_svc_best, X, y, cv=kfold)\n",
        "\n",
        "sigmoid_scores = cross_val_score(sigmoid_svc_best, X, y, cv=kfold)"
      ],
      "metadata": {
        "id": "Z7cqnkxtxOUa"
      },
      "execution_count": null,
      "outputs": []
    },
    {
      "cell_type": "code",
      "source": [
        "poly_scores.mean()"
      ],
      "metadata": {
        "colab": {
          "base_uri": "https://localhost:8080/"
        },
        "id": "VpquDD2913Sx",
        "outputId": "63b379a9-bb16-4a7b-b180-7769647a8aa2"
      },
      "execution_count": null,
      "outputs": [
        {
          "output_type": "execute_result",
          "data": {
            "text/plain": [
              "0.6"
            ]
          },
          "metadata": {},
          "execution_count": 114
        }
      ]
    },
    {
      "cell_type": "code",
      "source": [
        "sigmoid_scores.mean()"
      ],
      "metadata": {
        "colab": {
          "base_uri": "https://localhost:8080/"
        },
        "id": "UcL97gVm13MJ",
        "outputId": "68465186-020b-4d4a-9ff0-3685ca21b42a"
      },
      "execution_count": null,
      "outputs": [
        {
          "output_type": "execute_result",
          "data": {
            "text/plain": [
              "0.5333333333333334"
            ]
          },
          "metadata": {},
          "execution_count": 115
        }
      ]
    },
    {
      "cell_type": "markdown",
      "source": [
        "Grid Search"
      ],
      "metadata": {
        "id": "wKldlV3G1dAx"
      }
    },
    {
      "cell_type": "code",
      "source": [
        "svc=SVC()\n",
        "\n",
        "\n",
        "parameters = [ {'C':[1, 2, 3,4, 5, 10], 'kernel':['linear']},\n",
        "               {'C':[1, 2, 3,4, 5, 10], 'kernel':['rbf'], 'gamma':[0.1, 0.2, 0.3, 0.4, 0.5, 0.6, 0.7, 0.8, 0.9]},\n",
        "               {'C':[1, 2, 3,4, 5, 10], 'kernel':['poly'], 'degree': [2,3,4] ,'gamma':[0.01,0.02,0.03,0.04,0.05]},\n",
        "               {'C':[1, 2, 3,4, 5, 10], 'kernel':['sigmoid'], 'degree': [2,3,4] ,'gamma':[0.01,0.02,0.03,0.04,0.05]}\n",
        "              ]\n",
        "\n",
        "grid_search = GridSearchCV(estimator = svc,\n",
        "                           param_grid = parameters,\n",
        "                           scoring = 'accuracy',\n",
        "                           cv = 5,\n",
        "                           verbose=0)\n",
        "\n",
        "grid_search.fit(X_train, y_train)"
      ],
      "metadata": {
        "colab": {
          "base_uri": "https://localhost:8080/",
          "height": 115
        },
        "id": "Aa7_HxJ41csv",
        "outputId": "7d5a8ce4-e463-49a7-a335-07de952d2760"
      },
      "execution_count": null,
      "outputs": [
        {
          "output_type": "execute_result",
          "data": {
            "text/plain": [
              "GridSearchCV(cv=5, estimator=SVC(),\n",
              "             param_grid=[{'C': [1, 2, 3, 4, 5, 10], 'kernel': ['linear']},\n",
              "                         {'C': [1, 2, 3, 4, 5, 10],\n",
              "                          'gamma': [0.1, 0.2, 0.3, 0.4, 0.5, 0.6, 0.7, 0.8,\n",
              "                                    0.9],\n",
              "                          'kernel': ['rbf']},\n",
              "                         {'C': [1, 2, 3, 4, 5, 10], 'degree': [2, 3, 4],\n",
              "                          'gamma': [0.01, 0.02, 0.03, 0.04, 0.05],\n",
              "                          'kernel': ['poly']},\n",
              "                         {'C': [1, 2, 3, 4, 5, 10], 'degree': [2, 3, 4],\n",
              "                          'gamma': [0.01, 0.02, 0.03, 0.04, 0.05],\n",
              "                          'kernel': ['sigmoid']}],\n",
              "             scoring='accuracy')"
            ],
            "text/html": [
              "<style>#sk-container-id-1 {color: black;background-color: white;}#sk-container-id-1 pre{padding: 0;}#sk-container-id-1 div.sk-toggleable {background-color: white;}#sk-container-id-1 label.sk-toggleable__label {cursor: pointer;display: block;width: 100%;margin-bottom: 0;padding: 0.3em;box-sizing: border-box;text-align: center;}#sk-container-id-1 label.sk-toggleable__label-arrow:before {content: \"▸\";float: left;margin-right: 0.25em;color: #696969;}#sk-container-id-1 label.sk-toggleable__label-arrow:hover:before {color: black;}#sk-container-id-1 div.sk-estimator:hover label.sk-toggleable__label-arrow:before {color: black;}#sk-container-id-1 div.sk-toggleable__content {max-height: 0;max-width: 0;overflow: hidden;text-align: left;background-color: #f0f8ff;}#sk-container-id-1 div.sk-toggleable__content pre {margin: 0.2em;color: black;border-radius: 0.25em;background-color: #f0f8ff;}#sk-container-id-1 input.sk-toggleable__control:checked~div.sk-toggleable__content {max-height: 200px;max-width: 100%;overflow: auto;}#sk-container-id-1 input.sk-toggleable__control:checked~label.sk-toggleable__label-arrow:before {content: \"▾\";}#sk-container-id-1 div.sk-estimator input.sk-toggleable__control:checked~label.sk-toggleable__label {background-color: #d4ebff;}#sk-container-id-1 div.sk-label input.sk-toggleable__control:checked~label.sk-toggleable__label {background-color: #d4ebff;}#sk-container-id-1 input.sk-hidden--visually {border: 0;clip: rect(1px 1px 1px 1px);clip: rect(1px, 1px, 1px, 1px);height: 1px;margin: -1px;overflow: hidden;padding: 0;position: absolute;width: 1px;}#sk-container-id-1 div.sk-estimator {font-family: monospace;background-color: #f0f8ff;border: 1px dotted black;border-radius: 0.25em;box-sizing: border-box;margin-bottom: 0.5em;}#sk-container-id-1 div.sk-estimator:hover {background-color: #d4ebff;}#sk-container-id-1 div.sk-parallel-item::after {content: \"\";width: 100%;border-bottom: 1px solid gray;flex-grow: 1;}#sk-container-id-1 div.sk-label:hover label.sk-toggleable__label {background-color: #d4ebff;}#sk-container-id-1 div.sk-serial::before {content: \"\";position: absolute;border-left: 1px solid gray;box-sizing: border-box;top: 0;bottom: 0;left: 50%;z-index: 0;}#sk-container-id-1 div.sk-serial {display: flex;flex-direction: column;align-items: center;background-color: white;padding-right: 0.2em;padding-left: 0.2em;position: relative;}#sk-container-id-1 div.sk-item {position: relative;z-index: 1;}#sk-container-id-1 div.sk-parallel {display: flex;align-items: stretch;justify-content: center;background-color: white;position: relative;}#sk-container-id-1 div.sk-item::before, #sk-container-id-1 div.sk-parallel-item::before {content: \"\";position: absolute;border-left: 1px solid gray;box-sizing: border-box;top: 0;bottom: 0;left: 50%;z-index: -1;}#sk-container-id-1 div.sk-parallel-item {display: flex;flex-direction: column;z-index: 1;position: relative;background-color: white;}#sk-container-id-1 div.sk-parallel-item:first-child::after {align-self: flex-end;width: 50%;}#sk-container-id-1 div.sk-parallel-item:last-child::after {align-self: flex-start;width: 50%;}#sk-container-id-1 div.sk-parallel-item:only-child::after {width: 0;}#sk-container-id-1 div.sk-dashed-wrapped {border: 1px dashed gray;margin: 0 0.4em 0.5em 0.4em;box-sizing: border-box;padding-bottom: 0.4em;background-color: white;}#sk-container-id-1 div.sk-label label {font-family: monospace;font-weight: bold;display: inline-block;line-height: 1.2em;}#sk-container-id-1 div.sk-label-container {text-align: center;}#sk-container-id-1 div.sk-container {/* jupyter's `normalize.less` sets `[hidden] { display: none; }` but bootstrap.min.css set `[hidden] { display: none !important; }` so we also need the `!important` here to be able to override the default hidden behavior on the sphinx rendered scikit-learn.org. See: https://github.com/scikit-learn/scikit-learn/issues/21755 */display: inline-block !important;position: relative;}#sk-container-id-1 div.sk-text-repr-fallback {display: none;}</style><div id=\"sk-container-id-1\" class=\"sk-top-container\"><div class=\"sk-text-repr-fallback\"><pre>GridSearchCV(cv=5, estimator=SVC(),\n",
              "             param_grid=[{&#x27;C&#x27;: [1, 2, 3, 4, 5, 10], &#x27;kernel&#x27;: [&#x27;linear&#x27;]},\n",
              "                         {&#x27;C&#x27;: [1, 2, 3, 4, 5, 10],\n",
              "                          &#x27;gamma&#x27;: [0.1, 0.2, 0.3, 0.4, 0.5, 0.6, 0.7, 0.8,\n",
              "                                    0.9],\n",
              "                          &#x27;kernel&#x27;: [&#x27;rbf&#x27;]},\n",
              "                         {&#x27;C&#x27;: [1, 2, 3, 4, 5, 10], &#x27;degree&#x27;: [2, 3, 4],\n",
              "                          &#x27;gamma&#x27;: [0.01, 0.02, 0.03, 0.04, 0.05],\n",
              "                          &#x27;kernel&#x27;: [&#x27;poly&#x27;]},\n",
              "                         {&#x27;C&#x27;: [1, 2, 3, 4, 5, 10], &#x27;degree&#x27;: [2, 3, 4],\n",
              "                          &#x27;gamma&#x27;: [0.01, 0.02, 0.03, 0.04, 0.05],\n",
              "                          &#x27;kernel&#x27;: [&#x27;sigmoid&#x27;]}],\n",
              "             scoring=&#x27;accuracy&#x27;)</pre><b>In a Jupyter environment, please rerun this cell to show the HTML representation or trust the notebook. <br />On GitHub, the HTML representation is unable to render, please try loading this page with nbviewer.org.</b></div><div class=\"sk-container\" hidden><div class=\"sk-item sk-dashed-wrapped\"><div class=\"sk-label-container\"><div class=\"sk-label sk-toggleable\"><input class=\"sk-toggleable__control sk-hidden--visually\" id=\"sk-estimator-id-1\" type=\"checkbox\" ><label for=\"sk-estimator-id-1\" class=\"sk-toggleable__label sk-toggleable__label-arrow\">GridSearchCV</label><div class=\"sk-toggleable__content\"><pre>GridSearchCV(cv=5, estimator=SVC(),\n",
              "             param_grid=[{&#x27;C&#x27;: [1, 2, 3, 4, 5, 10], &#x27;kernel&#x27;: [&#x27;linear&#x27;]},\n",
              "                         {&#x27;C&#x27;: [1, 2, 3, 4, 5, 10],\n",
              "                          &#x27;gamma&#x27;: [0.1, 0.2, 0.3, 0.4, 0.5, 0.6, 0.7, 0.8,\n",
              "                                    0.9],\n",
              "                          &#x27;kernel&#x27;: [&#x27;rbf&#x27;]},\n",
              "                         {&#x27;C&#x27;: [1, 2, 3, 4, 5, 10], &#x27;degree&#x27;: [2, 3, 4],\n",
              "                          &#x27;gamma&#x27;: [0.01, 0.02, 0.03, 0.04, 0.05],\n",
              "                          &#x27;kernel&#x27;: [&#x27;poly&#x27;]},\n",
              "                         {&#x27;C&#x27;: [1, 2, 3, 4, 5, 10], &#x27;degree&#x27;: [2, 3, 4],\n",
              "                          &#x27;gamma&#x27;: [0.01, 0.02, 0.03, 0.04, 0.05],\n",
              "                          &#x27;kernel&#x27;: [&#x27;sigmoid&#x27;]}],\n",
              "             scoring=&#x27;accuracy&#x27;)</pre></div></div></div><div class=\"sk-parallel\"><div class=\"sk-parallel-item\"><div class=\"sk-item\"><div class=\"sk-label-container\"><div class=\"sk-label sk-toggleable\"><input class=\"sk-toggleable__control sk-hidden--visually\" id=\"sk-estimator-id-2\" type=\"checkbox\" ><label for=\"sk-estimator-id-2\" class=\"sk-toggleable__label sk-toggleable__label-arrow\">estimator: SVC</label><div class=\"sk-toggleable__content\"><pre>SVC()</pre></div></div></div><div class=\"sk-serial\"><div class=\"sk-item\"><div class=\"sk-estimator sk-toggleable\"><input class=\"sk-toggleable__control sk-hidden--visually\" id=\"sk-estimator-id-3\" type=\"checkbox\" ><label for=\"sk-estimator-id-3\" class=\"sk-toggleable__label sk-toggleable__label-arrow\">SVC</label><div class=\"sk-toggleable__content\"><pre>SVC()</pre></div></div></div></div></div></div></div></div></div></div>"
            ]
          },
          "metadata": {},
          "execution_count": 116
        }
      ]
    },
    {
      "cell_type": "code",
      "source": [
        "print('GridSearch CV best score : {:.4f}\\n\\n'.format(grid_search.best_score_))\n",
        "print('Parameters that give the best results :','\\n\\n', (grid_search.best_params_))\n",
        "print('\\n\\nEstimator that was chosen by the search :','\\n\\n', (grid_search.best_estimator_))"
      ],
      "metadata": {
        "colab": {
          "base_uri": "https://localhost:8080/"
        },
        "id": "YOrtT_dB5E_E",
        "outputId": "649b2838-88cc-4e78-93d0-702419cf7dbb"
      },
      "execution_count": null,
      "outputs": [
        {
          "output_type": "stream",
          "name": "stdout",
          "text": [
            "GridSearch CV best score : 0.8000\n",
            "\n",
            "\n",
            "Parameters that give the best results : \n",
            "\n",
            " {'C': 1, 'degree': 2, 'gamma': 0.02, 'kernel': 'sigmoid'}\n",
            "\n",
            "\n",
            "Estimator that was chosen by the search : \n",
            "\n",
            " SVC(C=1, degree=2, gamma=0.02, kernel='sigmoid')\n"
          ]
        }
      ]
    },
    {
      "cell_type": "code",
      "source": [
        "print('GridSearch CV score on test set: {0:0.4f}'.format(grid_search.score(X_test, y_test)))"
      ],
      "metadata": {
        "colab": {
          "base_uri": "https://localhost:8080/"
        },
        "id": "CsYuP5L95Ydh",
        "outputId": "69664167-8fda-4d64-ec72-9c7378a0b409"
      },
      "execution_count": null,
      "outputs": [
        {
          "output_type": "stream",
          "name": "stdout",
          "text": [
            "GridSearch CV score on test set: 0.8333\n"
          ]
        }
      ]
    },
    {
      "cell_type": "markdown",
      "source": [
        "My thoughts about model were right. Model with sigmoid kernel the best"
      ],
      "metadata": {
        "id": "52-5sJsoTpx9"
      }
    },
    {
      "cell_type": "markdown",
      "source": [
        "#KNN classification"
      ],
      "metadata": {
        "id": "npc5xsu1UAGK"
      }
    },
    {
      "cell_type": "code",
      "source": [
        "knn = KNeighborsClassifier(metric='cosine', n_neighbors=19, weights='distance')\n",
        "\n",
        "knn.fit(X_train, y_train)\n",
        "\n",
        "y_pred = knn.predict(X_test)\n",
        "\n",
        "accuracy = accuracy_score(y_test, y_pred)\n",
        "\n",
        "print(accuracy)"
      ],
      "metadata": {
        "colab": {
          "base_uri": "https://localhost:8080/"
        },
        "id": "djJNMaXBUEtG",
        "outputId": "a98e89f4-1775-4c9c-c0e1-24f95a342417"
      },
      "execution_count": null,
      "outputs": [
        {
          "output_type": "stream",
          "name": "stdout",
          "text": [
            "0.7666666666666667\n"
          ]
        }
      ]
    },
    {
      "cell_type": "code",
      "source": [
        "k_values = [i for i in range(1, 31)]\n",
        "\n",
        "scores = []\n",
        "\n",
        "for k in k_values:\n",
        "\n",
        "  knn = KNeighborsClassifier(n_neighbors=k)\n",
        "\n",
        "  score = cross_val_score(knn, X, y, cv = 5)\n",
        "\n",
        "  scores.append(np.mean(score))\n"
      ],
      "metadata": {
        "id": "wKCtCgMQfvcS"
      },
      "execution_count": null,
      "outputs": []
    },
    {
      "cell_type": "code",
      "source": [
        "sns.lineplot(x = k_values, y = scores, marker = 'o')\n",
        "plt.xlabel(\"K Values\")\n",
        "plt.ylabel(\"Accuracy Score\")"
      ],
      "metadata": {
        "colab": {
          "base_uri": "https://localhost:8080/",
          "height": 474
        },
        "id": "FCvsRwb3jElt",
        "outputId": "ec2ba9e7-9c90-41e8-c292-8bd92e258c99"
      },
      "execution_count": null,
      "outputs": [
        {
          "output_type": "execute_result",
          "data": {
            "text/plain": [
              "Text(0, 0.5, 'Accuracy Score')"
            ]
          },
          "metadata": {},
          "execution_count": 122
        },
        {
          "output_type": "display_data",
          "data": {
            "text/plain": [
              "<Figure size 640x480 with 1 Axes>"
            ],
            "image/png": "[encoded data removed]"
          },
          "metadata": {}
        }
      ]
    },
    {
      "cell_type": "code",
      "source": [
        "print(classification_report(y_test, y_pred))"
      ],
      "metadata": {
        "colab": {
          "base_uri": "https://localhost:8080/"
        },
        "id": "n8utmgV-iZyY",
        "outputId": "e4053e31-0062-4272-a79f-6fe7889c8a52"
      },
      "execution_count": null,
      "outputs": [
        {
          "output_type": "stream",
          "name": "stdout",
          "text": [
            "              precision    recall  f1-score   support\n",
            "\n",
            "           0       0.70      0.64      0.67        22\n",
            "           1       0.80      0.84      0.82        38\n",
            "\n",
            "    accuracy                           0.77        60\n",
            "   macro avg       0.75      0.74      0.74        60\n",
            "weighted avg       0.76      0.77      0.76        60\n",
            "\n"
          ]
        }
      ]
    },
    {
      "cell_type": "code",
      "source": [
        "knn=KNeighborsClassifier()\n",
        "\n",
        "\n",
        "parameters = [{ 'n_neighbors' : [i for i in range(0, 31)],\n",
        "               'metric':['manhattan', 'chebyshev', 'minkowski', 'cosine', 'euclidean'],\n",
        "                'weights' : ['distance', 'uniform']}]\n",
        "\n",
        "grid_search = GridSearchCV(estimator = knn,\n",
        "                           param_grid = parameters,\n",
        "                           scoring = 'accuracy',\n",
        "                           cv = 5,\n",
        "                           verbose=0)\n",
        "\n",
        "grid_search.fit(X_train, y_train)"
      ],
      "metadata": {
        "colab": {
          "base_uri": "https://localhost:8080/",
          "height": 1000
        },
        "id": "BQNVhHKCknrp",
        "outputId": "570a1b32-e147-40b0-df18-df28d03d7fb0"
      },
      "execution_count": null,
      "outputs": [
        {
          "output_type": "stream",
          "name": "stderr",
          "text": [
            "/usr/local/lib/python3.10/dist-packages/sklearn/model_selection/_validation.py:378: FitFailedWarning: \n",
            "50 fits failed out of a total of 1550.\n",
            "The score on these train-test partitions for these parameters will be set to nan.\n",
            "If these failures are not expected, you can try to debug them by setting error_score='raise'.\n",
            "\n",
            "Below are more details about the failures:\n",
            "--------------------------------------------------------------------------------\n",
            "50 fits failed with the following error:\n",
            "Traceback (most recent call last):\n",
            "  File \"/usr/local/lib/python3.10/dist-packages/sklearn/model_selection/_validation.py\", line 686, in _fit_and_score\n",
            "    estimator.fit(X_train, y_train, **fit_params)\n",
            "  File \"/usr/local/lib/python3.10/dist-packages/sklearn/neighbors/_classification.py\", line 213, in fit\n",
            "    self._validate_params()\n",
            "  File \"/usr/local/lib/python3.10/dist-packages/sklearn/base.py\", line 600, in _validate_params\n",
            "    validate_parameter_constraints(\n",
            "  File \"/usr/local/lib/python3.10/dist-packages/sklearn/utils/_param_validation.py\", line 97, in validate_parameter_constraints\n",
            "    raise InvalidParameterError(\n",
            "sklearn.utils._param_validation.InvalidParameterError: The 'n_neighbors' parameter of KNeighborsClassifier must be an int in the range [1, inf) or None. Got 0 instead.\n",
            "\n",
            "  warnings.warn(some_fits_failed_message, FitFailedWarning)\n",
            "/usr/local/lib/python3.10/dist-packages/sklearn/model_selection/_search.py:952: UserWarning: One or more of the test scores are non-finite: [       nan        nan 0.69166667 0.69166667 0.69166667 0.60833333\n",
            " 0.71666667 0.70416667 0.71666667 0.66666667 0.72083333 0.70833333\n",
            " 0.72916667 0.65833333 0.7        0.69166667 0.70416667 0.65\n",
            " 0.7125     0.7        0.71666667 0.67083333 0.72083333 0.69166667\n",
            " 0.72083333 0.675      0.7        0.68333333 0.70833333 0.65833333\n",
            " 0.69583333 0.66666667 0.70833333 0.6625     0.69583333 0.67916667\n",
            " 0.7        0.67916667 0.67916667 0.6625     0.7        0.67083333\n",
            " 0.69166667 0.675      0.7        0.6875     0.7        0.69166667\n",
            " 0.7        0.68333333 0.69583333 0.68333333 0.69166667 0.67916667\n",
            " 0.68333333 0.675      0.69583333 0.675      0.69583333 0.69166667\n",
            " 0.70416667 0.67916667        nan        nan 0.68333333 0.68333333\n",
            " 0.65416667 0.625      0.65833333 0.6625     0.66666667 0.64166667\n",
            " 0.675      0.675      0.68333333 0.675      0.65833333 0.67083333\n",
            " 0.65833333 0.65       0.67916667 0.6625     0.68333333 0.67916667\n",
            " 0.68333333 0.6625     0.6875     0.67083333 0.675      0.66666667\n",
            " 0.6625     0.64166667 0.65416667 0.63333333 0.65833333 0.64583333\n",
            " 0.65416667 0.62916667 0.65833333 0.65       0.66666667 0.64166667\n",
            " 0.64583333 0.62916667 0.65416667 0.62916667 0.64166667 0.61666667\n",
            " 0.6375     0.61666667 0.6375     0.64166667 0.65       0.62083333\n",
            " 0.64583333 0.61666667 0.65       0.62916667 0.65833333 0.64583333\n",
            " 0.6625     0.64166667 0.6625     0.65              nan        nan\n",
            " 0.6625     0.6625     0.6625     0.62083333 0.69166667 0.68333333\n",
            " 0.69583333 0.59583333 0.64583333 0.62916667 0.67083333 0.5875\n",
            " 0.64583333 0.625      0.66666667 0.59583333 0.64583333 0.64166667\n",
            " 0.64583333 0.6        0.62916667 0.625      0.6625     0.60416667\n",
            " 0.65       0.64583333 0.65       0.62083333 0.64583333 0.64583333\n",
            " 0.65       0.62916667 0.65416667 0.65833333 0.6625     0.62916667\n",
            " 0.64583333 0.65       0.65       0.625      0.63333333 0.62916667\n",
            " 0.64583333 0.60833333 0.64583333 0.64583333 0.65       0.61666667\n",
            " 0.64166667 0.63333333 0.64166667 0.61666667 0.63333333 0.625\n",
            " 0.6375     0.62083333 0.62916667 0.62083333 0.6375     0.60416667\n",
            "        nan        nan 0.69166667 0.69166667 0.69166667 0.6625\n",
            " 0.67916667 0.6875     0.70416667 0.65       0.7        0.7\n",
            " 0.72916667 0.65833333 0.725      0.7        0.72916667 0.67083333\n",
            " 0.72916667 0.7        0.7375     0.69166667 0.74166667 0.72916667\n",
            " 0.75416667 0.725      0.74583333 0.73333333 0.75833333 0.70833333\n",
            " 0.75416667 0.7375     0.7625     0.72083333 0.75416667 0.73333333\n",
            " 0.75416667 0.72083333 0.76666667 0.7375     0.75416667 0.71666667\n",
            " 0.75833333 0.7375     0.7625     0.72916667 0.75416667 0.7375\n",
            " 0.75       0.73333333 0.75416667 0.725      0.75416667 0.74583333\n",
            " 0.7625     0.72916667 0.75       0.72083333 0.75       0.72083333\n",
            " 0.75       0.72083333        nan        nan 0.6625     0.6625\n",
            " 0.6625     0.62083333 0.69166667 0.68333333 0.69583333 0.59583333\n",
            " 0.64583333 0.62916667 0.67083333 0.5875     0.64583333 0.625\n",
            " 0.66666667 0.59583333 0.64583333 0.64166667 0.64583333 0.6\n",
            " 0.62916667 0.625      0.6625     0.60416667 0.65       0.64583333\n",
            " 0.65       0.62083333 0.64583333 0.64583333 0.65       0.62916667\n",
            " 0.65416667 0.65833333 0.6625     0.62916667 0.64583333 0.65\n",
            " 0.65       0.625      0.63333333 0.62916667 0.64583333 0.60833333\n",
            " 0.64583333 0.64583333 0.65       0.61666667 0.64166667 0.63333333\n",
            " 0.64166667 0.61666667 0.63333333 0.625      0.6375     0.62083333\n",
            " 0.62916667 0.62083333 0.6375     0.60416667]\n",
            "  warnings.warn(\n"
          ]
        },
        {
          "output_type": "execute_result",
          "data": {
            "text/plain": [
              "GridSearchCV(cv=5, estimator=KNeighborsClassifier(),\n",
              "             param_grid=[{'metric': ['manhattan', 'chebyshev', 'minkowski',\n",
              "                                     'cosine', 'euclidean'],\n",
              "                          'n_neighbors': [0, 1, 2, 3, 4, 5, 6, 7, 8, 9, 10, 11,\n",
              "                                          12, 13, 14, 15, 16, 17, 18, 19, 20,\n",
              "                                          21, 22, 23, 24, 25, 26, 27, 28, 29, ...],\n",
              "                          'weights': ['distance', 'uniform']}],\n",
              "             scoring='accuracy')"
            ],
            "text/html": [
              "<style>#sk-container-id-2 {color: black;background-color: white;}#sk-container-id-2 pre{padding: 0;}#sk-container-id-2 div.sk-toggleable {background-color: white;}#sk-container-id-2 label.sk-toggleable__label {cursor: pointer;display: block;width: 100%;margin-bottom: 0;padding: 0.3em;box-sizing: border-box;text-align: center;}#sk-container-id-2 label.sk-toggleable__label-arrow:before {content: \"▸\";float: left;margin-right: 0.25em;color: #696969;}#sk-container-id-2 label.sk-toggleable__label-arrow:hover:before {color: black;}#sk-container-id-2 div.sk-estimator:hover label.sk-toggleable__label-arrow:before {color: black;}#sk-container-id-2 div.sk-toggleable__content {max-height: 0;max-width: 0;overflow: hidden;text-align: left;background-color: #f0f8ff;}#sk-container-id-2 div.sk-toggleable__content pre {margin: 0.2em;color: black;border-radius: 0.25em;background-color: #f0f8ff;}#sk-container-id-2 input.sk-toggleable__control:checked~div.sk-toggleable__content {max-height: 200px;max-width: 100%;overflow: auto;}#sk-container-id-2 input.sk-toggleable__control:checked~label.sk-toggleable__label-arrow:before {content: \"▾\";}#sk-container-id-2 div.sk-estimator input.sk-toggleable__control:checked~label.sk-toggleable__label {background-color: #d4ebff;}#sk-container-id-2 div.sk-label input.sk-toggleable__control:checked~label.sk-toggleable__label {background-color: #d4ebff;}#sk-container-id-2 input.sk-hidden--visually {border: 0;clip: rect(1px 1px 1px 1px);clip: rect(1px, 1px, 1px, 1px);height: 1px;margin: -1px;overflow: hidden;padding: 0;position: absolute;width: 1px;}#sk-container-id-2 div.sk-estimator {font-family: monospace;background-color: #f0f8ff;border: 1px dotted black;border-radius: 0.25em;box-sizing: border-box;margin-bottom: 0.5em;}#sk-container-id-2 div.sk-estimator:hover {background-color: #d4ebff;}#sk-container-id-2 div.sk-parallel-item::after {content: \"\";width: 100%;border-bottom: 1px solid gray;flex-grow: 1;}#sk-container-id-2 div.sk-label:hover label.sk-toggleable__label {background-color: #d4ebff;}#sk-container-id-2 div.sk-serial::before {content: \"\";position: absolute;border-left: 1px solid gray;box-sizing: border-box;top: 0;bottom: 0;left: 50%;z-index: 0;}#sk-container-id-2 div.sk-serial {display: flex;flex-direction: column;align-items: center;background-color: white;padding-right: 0.2em;padding-left: 0.2em;position: relative;}#sk-container-id-2 div.sk-item {position: relative;z-index: 1;}#sk-container-id-2 div.sk-parallel {display: flex;align-items: stretch;justify-content: center;background-color: white;position: relative;}#sk-container-id-2 div.sk-item::before, #sk-container-id-2 div.sk-parallel-item::before {content: \"\";position: absolute;border-left: 1px solid gray;box-sizing: border-box;top: 0;bottom: 0;left: 50%;z-index: -1;}#sk-container-id-2 div.sk-parallel-item {display: flex;flex-direction: column;z-index: 1;position: relative;background-color: white;}#sk-container-id-2 div.sk-parallel-item:first-child::after {align-self: flex-end;width: 50%;}#sk-container-id-2 div.sk-parallel-item:last-child::after {align-self: flex-start;width: 50%;}#sk-container-id-2 div.sk-parallel-item:only-child::after {width: 0;}#sk-container-id-2 div.sk-dashed-wrapped {border: 1px dashed gray;margin: 0 0.4em 0.5em 0.4em;box-sizing: border-box;padding-bottom: 0.4em;background-color: white;}#sk-container-id-2 div.sk-label label {font-family: monospace;font-weight: bold;display: inline-block;line-height: 1.2em;}#sk-container-id-2 div.sk-label-container {text-align: center;}#sk-container-id-2 div.sk-container {/* jupyter's `normalize.less` sets `[hidden] { display: none; }` but bootstrap.min.css set `[hidden] { display: none !important; }` so we also need the `!important` here to be able to override the default hidden behavior on the sphinx rendered scikit-learn.org. See: https://github.com/scikit-learn/scikit-learn/issues/21755 */display: inline-block !important;position: relative;}#sk-container-id-2 div.sk-text-repr-fallback {display: none;}</style><div id=\"sk-container-id-2\" class=\"sk-top-container\"><div class=\"sk-text-repr-fallback\"><pre>GridSearchCV(cv=5, estimator=KNeighborsClassifier(),\n",
              "             param_grid=[{&#x27;metric&#x27;: [&#x27;manhattan&#x27;, &#x27;chebyshev&#x27;, &#x27;minkowski&#x27;,\n",
              "                                     &#x27;cosine&#x27;, &#x27;euclidean&#x27;],\n",
              "                          &#x27;n_neighbors&#x27;: [0, 1, 2, 3, 4, 5, 6, 7, 8, 9, 10, 11,\n",
              "                                          12, 13, 14, 15, 16, 17, 18, 19, 20,\n",
              "                                          21, 22, 23, 24, 25, 26, 27, 28, 29, ...],\n",
              "                          &#x27;weights&#x27;: [&#x27;distance&#x27;, &#x27;uniform&#x27;]}],\n",
              "             scoring=&#x27;accuracy&#x27;)</pre><b>In a Jupyter environment, please rerun this cell to show the HTML representation or trust the notebook. <br />On GitHub, the HTML representation is unable to render, please try loading this page with nbviewer.org.</b></div><div class=\"sk-container\" hidden><div class=\"sk-item sk-dashed-wrapped\"><div class=\"sk-label-container\"><div class=\"sk-label sk-toggleable\"><input class=\"sk-toggleable__control sk-hidden--visually\" id=\"sk-estimator-id-4\" type=\"checkbox\" ><label for=\"sk-estimator-id-4\" class=\"sk-toggleable__label sk-toggleable__label-arrow\">GridSearchCV</label><div class=\"sk-toggleable__content\"><pre>GridSearchCV(cv=5, estimator=KNeighborsClassifier(),\n",
              "             param_grid=[{&#x27;metric&#x27;: [&#x27;manhattan&#x27;, &#x27;chebyshev&#x27;, &#x27;minkowski&#x27;,\n",
              "                                     &#x27;cosine&#x27;, &#x27;euclidean&#x27;],\n",
              "                          &#x27;n_neighbors&#x27;: [0, 1, 2, 3, 4, 5, 6, 7, 8, 9, 10, 11,\n",
              "                                          12, 13, 14, 15, 16, 17, 18, 19, 20,\n",
              "                                          21, 22, 23, 24, 25, 26, 27, 28, 29, ...],\n",
              "                          &#x27;weights&#x27;: [&#x27;distance&#x27;, &#x27;uniform&#x27;]}],\n",
              "             scoring=&#x27;accuracy&#x27;)</pre></div></div></div><div class=\"sk-parallel\"><div class=\"sk-parallel-item\"><div class=\"sk-item\"><div class=\"sk-label-container\"><div class=\"sk-label sk-toggleable\"><input class=\"sk-toggleable__control sk-hidden--visually\" id=\"sk-estimator-id-5\" type=\"checkbox\" ><label for=\"sk-estimator-id-5\" class=\"sk-toggleable__label sk-toggleable__label-arrow\">estimator: KNeighborsClassifier</label><div class=\"sk-toggleable__content\"><pre>KNeighborsClassifier()</pre></div></div></div><div class=\"sk-serial\"><div class=\"sk-item\"><div class=\"sk-estimator sk-toggleable\"><input class=\"sk-toggleable__control sk-hidden--visually\" id=\"sk-estimator-id-6\" type=\"checkbox\" ><label for=\"sk-estimator-id-6\" class=\"sk-toggleable__label sk-toggleable__label-arrow\">KNeighborsClassifier</label><div class=\"sk-toggleable__content\"><pre>KNeighborsClassifier()</pre></div></div></div></div></div></div></div></div></div></div>"
            ]
          },
          "metadata": {},
          "execution_count": 124
        }
      ]
    },
    {
      "cell_type": "code",
      "source": [
        "print('GridSearch CV best score : {:.4f}\\n\\n'.format(grid_search.best_score_))\n",
        "print('Parameters that give the best results :','\\n\\n', (grid_search.best_params_))\n",
        "print('\\n\\nEstimator that was chosen by the search :','\\n\\n', (grid_search.best_estimator_))"
      ],
      "metadata": {
        "colab": {
          "base_uri": "https://localhost:8080/"
        },
        "id": "vAf_amI-teBf",
        "outputId": "c81cc8bf-4393-41ac-b7e7-1ee3b89e05ab"
      },
      "execution_count": null,
      "outputs": [
        {
          "output_type": "stream",
          "name": "stdout",
          "text": [
            "GridSearch CV best score : 0.7667\n",
            "\n",
            "\n",
            "Parameters that give the best results : \n",
            "\n",
            " {'metric': 'cosine', 'n_neighbors': 19, 'weights': 'distance'}\n",
            "\n",
            "\n",
            "Estimator that was chosen by the search : \n",
            "\n",
            " KNeighborsClassifier(metric='cosine', n_neighbors=19, weights='distance')\n"
          ]
        }
      ]
    },
    {
      "cell_type": "code",
      "source": [
        "print('GridSearch CV score on test set: {0:0.4f}'.format(grid_search.score(X_test, y_test)))"
      ],
      "metadata": {
        "colab": {
          "base_uri": "https://localhost:8080/"
        },
        "id": "t5ZJ4j1Itn8u",
        "outputId": "14bfbec7-c46e-42ad-db68-8c0245e8526d"
      },
      "execution_count": null,
      "outputs": [
        {
          "output_type": "stream",
          "name": "stdout",
          "text": [
            "GridSearch CV score on test set: 0.7667\n"
          ]
        }
      ]
    },
    {
      "cell_type": "code",
      "source": [
        "X_embedded = TSNE(n_components = 2).fit_transform(X_test)\n",
        "x_emb = X_embedded[:, 0]\n",
        "y_emb = X_embedded[:, 1]\n",
        "\n",
        "plt.figure(figsize = (12, 5))\n",
        "\n",
        "plt.subplot(1, 2, 1)\n",
        "sns.scatterplot(x = x_emb, y = y_emb, hue = y_pred)\n",
        "\n",
        "plt.subplot(1, 2, 2)\n",
        "sns.scatterplot(x = x_emb, y = y_emb, hue = y_test)"
      ],
      "metadata": {
        "colab": {
          "base_uri": "https://localhost:8080/",
          "height": 466
        },
        "id": "cmYsT-gjH-_J",
        "outputId": "c7477b3b-bc67-4baa-f6cf-8960624481dc"
      },
      "execution_count": null,
      "outputs": [
        {
          "output_type": "execute_result",
          "data": {
            "text/plain": [
              "<Axes: >"
            ]
          },
          "metadata": {},
          "execution_count": 127
        },
        {
          "output_type": "display_data",
          "data": {
            "text/plain": [
              "<Figure size 1200x500 with 2 Axes>"
            ],
            "image/png": "[encoded data removed]"
          },
          "metadata": {}
        }
      ]
    },
    {
      "cell_type": "markdown",
      "source": [
        "#Random Forest"
      ],
      "metadata": {
        "id": "HI2jFU0It9RE"
      }
    },
    {
      "cell_type": "code",
      "source": [
        "from sklearn.ensemble import RandomForestClassifier\n",
        "\n",
        "rfc = RandomForestClassifier(random_state = 0)\n",
        "\n",
        "rfc.fit(X_train, y_train)\n",
        "\n",
        "y_pred = rfc.predict(X_test)\n",
        "\n",
        "print('Model accuracy score with 10 decision-trees : {0:0.4f}'. format(accuracy_score(y_test, y_pred)))"
      ],
      "metadata": {
        "colab": {
          "base_uri": "https://localhost:8080/"
        },
        "id": "wpfj6fRft9Bw",
        "outputId": "d36116f7-bcf2-4a17-fca3-44313c4a9406"
      },
      "execution_count": null,
      "outputs": [
        {
          "output_type": "stream",
          "name": "stdout",
          "text": [
            "Model accuracy score with 10 decision-trees : 0.8500\n"
          ]
        }
      ]
    },
    {
      "cell_type": "code",
      "source": [
        "rfc_100 = RandomForestClassifier(n_estimators = 13, random_state = 0)\n",
        "\n",
        "rfc_100.fit(X_train, y_train)\n",
        "\n",
        "y_pred = rfc_100.predict(X_test)\n",
        "\n",
        "print('Model accuracy score with 100 decision-trees : {0:0.4f}'. format(accuracy_score(y_test, y_pred)))"
      ],
      "metadata": {
        "colab": {
          "base_uri": "https://localhost:8080/"
        },
        "id": "Vd8Gp3og2HGl",
        "outputId": "ed7a5dab-1ee6-4919-dce5-e9ce362f893d"
      },
      "execution_count": null,
      "outputs": [
        {
          "output_type": "stream",
          "name": "stdout",
          "text": [
            "Model accuracy score with 100 decision-trees : 0.8000\n"
          ]
        }
      ]
    },
    {
      "cell_type": "markdown",
      "source": [
        "Delete all unusefull columns and will do it again"
      ],
      "metadata": {
        "id": "ziuCO3HRiXjt"
      }
    },
    {
      "cell_type": "code",
      "source": [
        "feature_scores = pd.Series(rfc_100.feature_importances_, index = X_train.columns).sort_values(ascending = False)\n",
        "\n",
        "feature_scores"
      ],
      "metadata": {
        "colab": {
          "base_uri": "https://localhost:8080/"
        },
        "id": "CXNVnuZA3E3o",
        "outputId": "799a90ff-7fb0-40c1-8699-fd2964a751f7"
      },
      "execution_count": null,
      "outputs": [
        {
          "output_type": "execute_result",
          "data": {
            "text/plain": [
              "surgical lesion?        0.120527\n",
              "pulse                   0.089680\n",
              "site of lesion_00000    0.056954\n",
              "rectal temperature      0.056368\n",
              "total protein           0.053935\n",
              "                          ...   \n",
              "site of lesion_03025    0.000000\n",
              "site of lesion_03209    0.000000\n",
              "site of lesion_03207    0.000000\n",
              "site of lesion_03115    0.000000\n",
              "site of lesion_03300    0.000000\n",
              "Length: 123, dtype: float64"
            ]
          },
          "metadata": {},
          "execution_count": 130
        }
      ]
    },
    {
      "cell_type": "code",
      "source": [
        "feature_scores = feature_scores[feature_scores<0.01]\n",
        "\n",
        "feature_scores"
      ],
      "metadata": {
        "id": "GbLq4heF9pB4"
      },
      "execution_count": null,
      "outputs": []
    },
    {
      "cell_type": "code",
      "source": [
        "#columns to delete\n",
        "del_col = feature_scores.index.tolist()\n",
        "\n",
        "del_col = [item[0] for item in del_col]\n"
      ],
      "metadata": {
        "id": "DI--bpjdci8M"
      },
      "execution_count": null,
      "outputs": []
    },
    {
      "cell_type": "code",
      "source": [
        "X_train_n = X_train.drop(del_col, axis = 1)\n",
        "X_test_n = X_test.drop(del_col, axis = 1)"
      ],
      "metadata": {
        "colab": {
          "base_uri": "https://localhost:8080/"
        },
        "id": "aRSuV7dHhm7Y",
        "outputId": "17e65c27-e7a1-43dd-a2b1-353d274923d6"
      },
      "execution_count": null,
      "outputs": [
        {
          "output_type": "stream",
          "name": "stderr",
          "text": [
            "<ipython-input-133-a6724230b952>:1: PerformanceWarning: dropping on a non-lexsorted multi-index without a level parameter may impact performance.\n",
            "  X_train_n = X_train.drop(del_col, axis = 1)\n",
            "<ipython-input-133-a6724230b952>:2: PerformanceWarning: dropping on a non-lexsorted multi-index without a level parameter may impact performance.\n",
            "  X_test_n = X_test.drop(del_col, axis = 1)\n"
          ]
        }
      ]
    },
    {
      "cell_type": "code",
      "source": [
        "X_train_n.shape"
      ],
      "metadata": {
        "colab": {
          "base_uri": "https://localhost:8080/"
        },
        "id": "PaINJk2whywR",
        "outputId": "b1c77c1f-d7a0-44b1-d907-f6e3985b2fed"
      },
      "execution_count": null,
      "outputs": [
        {
          "output_type": "execute_result",
          "data": {
            "text/plain": [
              "(240, 29)"
            ]
          },
          "metadata": {},
          "execution_count": 134
        }
      ]
    },
    {
      "cell_type": "code",
      "source": [
        "X_test_n.shape"
      ],
      "metadata": {
        "colab": {
          "base_uri": "https://localhost:8080/"
        },
        "id": "VPJfb1SRh7BE",
        "outputId": "d2bca6e5-ac71-4e0f-b0e3-e46796404256"
      },
      "execution_count": null,
      "outputs": [
        {
          "output_type": "execute_result",
          "data": {
            "text/plain": [
              "(60, 29)"
            ]
          },
          "metadata": {},
          "execution_count": 135
        }
      ]
    },
    {
      "cell_type": "code",
      "source": [
        "rfc_new = RandomForestClassifier(n_estimators = 16, random_state = 0)\n",
        "\n",
        "rfc_new.fit(X_train_n, y_train)\n",
        "\n",
        "y_pred = rfc_new.predict(X_test_n)\n",
        "\n",
        "print('Model accuracy score with 100 decision-trees : {0:0.4f}'. format(accuracy_score(y_test, y_pred)))"
      ],
      "metadata": {
        "colab": {
          "base_uri": "https://localhost:8080/"
        },
        "id": "2z4j9xM_ihIp",
        "outputId": "05c27603-785a-4f94-9fec-e8d1a9a3167f"
      },
      "execution_count": null,
      "outputs": [
        {
          "output_type": "stream",
          "name": "stdout",
          "text": [
            "Model accuracy score with 100 decision-trees : 0.8667\n"
          ]
        }
      ]
    },
    {
      "cell_type": "markdown",
      "source": [
        "Visualisation"
      ],
      "metadata": {
        "id": "M2cho7AanMjP"
      }
    },
    {
      "cell_type": "code",
      "source": [
        "for i in range(3):\n",
        "    tree = rfc_new.estimators_[i]\n",
        "    dot_data = export_graphviz(tree,\n",
        "                               feature_names=X_train_n.columns,\n",
        "                               filled=True,\n",
        "                               max_depth=2,\n",
        "                               impurity=False,\n",
        "                               proportion=True)\n",
        "    graph = graphviz.Source(dot_data)\n",
        "    display(graph)"
      ],
      "metadata": {
        "id": "onGUAYoVlC6b"
      },
      "execution_count": null,
      "outputs": []
    },
    {
      "cell_type": "code",
      "source": [
        "print(classification_report(y_test, y_pred))"
      ],
      "metadata": {
        "id": "XCbdezppp3ah",
        "colab": {
          "base_uri": "https://localhost:8080/"
        },
        "outputId": "efed495b-1b93-4e41-a8a3-1ea7fd36c8ee"
      },
      "execution_count": null,
      "outputs": [
        {
          "output_type": "stream",
          "name": "stdout",
          "text": [
            "              precision    recall  f1-score   support\n",
            "\n",
            "           0       0.89      0.73      0.80        22\n",
            "           1       0.86      0.95      0.90        38\n",
            "\n",
            "    accuracy                           0.87        60\n",
            "   macro avg       0.87      0.84      0.85        60\n",
            "weighted avg       0.87      0.87      0.86        60\n",
            "\n"
          ]
        }
      ]
    },
    {
      "cell_type": "code",
      "source": [
        "rfc_gs=RandomForestClassifier()\n",
        "\n",
        "lst_estim = list(range(1,10))\n",
        "lst_estim.extend([15, 20, 25, 30, 100, 200, 300, 400, 500, 600, 700, 800, 900])\n",
        "\n",
        "\n",
        "parameters = [{ 'n_estimators' : lst_estim,\n",
        "               'max_depth':[10, 20, 30, 40, 50],\n",
        "                'bootstrap' : [True, False]}]\n",
        "\n",
        "grid_search = GridSearchCV(estimator = rfc_gs,\n",
        "                           param_grid = parameters,\n",
        "                           scoring = 'accuracy',\n",
        "                           cv = 5,\n",
        "                           verbose=0)\n",
        "\n",
        "grid_search.fit(X_train_n, y_train)"
      ],
      "metadata": {
        "id": "rAUmxqbrqaj0",
        "colab": {
          "base_uri": "https://localhost:8080/",
          "height": 115
        },
        "outputId": "10481ffc-2521-4c98-f718-e2a737299c4f"
      },
      "execution_count": null,
      "outputs": [
        {
          "output_type": "execute_result",
          "data": {
            "text/plain": [
              "GridSearchCV(cv=5, estimator=RandomForestClassifier(),\n",
              "             param_grid=[{'bootstrap': [True, False],\n",
              "                          'max_depth': [10, 20, 30, 40, 50],\n",
              "                          'n_estimators': [1, 2, 3, 4, 5, 6, 7, 8, 9, 15, 20,\n",
              "                                           25, 30, 100, 200, 300, 400, 500, 600,\n",
              "                                           700, 800, 900]}],\n",
              "             scoring='accuracy')"
            ],
            "text/html": [
              "<style>#sk-container-id-3 {color: black;background-color: white;}#sk-container-id-3 pre{padding: 0;}#sk-container-id-3 div.sk-toggleable {background-color: white;}#sk-container-id-3 label.sk-toggleable__label {cursor: pointer;display: block;width: 100%;margin-bottom: 0;padding: 0.3em;box-sizing: border-box;text-align: center;}#sk-container-id-3 label.sk-toggleable__label-arrow:before {content: \"▸\";float: left;margin-right: 0.25em;color: #696969;}#sk-container-id-3 label.sk-toggleable__label-arrow:hover:before {color: black;}#sk-container-id-3 div.sk-estimator:hover label.sk-toggleable__label-arrow:before {color: black;}#sk-container-id-3 div.sk-toggleable__content {max-height: 0;max-width: 0;overflow: hidden;text-align: left;background-color: #f0f8ff;}#sk-container-id-3 div.sk-toggleable__content pre {margin: 0.2em;color: black;border-radius: 0.25em;background-color: #f0f8ff;}#sk-container-id-3 input.sk-toggleable__control:checked~div.sk-toggleable__content {max-height: 200px;max-width: 100%;overflow: auto;}#sk-container-id-3 input.sk-toggleable__control:checked~label.sk-toggleable__label-arrow:before {content: \"▾\";}#sk-container-id-3 div.sk-estimator input.sk-toggleable__control:checked~label.sk-toggleable__label {background-color: #d4ebff;}#sk-container-id-3 div.sk-label input.sk-toggleable__control:checked~label.sk-toggleable__label {background-color: #d4ebff;}#sk-container-id-3 input.sk-hidden--visually {border: 0;clip: rect(1px 1px 1px 1px);clip: rect(1px, 1px, 1px, 1px);height: 1px;margin: -1px;overflow: hidden;padding: 0;position: absolute;width: 1px;}#sk-container-id-3 div.sk-estimator {font-family: monospace;background-color: #f0f8ff;border: 1px dotted black;border-radius: 0.25em;box-sizing: border-box;margin-bottom: 0.5em;}#sk-container-id-3 div.sk-estimator:hover {background-color: #d4ebff;}#sk-container-id-3 div.sk-parallel-item::after {content: \"\";width: 100%;border-bottom: 1px solid gray;flex-grow: 1;}#sk-container-id-3 div.sk-label:hover label.sk-toggleable__label {background-color: #d4ebff;}#sk-container-id-3 div.sk-serial::before {content: \"\";position: absolute;border-left: 1px solid gray;box-sizing: border-box;top: 0;bottom: 0;left: 50%;z-index: 0;}#sk-container-id-3 div.sk-serial {display: flex;flex-direction: column;align-items: center;background-color: white;padding-right: 0.2em;padding-left: 0.2em;position: relative;}#sk-container-id-3 div.sk-item {position: relative;z-index: 1;}#sk-container-id-3 div.sk-parallel {display: flex;align-items: stretch;justify-content: center;background-color: white;position: relative;}#sk-container-id-3 div.sk-item::before, #sk-container-id-3 div.sk-parallel-item::before {content: \"\";position: absolute;border-left: 1px solid gray;box-sizing: border-box;top: 0;bottom: 0;left: 50%;z-index: -1;}#sk-container-id-3 div.sk-parallel-item {display: flex;flex-direction: column;z-index: 1;position: relative;background-color: white;}#sk-container-id-3 div.sk-parallel-item:first-child::after {align-self: flex-end;width: 50%;}#sk-container-id-3 div.sk-parallel-item:last-child::after {align-self: flex-start;width: 50%;}#sk-container-id-3 div.sk-parallel-item:only-child::after {width: 0;}#sk-container-id-3 div.sk-dashed-wrapped {border: 1px dashed gray;margin: 0 0.4em 0.5em 0.4em;box-sizing: border-box;padding-bottom: 0.4em;background-color: white;}#sk-container-id-3 div.sk-label label {font-family: monospace;font-weight: bold;display: inline-block;line-height: 1.2em;}#sk-container-id-3 div.sk-label-container {text-align: center;}#sk-container-id-3 div.sk-container {/* jupyter's `normalize.less` sets `[hidden] { display: none; }` but bootstrap.min.css set `[hidden] { display: none !important; }` so we also need the `!important` here to be able to override the default hidden behavior on the sphinx rendered scikit-learn.org. See: https://github.com/scikit-learn/scikit-learn/issues/21755 */display: inline-block !important;position: relative;}#sk-container-id-3 div.sk-text-repr-fallback {display: none;}</style><div id=\"sk-container-id-3\" class=\"sk-top-container\"><div class=\"sk-text-repr-fallback\"><pre>GridSearchCV(cv=5, estimator=RandomForestClassifier(),\n",
              "             param_grid=[{&#x27;bootstrap&#x27;: [True, False],\n",
              "                          &#x27;max_depth&#x27;: [10, 20, 30, 40, 50],\n",
              "                          &#x27;n_estimators&#x27;: [1, 2, 3, 4, 5, 6, 7, 8, 9, 15, 20,\n",
              "                                           25, 30, 100, 200, 300, 400, 500, 600,\n",
              "                                           700, 800, 900]}],\n",
              "             scoring=&#x27;accuracy&#x27;)</pre><b>In a Jupyter environment, please rerun this cell to show the HTML representation or trust the notebook. <br />On GitHub, the HTML representation is unable to render, please try loading this page with nbviewer.org.</b></div><div class=\"sk-container\" hidden><div class=\"sk-item sk-dashed-wrapped\"><div class=\"sk-label-container\"><div class=\"sk-label sk-toggleable\"><input class=\"sk-toggleable__control sk-hidden--visually\" id=\"sk-estimator-id-7\" type=\"checkbox\" ><label for=\"sk-estimator-id-7\" class=\"sk-toggleable__label sk-toggleable__label-arrow\">GridSearchCV</label><div class=\"sk-toggleable__content\"><pre>GridSearchCV(cv=5, estimator=RandomForestClassifier(),\n",
              "             param_grid=[{&#x27;bootstrap&#x27;: [True, False],\n",
              "                          &#x27;max_depth&#x27;: [10, 20, 30, 40, 50],\n",
              "                          &#x27;n_estimators&#x27;: [1, 2, 3, 4, 5, 6, 7, 8, 9, 15, 20,\n",
              "                                           25, 30, 100, 200, 300, 400, 500, 600,\n",
              "                                           700, 800, 900]}],\n",
              "             scoring=&#x27;accuracy&#x27;)</pre></div></div></div><div class=\"sk-parallel\"><div class=\"sk-parallel-item\"><div class=\"sk-item\"><div class=\"sk-label-container\"><div class=\"sk-label sk-toggleable\"><input class=\"sk-toggleable__control sk-hidden--visually\" id=\"sk-estimator-id-8\" type=\"checkbox\" ><label for=\"sk-estimator-id-8\" class=\"sk-toggleable__label sk-toggleable__label-arrow\">estimator: RandomForestClassifier</label><div class=\"sk-toggleable__content\"><pre>RandomForestClassifier()</pre></div></div></div><div class=\"sk-serial\"><div class=\"sk-item\"><div class=\"sk-estimator sk-toggleable\"><input class=\"sk-toggleable__control sk-hidden--visually\" id=\"sk-estimator-id-9\" type=\"checkbox\" ><label for=\"sk-estimator-id-9\" class=\"sk-toggleable__label sk-toggleable__label-arrow\">RandomForestClassifier</label><div class=\"sk-toggleable__content\"><pre>RandomForestClassifier()</pre></div></div></div></div></div></div></div></div></div></div>"
            ]
          },
          "metadata": {},
          "execution_count": 173
        }
      ]
    },
    {
      "cell_type": "code",
      "source": [
        "print('GridSearch CV best score : {:.4f}\\n\\n'.format(grid_search.best_score_))\n",
        "print('Parameters that give the best results :','\\n\\n', (grid_search.best_params_))\n",
        "print('\\n\\nEstimator that was chosen by the search :','\\n\\n', (grid_search.best_estimator_))\n"
      ],
      "metadata": {
        "colab": {
          "base_uri": "https://localhost:8080/"
        },
        "id": "FpwWzDF_Eaif",
        "outputId": "1a13e816-00ec-400b-b2e5-2ec5107e9b6e"
      },
      "execution_count": null,
      "outputs": [
        {
          "output_type": "stream",
          "name": "stdout",
          "text": [
            "GridSearch CV best score : 0.8542\n",
            "\n",
            "\n",
            "Parameters that give the best results : \n",
            "\n",
            " {'bootstrap': False, 'max_depth': 40, 'n_estimators': 100}\n",
            "\n",
            "\n",
            "Estimator that was chosen by the search : \n",
            "\n",
            " RandomForestClassifier(bootstrap=False, max_depth=40)\n"
          ]
        }
      ]
    },
    {
      "cell_type": "code",
      "source": [
        "print('GridSearch CV score on test set: {0:0.4f}'.format(grid_search.score(X_test_n, y_test)))"
      ],
      "metadata": {
        "colab": {
          "base_uri": "https://localhost:8080/"
        },
        "id": "PHU1Q2BVEiTz",
        "outputId": "73e17393-c2f4-41e4-a8c1-57abfa671a68"
      },
      "execution_count": null,
      "outputs": [
        {
          "output_type": "stream",
          "name": "stdout",
          "text": [
            "GridSearch CV score on test set: 0.8667\n"
          ]
        }
      ]
    },
    {
      "cell_type": "code",
      "source": [
        "X_embedded = TSNE(n_components = 2, perplexity = 28).fit_transform(X)\n",
        "\n",
        "x_emb = X_embedded[:, 0]\n",
        "y_emb = X_embedded[:, 1]\n",
        "\n",
        "sns.scatterplot(x = x_emb, y = y_emb, hue = y)"
      ],
      "metadata": {
        "id": "IKBqgONOrIM3",
        "colab": {
          "base_uri": "https://localhost:8080/",
          "height": 451
        },
        "outputId": "a5ce37ed-f199-4bad-8aea-29e5cbba2df8"
      },
      "execution_count": null,
      "outputs": [
        {
          "output_type": "execute_result",
          "data": {
            "text/plain": [
              "<Axes: >"
            ]
          },
          "metadata": {},
          "execution_count": 140
        },
        {
          "output_type": "display_data",
          "data": {
            "text/plain": [
              "<Figure size 640x480 with 1 Axes>"
            ],
            "image/png": "[encoded data removed]"
          },
          "metadata": {}
        }
      ]
    },
    {
      "cell_type": "code",
      "source": [
        "X_test.shape, y_pred.shape"
      ],
      "metadata": {
        "id": "zMMbKld55kb5",
        "colab": {
          "base_uri": "https://localhost:8080/"
        },
        "outputId": "1146ebda-ab97-42d5-9bb9-f60da6c58681"
      },
      "execution_count": null,
      "outputs": [
        {
          "output_type": "execute_result",
          "data": {
            "text/plain": [
              "((60, 123), (60,))"
            ]
          },
          "metadata": {},
          "execution_count": 141
        }
      ]
    },
    {
      "cell_type": "code",
      "source": [
        "X_embedded = TSNE(n_components = 2).fit_transform(X_test_n)\n",
        "x_emb = X_embedded[:, 0]\n",
        "y_emb = X_embedded[:, 1]\n",
        "\n",
        "plt.figure(figsize = (12, 5))\n",
        "\n",
        "plt.subplot(1, 2, 1)\n",
        "sns.scatterplot(x = x_emb, y = y_emb, hue = y_pred)\n",
        "\n",
        "plt.subplot(1, 2, 2)\n",
        "sns.scatterplot(x = x_emb, y = y_emb, hue = y_test)"
      ],
      "metadata": {
        "id": "jezMf1O85vmR",
        "colab": {
          "base_uri": "https://localhost:8080/",
          "height": 466
        },
        "outputId": "5c097210-a48a-452a-b05b-1ae92461ec0a"
      },
      "execution_count": null,
      "outputs": [
        {
          "output_type": "execute_result",
          "data": {
            "text/plain": [
              "<Axes: >"
            ]
          },
          "metadata": {},
          "execution_count": 142
        },
        {
          "output_type": "display_data",
          "data": {
            "text/plain": [
              "<Figure size 1200x500 with 2 Axes>"
            ],
            "image/png": "[encoded data removed]"
          },
          "metadata": {}
        }
      ]
    },
    {
      "cell_type": "code",
      "source": [],
      "metadata": {
        "id": "UCZ_p6Nn-uyU"
      },
      "execution_count": null,
      "outputs": []
    }
  ],
  "metadata": {
    "colab": {
      "provenance": []
    },
    "kernelspec": {
      "display_name": "Python 3",
      "name": "python3"
    },
    "language_info": {
      "name": "python"
    }
  },
  "nbformat": 4,
  "nbformat_minor": 0
}