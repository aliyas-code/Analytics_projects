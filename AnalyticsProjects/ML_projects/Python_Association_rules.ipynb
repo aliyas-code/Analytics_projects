{
  "nbformat": 4,
  "nbformat_minor": 0,
  "metadata": {
    "colab": {
      "provenance": []
    },
    "kernelspec": {
      "name": "python3",
      "display_name": "Python 3"
    },
    "language_info": {
      "name": "python"
    }
  },
  "cells": [
    {
      "cell_type": "code",
      "source": [
        "!pip install apriori_python\n",
        "!pip install efficient_apriori\n",
        "!pip install fpgrowth_py\n",
        "!pip install bokeh\n",
        "!pip install PyARMViz"
      ],
      "metadata": {
        "colab": {
          "base_uri": "https://localhost:8080/"
        },
        "id": "awWFSGtn2xKs",
        "outputId": "22c1456c-f272-4a38-b7dd-698adaa92cae"
      },
      "execution_count": null,
      "outputs": [
        {
          "output_type": "stream",
          "name": "stdout",
          "text": [
            "Requirement already satisfied: apriori_python in /usr/local/lib/python3.10/dist-packages (1.0.4)\n"
          ]
        }
      ]
    },
    {
      "cell_type": "code",
      "execution_count": null,
      "metadata": {
        "id": "TMUg94jN2B7U"
      },
      "outputs": [],
      "source": [
        "from apriori_python import apriori\n",
        "import pandas as pd\n",
        "import numpy as np\n",
        "import time\n",
        "from efficient_apriori import apriori as apriori_ef\n",
        "from fpgrowth_py import fpgrowth"
      ]
    },
    {
      "cell_type": "code",
      "source": [
        "df = pd.read_excel('Lr1.xlsx')"
      ],
      "metadata": {
        "id": "iDWXl_yo2luP"
      },
      "execution_count": null,
      "outputs": []
    },
    {
      "cell_type": "code",
      "source": [
        "df.head(20)"
      ],
      "metadata": {
        "id": "0tg2_jp_6LUq",
        "colab": {
          "base_uri": "https://localhost:8080/",
          "height": 944
        },
        "outputId": "3b1eeab9-8a8c-406e-fe4b-13e8f9ffeda3"
      },
      "execution_count": null,
      "outputs": [
        {
          "output_type": "execute_result",
          "data": {
            "text/plain": [
              "   Unnamed: 0 Unnamed: 1    Unnamed: 2    Unnamed: 3 Unnamed: 4 Unnamed: 5  \\\n",
              "0           1   Карандаш         Ручка  Листы бумаги      Клей    Линейка    \n",
              "1           2     Краски      Карандаш  Листы бумаги        NaN        NaN   \n",
              "2           3   Карандаш         Пенал         Клей         NaN        NaN   \n",
              "3           4     Ластик          Клей           NaN        NaN        NaN   \n",
              "4           5   Карандаш         Ручка  Листы бумаги      Клей    Линейка    \n",
              "5           6      Ручка      Карандаш       Линейка        NaN        NaN   \n",
              "6           7   Карандаш         Клей       Линейка      Пенал      Ластик   \n",
              "7           8      Ручка      Карандаш           NaN        NaN        NaN   \n",
              "8           9     Пенал       Карандаш  Листы бумаги      Клей      Ластик   \n",
              "9          10     Пенал          Ручка  Листы бумаги      Клей    Линейка    \n",
              "10         11     Пенал   Листы бумаги           NaN        NaN        NaN   \n",
              "11         12     Пенал   Листы бумаги      Карандаш        NaN        NaN   \n",
              "12         13    Линейка         Ручка  Листы бумаги   Карандаш     Ластик   \n",
              "13         14   Карандаш         Ручка  Листы бумаги     Ластик        NaN   \n",
              "14         15      Ручка  Листы бумаги         Клей    Линейка      Пенал    \n",
              "15         16      Ручка  Листы бумаги      Карандаш   Линейка      Пенал    \n",
              "16         17   Карандаш  Листы бумаги           NaN        NaN        NaN   \n",
              "17         18     Пенал          Ручка  Листы бумаги      Клей         NaN   \n",
              "18         19   Карандаш         Ручка  Листы бумаги      Клей         NaN   \n",
              "19         20     Пенал            NaN           NaN        NaN        NaN   \n",
              "\n",
              "   Unnamed: 6 Unnamed: 7 Unnamed: 8 Unnamed: 9 Unnamed: 10 Unnamed: 11  \\\n",
              "0      Пенал      Ластик        NaN        NaN         NaN         NaN   \n",
              "1         NaN        NaN        NaN        NaN         NaN         NaN   \n",
              "2         NaN        NaN        NaN        NaN         NaN         NaN   \n",
              "3         NaN        NaN        NaN        NaN         NaN         NaN   \n",
              "4      Пенал         NaN        NaN        NaN         NaN         NaN   \n",
              "5         NaN        NaN        NaN        NaN         NaN         NaN   \n",
              "6         NaN        NaN        NaN        NaN         NaN         NaN   \n",
              "7         NaN        NaN        NaN        NaN         NaN         NaN   \n",
              "8         NaN        NaN        NaN        NaN         NaN         NaN   \n",
              "9         NaN        NaN        NaN        NaN         NaN         NaN   \n",
              "10        NaN        NaN        NaN        NaN         NaN         NaN   \n",
              "11        NaN        NaN        NaN        NaN         NaN         NaN   \n",
              "12        NaN        NaN        NaN        NaN         NaN         NaN   \n",
              "13        NaN        NaN        NaN        NaN         NaN         NaN   \n",
              "14        NaN        NaN        NaN        NaN         NaN         NaN   \n",
              "15     Ластик        NaN        NaN        NaN         NaN         NaN   \n",
              "16        NaN        NaN        NaN        NaN         NaN         NaN   \n",
              "17        NaN        NaN        NaN        NaN         NaN         NaN   \n",
              "18        NaN        NaN        NaN        NaN         NaN         NaN   \n",
              "19        NaN        NaN        NaN        NaN         NaN         NaN   \n",
              "\n",
              "   Unnamed: 12 Unnamed: 13 Unnamed: 14 Unnamed: 15 Unnamed: 16  \n",
              "0          NaN         NaN         NaN         NaN         NaN  \n",
              "1          NaN         NaN         NaN         NaN         NaN  \n",
              "2          NaN         NaN         NaN         NaN         NaN  \n",
              "3          NaN         NaN         NaN         NaN         NaN  \n",
              "4          NaN         NaN         NaN         NaN         NaN  \n",
              "5          NaN         NaN         NaN         NaN         NaN  \n",
              "6          NaN         NaN         NaN         NaN         NaN  \n",
              "7          NaN         NaN         NaN         NaN         NaN  \n",
              "8          NaN         NaN         NaN         NaN         NaN  \n",
              "9          NaN         NaN         NaN         NaN         NaN  \n",
              "10         NaN         NaN         NaN         NaN         NaN  \n",
              "11         NaN         NaN         NaN         NaN         NaN  \n",
              "12         NaN         NaN         NaN         NaN         NaN  \n",
              "13         NaN         NaN         NaN         NaN         NaN  \n",
              "14         NaN         NaN         NaN         NaN         NaN  \n",
              "15         NaN         NaN         NaN         NaN         NaN  \n",
              "16         NaN         NaN         NaN         NaN         NaN  \n",
              "17         NaN         NaN         NaN         NaN         NaN  \n",
              "18         NaN         NaN         NaN         NaN         NaN  \n",
              "19         NaN         NaN         NaN         NaN         NaN  "
            ],
            "text/html": [
              "\n",
              "  <div id=\"df-af58dc31-62ee-47c0-a966-772842cd7852\" class=\"colab-df-container\">\n",
              "    <div>\n",
              "<style scoped>\n",
              "    .dataframe tbody tr th:only-of-type {\n",
              "        vertical-align: middle;\n",
              "    }\n",
              "\n",
              "    .dataframe tbody tr th {\n",
              "        vertical-align: top;\n",
              "    }\n",
              "\n",
              "    .dataframe thead th {\n",
              "        text-align: right;\n",
              "    }\n",
              "</style>\n",
              "<table border=\"1\" class=\"dataframe\">\n",
              "  <thead>\n",
              "    <tr style=\"text-align: right;\">\n",
              "      <th></th>\n",
              "      <th>Unnamed: 0</th>\n",
              "      <th>Unnamed: 1</th>\n",
              "      <th>Unnamed: 2</th>\n",
              "      <th>Unnamed: 3</th>\n",
              "      <th>Unnamed: 4</th>\n",
              "      <th>Unnamed: 5</th>\n",
              "      <th>Unnamed: 6</th>\n",
              "      <th>Unnamed: 7</th>\n",
              "      <th>Unnamed: 8</th>\n",
              "      <th>Unnamed: 9</th>\n",
              "      <th>Unnamed: 10</th>\n",
              "      <th>Unnamed: 11</th>\n",
              "      <th>Unnamed: 12</th>\n",
              "      <th>Unnamed: 13</th>\n",
              "      <th>Unnamed: 14</th>\n",
              "      <th>Unnamed: 15</th>\n",
              "      <th>Unnamed: 16</th>\n",
              "    </tr>\n",
              "  </thead>\n",
              "  <tbody>\n",
              "    <tr>\n",
              "      <th>0</th>\n",
              "      <td>1</td>\n",
              "      <td>Карандаш</td>\n",
              "      <td>Ручка</td>\n",
              "      <td>Листы бумаги</td>\n",
              "      <td>Клей</td>\n",
              "      <td>Линейка</td>\n",
              "      <td>Пенал</td>\n",
              "      <td>Ластик</td>\n",
              "      <td>NaN</td>\n",
              "      <td>NaN</td>\n",
              "      <td>NaN</td>\n",
              "      <td>NaN</td>\n",
              "      <td>NaN</td>\n",
              "      <td>NaN</td>\n",
              "      <td>NaN</td>\n",
              "      <td>NaN</td>\n",
              "      <td>NaN</td>\n",
              "    </tr>\n",
              "    <tr>\n",
              "      <th>1</th>\n",
              "      <td>2</td>\n",
              "      <td>Краски</td>\n",
              "      <td>Карандаш</td>\n",
              "      <td>Листы бумаги</td>\n",
              "      <td>NaN</td>\n",
              "      <td>NaN</td>\n",
              "      <td>NaN</td>\n",
              "      <td>NaN</td>\n",
              "      <td>NaN</td>\n",
              "      <td>NaN</td>\n",
              "      <td>NaN</td>\n",
              "      <td>NaN</td>\n",
              "      <td>NaN</td>\n",
              "      <td>NaN</td>\n",
              "      <td>NaN</td>\n",
              "      <td>NaN</td>\n",
              "      <td>NaN</td>\n",
              "    </tr>\n",
              "    <tr>\n",
              "      <th>2</th>\n",
              "      <td>3</td>\n",
              "      <td>Карандаш</td>\n",
              "      <td>Пенал</td>\n",
              "      <td>Клей</td>\n",
              "      <td>NaN</td>\n",
              "      <td>NaN</td>\n",
              "      <td>NaN</td>\n",
              "      <td>NaN</td>\n",
              "      <td>NaN</td>\n",
              "      <td>NaN</td>\n",
              "      <td>NaN</td>\n",
              "      <td>NaN</td>\n",
              "      <td>NaN</td>\n",
              "      <td>NaN</td>\n",
              "      <td>NaN</td>\n",
              "      <td>NaN</td>\n",
              "      <td>NaN</td>\n",
              "    </tr>\n",
              "    <tr>\n",
              "      <th>3</th>\n",
              "      <td>4</td>\n",
              "      <td>Ластик</td>\n",
              "      <td>Клей</td>\n",
              "      <td>NaN</td>\n",
              "      <td>NaN</td>\n",
              "      <td>NaN</td>\n",
              "      <td>NaN</td>\n",
              "      <td>NaN</td>\n",
              "      <td>NaN</td>\n",
              "      <td>NaN</td>\n",
              "      <td>NaN</td>\n",
              "      <td>NaN</td>\n",
              "      <td>NaN</td>\n",
              "      <td>NaN</td>\n",
              "      <td>NaN</td>\n",
              "      <td>NaN</td>\n",
              "      <td>NaN</td>\n",
              "    </tr>\n",
              "    <tr>\n",
              "      <th>4</th>\n",
              "      <td>5</td>\n",
              "      <td>Карандаш</td>\n",
              "      <td>Ручка</td>\n",
              "      <td>Листы бумаги</td>\n",
              "      <td>Клей</td>\n",
              "      <td>Линейка</td>\n",
              "      <td>Пенал</td>\n",
              "      <td>NaN</td>\n",
              "      <td>NaN</td>\n",
              "      <td>NaN</td>\n",
              "      <td>NaN</td>\n",
              "      <td>NaN</td>\n",
              "      <td>NaN</td>\n",
              "      <td>NaN</td>\n",
              "      <td>NaN</td>\n",
              "      <td>NaN</td>\n",
              "      <td>NaN</td>\n",
              "    </tr>\n",
              "    <tr>\n",
              "      <th>5</th>\n",
              "      <td>6</td>\n",
              "      <td>Ручка</td>\n",
              "      <td>Карандаш</td>\n",
              "      <td>Линейка</td>\n",
              "      <td>NaN</td>\n",
              "      <td>NaN</td>\n",
              "      <td>NaN</td>\n",
              "      <td>NaN</td>\n",
              "      <td>NaN</td>\n",
              "      <td>NaN</td>\n",
              "      <td>NaN</td>\n",
              "      <td>NaN</td>\n",
              "      <td>NaN</td>\n",
              "      <td>NaN</td>\n",
              "      <td>NaN</td>\n",
              "      <td>NaN</td>\n",
              "      <td>NaN</td>\n",
              "    </tr>\n",
              "    <tr>\n",
              "      <th>6</th>\n",
              "      <td>7</td>\n",
              "      <td>Карандаш</td>\n",
              "      <td>Клей</td>\n",
              "      <td>Линейка</td>\n",
              "      <td>Пенал</td>\n",
              "      <td>Ластик</td>\n",
              "      <td>NaN</td>\n",
              "      <td>NaN</td>\n",
              "      <td>NaN</td>\n",
              "      <td>NaN</td>\n",
              "      <td>NaN</td>\n",
              "      <td>NaN</td>\n",
              "      <td>NaN</td>\n",
              "      <td>NaN</td>\n",
              "      <td>NaN</td>\n",
              "      <td>NaN</td>\n",
              "      <td>NaN</td>\n",
              "    </tr>\n",
              "    <tr>\n",
              "      <th>7</th>\n",
              "      <td>8</td>\n",
              "      <td>Ручка</td>\n",
              "      <td>Карандаш</td>\n",
              "      <td>NaN</td>\n",
              "      <td>NaN</td>\n",
              "      <td>NaN</td>\n",
              "      <td>NaN</td>\n",
              "      <td>NaN</td>\n",
              "      <td>NaN</td>\n",
              "      <td>NaN</td>\n",
              "      <td>NaN</td>\n",
              "      <td>NaN</td>\n",
              "      <td>NaN</td>\n",
              "      <td>NaN</td>\n",
              "      <td>NaN</td>\n",
              "      <td>NaN</td>\n",
              "      <td>NaN</td>\n",
              "    </tr>\n",
              "    <tr>\n",
              "      <th>8</th>\n",
              "      <td>9</td>\n",
              "      <td>Пенал</td>\n",
              "      <td>Карандаш</td>\n",
              "      <td>Листы бумаги</td>\n",
              "      <td>Клей</td>\n",
              "      <td>Ластик</td>\n",
              "      <td>NaN</td>\n",
              "      <td>NaN</td>\n",
              "      <td>NaN</td>\n",
              "      <td>NaN</td>\n",
              "      <td>NaN</td>\n",
              "      <td>NaN</td>\n",
              "      <td>NaN</td>\n",
              "      <td>NaN</td>\n",
              "      <td>NaN</td>\n",
              "      <td>NaN</td>\n",
              "      <td>NaN</td>\n",
              "    </tr>\n",
              "    <tr>\n",
              "      <th>9</th>\n",
              "      <td>10</td>\n",
              "      <td>Пенал</td>\n",
              "      <td>Ручка</td>\n",
              "      <td>Листы бумаги</td>\n",
              "      <td>Клей</td>\n",
              "      <td>Линейка</td>\n",
              "      <td>NaN</td>\n",
              "      <td>NaN</td>\n",
              "      <td>NaN</td>\n",
              "      <td>NaN</td>\n",
              "      <td>NaN</td>\n",
              "      <td>NaN</td>\n",
              "      <td>NaN</td>\n",
              "      <td>NaN</td>\n",
              "      <td>NaN</td>\n",
              "      <td>NaN</td>\n",
              "      <td>NaN</td>\n",
              "    </tr>\n",
              "    <tr>\n",
              "      <th>10</th>\n",
              "      <td>11</td>\n",
              "      <td>Пенал</td>\n",
              "      <td>Листы бумаги</td>\n",
              "      <td>NaN</td>\n",
              "      <td>NaN</td>\n",
              "      <td>NaN</td>\n",
              "      <td>NaN</td>\n",
              "      <td>NaN</td>\n",
              "      <td>NaN</td>\n",
              "      <td>NaN</td>\n",
              "      <td>NaN</td>\n",
              "      <td>NaN</td>\n",
              "      <td>NaN</td>\n",
              "      <td>NaN</td>\n",
              "      <td>NaN</td>\n",
              "      <td>NaN</td>\n",
              "      <td>NaN</td>\n",
              "    </tr>\n",
              "    <tr>\n",
              "      <th>11</th>\n",
              "      <td>12</td>\n",
              "      <td>Пенал</td>\n",
              "      <td>Листы бумаги</td>\n",
              "      <td>Карандаш</td>\n",
              "      <td>NaN</td>\n",
              "      <td>NaN</td>\n",
              "      <td>NaN</td>\n",
              "      <td>NaN</td>\n",
              "      <td>NaN</td>\n",
              "      <td>NaN</td>\n",
              "      <td>NaN</td>\n",
              "      <td>NaN</td>\n",
              "      <td>NaN</td>\n",
              "      <td>NaN</td>\n",
              "      <td>NaN</td>\n",
              "      <td>NaN</td>\n",
              "      <td>NaN</td>\n",
              "    </tr>\n",
              "    <tr>\n",
              "      <th>12</th>\n",
              "      <td>13</td>\n",
              "      <td>Линейка</td>\n",
              "      <td>Ручка</td>\n",
              "      <td>Листы бумаги</td>\n",
              "      <td>Карандаш</td>\n",
              "      <td>Ластик</td>\n",
              "      <td>NaN</td>\n",
              "      <td>NaN</td>\n",
              "      <td>NaN</td>\n",
              "      <td>NaN</td>\n",
              "      <td>NaN</td>\n",
              "      <td>NaN</td>\n",
              "      <td>NaN</td>\n",
              "      <td>NaN</td>\n",
              "      <td>NaN</td>\n",
              "      <td>NaN</td>\n",
              "      <td>NaN</td>\n",
              "    </tr>\n",
              "    <tr>\n",
              "      <th>13</th>\n",
              "      <td>14</td>\n",
              "      <td>Карандаш</td>\n",
              "      <td>Ручка</td>\n",
              "      <td>Листы бумаги</td>\n",
              "      <td>Ластик</td>\n",
              "      <td>NaN</td>\n",
              "      <td>NaN</td>\n",
              "      <td>NaN</td>\n",
              "      <td>NaN</td>\n",
              "      <td>NaN</td>\n",
              "      <td>NaN</td>\n",
              "      <td>NaN</td>\n",
              "      <td>NaN</td>\n",
              "      <td>NaN</td>\n",
              "      <td>NaN</td>\n",
              "      <td>NaN</td>\n",
              "      <td>NaN</td>\n",
              "    </tr>\n",
              "    <tr>\n",
              "      <th>14</th>\n",
              "      <td>15</td>\n",
              "      <td>Ручка</td>\n",
              "      <td>Листы бумаги</td>\n",
              "      <td>Клей</td>\n",
              "      <td>Линейка</td>\n",
              "      <td>Пенал</td>\n",
              "      <td>NaN</td>\n",
              "      <td>NaN</td>\n",
              "      <td>NaN</td>\n",
              "      <td>NaN</td>\n",
              "      <td>NaN</td>\n",
              "      <td>NaN</td>\n",
              "      <td>NaN</td>\n",
              "      <td>NaN</td>\n",
              "      <td>NaN</td>\n",
              "      <td>NaN</td>\n",
              "      <td>NaN</td>\n",
              "    </tr>\n",
              "    <tr>\n",
              "      <th>15</th>\n",
              "      <td>16</td>\n",
              "      <td>Ручка</td>\n",
              "      <td>Листы бумаги</td>\n",
              "      <td>Карандаш</td>\n",
              "      <td>Линейка</td>\n",
              "      <td>Пенал</td>\n",
              "      <td>Ластик</td>\n",
              "      <td>NaN</td>\n",
              "      <td>NaN</td>\n",
              "      <td>NaN</td>\n",
              "      <td>NaN</td>\n",
              "      <td>NaN</td>\n",
              "      <td>NaN</td>\n",
              "      <td>NaN</td>\n",
              "      <td>NaN</td>\n",
              "      <td>NaN</td>\n",
              "      <td>NaN</td>\n",
              "    </tr>\n",
              "    <tr>\n",
              "      <th>16</th>\n",
              "      <td>17</td>\n",
              "      <td>Карандаш</td>\n",
              "      <td>Листы бумаги</td>\n",
              "      <td>NaN</td>\n",
              "      <td>NaN</td>\n",
              "      <td>NaN</td>\n",
              "      <td>NaN</td>\n",
              "      <td>NaN</td>\n",
              "      <td>NaN</td>\n",
              "      <td>NaN</td>\n",
              "      <td>NaN</td>\n",
              "      <td>NaN</td>\n",
              "      <td>NaN</td>\n",
              "      <td>NaN</td>\n",
              "      <td>NaN</td>\n",
              "      <td>NaN</td>\n",
              "      <td>NaN</td>\n",
              "    </tr>\n",
              "    <tr>\n",
              "      <th>17</th>\n",
              "      <td>18</td>\n",
              "      <td>Пенал</td>\n",
              "      <td>Ручка</td>\n",
              "      <td>Листы бумаги</td>\n",
              "      <td>Клей</td>\n",
              "      <td>NaN</td>\n",
              "      <td>NaN</td>\n",
              "      <td>NaN</td>\n",
              "      <td>NaN</td>\n",
              "      <td>NaN</td>\n",
              "      <td>NaN</td>\n",
              "      <td>NaN</td>\n",
              "      <td>NaN</td>\n",
              "      <td>NaN</td>\n",
              "      <td>NaN</td>\n",
              "      <td>NaN</td>\n",
              "      <td>NaN</td>\n",
              "    </tr>\n",
              "    <tr>\n",
              "      <th>18</th>\n",
              "      <td>19</td>\n",
              "      <td>Карандаш</td>\n",
              "      <td>Ручка</td>\n",
              "      <td>Листы бумаги</td>\n",
              "      <td>Клей</td>\n",
              "      <td>NaN</td>\n",
              "      <td>NaN</td>\n",
              "      <td>NaN</td>\n",
              "      <td>NaN</td>\n",
              "      <td>NaN</td>\n",
              "      <td>NaN</td>\n",
              "      <td>NaN</td>\n",
              "      <td>NaN</td>\n",
              "      <td>NaN</td>\n",
              "      <td>NaN</td>\n",
              "      <td>NaN</td>\n",
              "      <td>NaN</td>\n",
              "    </tr>\n",
              "    <tr>\n",
              "      <th>19</th>\n",
              "      <td>20</td>\n",
              "      <td>Пенал</td>\n",
              "      <td>NaN</td>\n",
              "      <td>NaN</td>\n",
              "      <td>NaN</td>\n",
              "      <td>NaN</td>\n",
              "      <td>NaN</td>\n",
              "      <td>NaN</td>\n",
              "      <td>NaN</td>\n",
              "      <td>NaN</td>\n",
              "      <td>NaN</td>\n",
              "      <td>NaN</td>\n",
              "      <td>NaN</td>\n",
              "      <td>NaN</td>\n",
              "      <td>NaN</td>\n",
              "      <td>NaN</td>\n",
              "      <td>NaN</td>\n",
              "    </tr>\n",
              "  </tbody>\n",
              "</table>\n",
              "</div>\n",
              "    <div class=\"colab-df-buttons\">\n",
              "\n",
              "  <div class=\"colab-df-container\">\n",
              "    <button class=\"colab-df-convert\" onclick=\"convertToInteractive('df-af58dc31-62ee-47c0-a966-772842cd7852')\"\n",
              "            title=\"Convert this dataframe to an interactive table.\"\n",
              "            style=\"display:none;\">\n",
              "\n",
              "  <svg xmlns=\"http://www.w3.org/2000/svg\" height=\"24px\" viewBox=\"0 -960 960 960\">\n",
              "    <path d=\"M120-120v-720h720v720H120Zm60-500h600v-160H180v160Zm220 220h160v-160H400v160Zm0 220h160v-160H400v160ZM180-400h160v-160H180v160Zm440 0h160v-160H620v160ZM180-180h160v-160H180v160Zm440 0h160v-160H620v160Z\"/>\n",
              "  </svg>\n",
              "    </button>\n",
              "\n",
              "  <style>\n",
              "    .colab-df-container {\n",
              "      display:flex;\n",
              "      gap: 12px;\n",
              "    }\n",
              "\n",
              "    .colab-df-convert {\n",
              "      background-color: #E8F0FE;\n",
              "      border: none;\n",
              "      border-radius: 50%;\n",
              "      cursor: pointer;\n",
              "      display: none;\n",
              "      fill: #1967D2;\n",
              "      height: 32px;\n",
              "      padding: 0 0 0 0;\n",
              "      width: 32px;\n",
              "    }\n",
              "\n",
              "    .colab-df-convert:hover {\n",
              "      background-color: #E2EBFA;\n",
              "      box-shadow: 0px 1px 2px rgba(60, 64, 67, 0.3), 0px 1px 3px 1px rgba(60, 64, 67, 0.15);\n",
              "      fill: #174EA6;\n",
              "    }\n",
              "\n",
              "    .colab-df-buttons div {\n",
              "      margin-bottom: 4px;\n",
              "    }\n",
              "\n",
              "    [theme=dark] .colab-df-convert {\n",
              "      background-color: #3B4455;\n",
              "      fill: #D2E3FC;\n",
              "    }\n",
              "\n",
              "    [theme=dark] .colab-df-convert:hover {\n",
              "      background-color: #434B5C;\n",
              "      box-shadow: 0px 1px 3px 1px rgba(0, 0, 0, 0.15);\n",
              "      filter: drop-shadow(0px 1px 2px rgba(0, 0, 0, 0.3));\n",
              "      fill: #FFFFFF;\n",
              "    }\n",
              "  </style>\n",
              "\n",
              "    <script>\n",
              "      const buttonEl =\n",
              "        document.querySelector('#df-af58dc31-62ee-47c0-a966-772842cd7852 button.colab-df-convert');\n",
              "      buttonEl.style.display =\n",
              "        google.colab.kernel.accessAllowed ? 'block' : 'none';\n",
              "\n",
              "      async function convertToInteractive(key) {\n",
              "        const element = document.querySelector('#df-af58dc31-62ee-47c0-a966-772842cd7852');\n",
              "        const dataTable =\n",
              "          await google.colab.kernel.invokeFunction('convertToInteractive',\n",
              "                                                    [key], {});\n",
              "        if (!dataTable) return;\n",
              "\n",
              "        const docLinkHtml = 'Like what you see? Visit the ' +\n",
              "          '<a target=\"_blank\" href=https://colab.research.google.com/notebooks/data_table.ipynb>data table notebook</a>'\n",
              "          + ' to learn more about interactive tables.';\n",
              "        element.innerHTML = '';\n",
              "        dataTable['output_type'] = 'display_data';\n",
              "        await google.colab.output.renderOutput(dataTable, element);\n",
              "        const docLink = document.createElement('div');\n",
              "        docLink.innerHTML = docLinkHtml;\n",
              "        element.appendChild(docLink);\n",
              "      }\n",
              "    </script>\n",
              "  </div>\n",
              "\n",
              "\n",
              "<div id=\"df-d3b73c30-d0b2-4f3a-a389-1b508d64d677\">\n",
              "  <button class=\"colab-df-quickchart\" onclick=\"quickchart('df-d3b73c30-d0b2-4f3a-a389-1b508d64d677')\"\n",
              "            title=\"Suggest charts.\"\n",
              "            style=\"display:none;\">\n",
              "\n",
              "<svg xmlns=\"http://www.w3.org/2000/svg\" height=\"24px\"viewBox=\"0 0 24 24\"\n",
              "     width=\"24px\">\n",
              "    <g>\n",
              "        <path d=\"M19 3H5c-1.1 0-2 .9-2 2v14c0 1.1.9 2 2 2h14c1.1 0 2-.9 2-2V5c0-1.1-.9-2-2-2zM9 17H7v-7h2v7zm4 0h-2V7h2v10zm4 0h-2v-4h2v4z\"/>\n",
              "    </g>\n",
              "</svg>\n",
              "  </button>\n",
              "\n",
              "<style>\n",
              "  .colab-df-quickchart {\n",
              "      --bg-color: #E8F0FE;\n",
              "      --fill-color: #1967D2;\n",
              "      --hover-bg-color: #E2EBFA;\n",
              "      --hover-fill-color: #174EA6;\n",
              "      --disabled-fill-color: #AAA;\n",
              "      --disabled-bg-color: #DDD;\n",
              "  }\n",
              "\n",
              "  [theme=dark] .colab-df-quickchart {\n",
              "      --bg-color: #3B4455;\n",
              "      --fill-color: #D2E3FC;\n",
              "      --hover-bg-color: #434B5C;\n",
              "      --hover-fill-color: #FFFFFF;\n",
              "      --disabled-bg-color: #3B4455;\n",
              "      --disabled-fill-color: #666;\n",
              "  }\n",
              "\n",
              "  .colab-df-quickchart {\n",
              "    background-color: var(--bg-color);\n",
              "    border: none;\n",
              "    border-radius: 50%;\n",
              "    cursor: pointer;\n",
              "    display: none;\n",
              "    fill: var(--fill-color);\n",
              "    height: 32px;\n",
              "    padding: 0;\n",
              "    width: 32px;\n",
              "  }\n",
              "\n",
              "  .colab-df-quickchart:hover {\n",
              "    background-color: var(--hover-bg-color);\n",
              "    box-shadow: 0 1px 2px rgba(60, 64, 67, 0.3), 0 1px 3px 1px rgba(60, 64, 67, 0.15);\n",
              "    fill: var(--button-hover-fill-color);\n",
              "  }\n",
              "\n",
              "  .colab-df-quickchart-complete:disabled,\n",
              "  .colab-df-quickchart-complete:disabled:hover {\n",
              "    background-color: var(--disabled-bg-color);\n",
              "    fill: var(--disabled-fill-color);\n",
              "    box-shadow: none;\n",
              "  }\n",
              "\n",
              "  .colab-df-spinner {\n",
              "    border: 2px solid var(--fill-color);\n",
              "    border-color: transparent;\n",
              "    border-bottom-color: var(--fill-color);\n",
              "    animation:\n",
              "      spin 1s steps(1) infinite;\n",
              "  }\n",
              "\n",
              "  @keyframes spin {\n",
              "    0% {\n",
              "      border-color: transparent;\n",
              "      border-bottom-color: var(--fill-color);\n",
              "      border-left-color: var(--fill-color);\n",
              "    }\n",
              "    20% {\n",
              "      border-color: transparent;\n",
              "      border-left-color: var(--fill-color);\n",
              "      border-top-color: var(--fill-color);\n",
              "    }\n",
              "    30% {\n",
              "      border-color: transparent;\n",
              "      border-left-color: var(--fill-color);\n",
              "      border-top-color: var(--fill-color);\n",
              "      border-right-color: var(--fill-color);\n",
              "    }\n",
              "    40% {\n",
              "      border-color: transparent;\n",
              "      border-right-color: var(--fill-color);\n",
              "      border-top-color: var(--fill-color);\n",
              "    }\n",
              "    60% {\n",
              "      border-color: transparent;\n",
              "      border-right-color: var(--fill-color);\n",
              "    }\n",
              "    80% {\n",
              "      border-color: transparent;\n",
              "      border-right-color: var(--fill-color);\n",
              "      border-bottom-color: var(--fill-color);\n",
              "    }\n",
              "    90% {\n",
              "      border-color: transparent;\n",
              "      border-bottom-color: var(--fill-color);\n",
              "    }\n",
              "  }\n",
              "</style>\n",
              "\n",
              "  <script>\n",
              "    async function quickchart(key) {\n",
              "      const quickchartButtonEl =\n",
              "        document.querySelector('#' + key + ' button');\n",
              "      quickchartButtonEl.disabled = true;  // To prevent multiple clicks.\n",
              "      quickchartButtonEl.classList.add('colab-df-spinner');\n",
              "      try {\n",
              "        const charts = await google.colab.kernel.invokeFunction(\n",
              "            'suggestCharts', [key], {});\n",
              "      } catch (error) {\n",
              "        console.error('Error during call to suggestCharts:', error);\n",
              "      }\n",
              "      quickchartButtonEl.classList.remove('colab-df-spinner');\n",
              "      quickchartButtonEl.classList.add('colab-df-quickchart-complete');\n",
              "    }\n",
              "    (() => {\n",
              "      let quickchartButtonEl =\n",
              "        document.querySelector('#df-d3b73c30-d0b2-4f3a-a389-1b508d64d677 button');\n",
              "      quickchartButtonEl.style.display =\n",
              "        google.colab.kernel.accessAllowed ? 'block' : 'none';\n",
              "    })();\n",
              "  </script>\n",
              "</div>\n",
              "    </div>\n",
              "  </div>\n"
            ]
          },
          "metadata": {},
          "execution_count": 4
        }
      ]
    },
    {
      "cell_type": "markdown",
      "source": [
        "# Data processing"
      ],
      "metadata": {
        "id": "1mlkVoah8MBS"
      }
    },
    {
      "cell_type": "code",
      "source": [
        "transactions = df.iloc[0:20, 1:8]"
      ],
      "metadata": {
        "id": "6G53Vtb85XQD"
      },
      "execution_count": null,
      "outputs": []
    },
    {
      "cell_type": "code",
      "source": [
        "transactions"
      ],
      "metadata": {
        "id": "VgCMoVGs6kEK",
        "colab": {
          "base_uri": "https://localhost:8080/",
          "height": 924
        },
        "outputId": "3c7ee860-b3f7-439a-f901-6d25a37884f9"
      },
      "execution_count": null,
      "outputs": [
        {
          "output_type": "execute_result",
          "data": {
            "text/plain": [
              "   Unnamed: 1    Unnamed: 2    Unnamed: 3 Unnamed: 4 Unnamed: 5 Unnamed: 6  \\\n",
              "0    Карандаш         Ручка  Листы бумаги      Клей    Линейка      Пенал    \n",
              "1      Краски      Карандаш  Листы бумаги        NaN        NaN        NaN   \n",
              "2    Карандаш         Пенал         Клей         NaN        NaN        NaN   \n",
              "3      Ластик          Клей           NaN        NaN        NaN        NaN   \n",
              "4    Карандаш         Ручка  Листы бумаги      Клей    Линейка      Пенал    \n",
              "5       Ручка      Карандаш       Линейка        NaN        NaN        NaN   \n",
              "6    Карандаш         Клей       Линейка      Пенал      Ластик        NaN   \n",
              "7       Ручка      Карандаш           NaN        NaN        NaN        NaN   \n",
              "8      Пенал       Карандаш  Листы бумаги      Клей      Ластик        NaN   \n",
              "9      Пенал          Ручка  Листы бумаги      Клей    Линейка         NaN   \n",
              "10     Пенал   Листы бумаги           NaN        NaN        NaN        NaN   \n",
              "11     Пенал   Листы бумаги      Карандаш        NaN        NaN        NaN   \n",
              "12    Линейка         Ручка  Листы бумаги   Карандаш     Ластик        NaN   \n",
              "13   Карандаш         Ручка  Листы бумаги     Ластик        NaN        NaN   \n",
              "14      Ручка  Листы бумаги         Клей    Линейка      Пенал         NaN   \n",
              "15      Ручка  Листы бумаги      Карандаш   Линейка      Пенал      Ластик   \n",
              "16   Карандаш  Листы бумаги           NaN        NaN        NaN        NaN   \n",
              "17     Пенал          Ручка  Листы бумаги      Клей         NaN        NaN   \n",
              "18   Карандаш         Ручка  Листы бумаги      Клей         NaN        NaN   \n",
              "19     Пенал            NaN           NaN        NaN        NaN        NaN   \n",
              "\n",
              "   Unnamed: 7  \n",
              "0      Ластик  \n",
              "1         NaN  \n",
              "2         NaN  \n",
              "3         NaN  \n",
              "4         NaN  \n",
              "5         NaN  \n",
              "6         NaN  \n",
              "7         NaN  \n",
              "8         NaN  \n",
              "9         NaN  \n",
              "10        NaN  \n",
              "11        NaN  \n",
              "12        NaN  \n",
              "13        NaN  \n",
              "14        NaN  \n",
              "15        NaN  \n",
              "16        NaN  \n",
              "17        NaN  \n",
              "18        NaN  \n",
              "19        NaN  "
            ],
            "text/html": [
              "\n",
              "  <div id=\"df-c3c27c7b-64e5-4ead-82cd-065b2155ef84\" class=\"colab-df-container\">\n",
              "    <div>\n",
              "<style scoped>\n",
              "    .dataframe tbody tr th:only-of-type {\n",
              "        vertical-align: middle;\n",
              "    }\n",
              "\n",
              "    .dataframe tbody tr th {\n",
              "        vertical-align: top;\n",
              "    }\n",
              "\n",
              "    .dataframe thead th {\n",
              "        text-align: right;\n",
              "    }\n",
              "</style>\n",
              "<table border=\"1\" class=\"dataframe\">\n",
              "  <thead>\n",
              "    <tr style=\"text-align: right;\">\n",
              "      <th></th>\n",
              "      <th>Unnamed: 1</th>\n",
              "      <th>Unnamed: 2</th>\n",
              "      <th>Unnamed: 3</th>\n",
              "      <th>Unnamed: 4</th>\n",
              "      <th>Unnamed: 5</th>\n",
              "      <th>Unnamed: 6</th>\n",
              "      <th>Unnamed: 7</th>\n",
              "    </tr>\n",
              "  </thead>\n",
              "  <tbody>\n",
              "    <tr>\n",
              "      <th>0</th>\n",
              "      <td>Карандаш</td>\n",
              "      <td>Ручка</td>\n",
              "      <td>Листы бумаги</td>\n",
              "      <td>Клей</td>\n",
              "      <td>Линейка</td>\n",
              "      <td>Пенал</td>\n",
              "      <td>Ластик</td>\n",
              "    </tr>\n",
              "    <tr>\n",
              "      <th>1</th>\n",
              "      <td>Краски</td>\n",
              "      <td>Карандаш</td>\n",
              "      <td>Листы бумаги</td>\n",
              "      <td>NaN</td>\n",
              "      <td>NaN</td>\n",
              "      <td>NaN</td>\n",
              "      <td>NaN</td>\n",
              "    </tr>\n",
              "    <tr>\n",
              "      <th>2</th>\n",
              "      <td>Карандаш</td>\n",
              "      <td>Пенал</td>\n",
              "      <td>Клей</td>\n",
              "      <td>NaN</td>\n",
              "      <td>NaN</td>\n",
              "      <td>NaN</td>\n",
              "      <td>NaN</td>\n",
              "    </tr>\n",
              "    <tr>\n",
              "      <th>3</th>\n",
              "      <td>Ластик</td>\n",
              "      <td>Клей</td>\n",
              "      <td>NaN</td>\n",
              "      <td>NaN</td>\n",
              "      <td>NaN</td>\n",
              "      <td>NaN</td>\n",
              "      <td>NaN</td>\n",
              "    </tr>\n",
              "    <tr>\n",
              "      <th>4</th>\n",
              "      <td>Карандаш</td>\n",
              "      <td>Ручка</td>\n",
              "      <td>Листы бумаги</td>\n",
              "      <td>Клей</td>\n",
              "      <td>Линейка</td>\n",
              "      <td>Пенал</td>\n",
              "      <td>NaN</td>\n",
              "    </tr>\n",
              "    <tr>\n",
              "      <th>5</th>\n",
              "      <td>Ручка</td>\n",
              "      <td>Карандаш</td>\n",
              "      <td>Линейка</td>\n",
              "      <td>NaN</td>\n",
              "      <td>NaN</td>\n",
              "      <td>NaN</td>\n",
              "      <td>NaN</td>\n",
              "    </tr>\n",
              "    <tr>\n",
              "      <th>6</th>\n",
              "      <td>Карандаш</td>\n",
              "      <td>Клей</td>\n",
              "      <td>Линейка</td>\n",
              "      <td>Пенал</td>\n",
              "      <td>Ластик</td>\n",
              "      <td>NaN</td>\n",
              "      <td>NaN</td>\n",
              "    </tr>\n",
              "    <tr>\n",
              "      <th>7</th>\n",
              "      <td>Ручка</td>\n",
              "      <td>Карандаш</td>\n",
              "      <td>NaN</td>\n",
              "      <td>NaN</td>\n",
              "      <td>NaN</td>\n",
              "      <td>NaN</td>\n",
              "      <td>NaN</td>\n",
              "    </tr>\n",
              "    <tr>\n",
              "      <th>8</th>\n",
              "      <td>Пенал</td>\n",
              "      <td>Карандаш</td>\n",
              "      <td>Листы бумаги</td>\n",
              "      <td>Клей</td>\n",
              "      <td>Ластик</td>\n",
              "      <td>NaN</td>\n",
              "      <td>NaN</td>\n",
              "    </tr>\n",
              "    <tr>\n",
              "      <th>9</th>\n",
              "      <td>Пенал</td>\n",
              "      <td>Ручка</td>\n",
              "      <td>Листы бумаги</td>\n",
              "      <td>Клей</td>\n",
              "      <td>Линейка</td>\n",
              "      <td>NaN</td>\n",
              "      <td>NaN</td>\n",
              "    </tr>\n",
              "    <tr>\n",
              "      <th>10</th>\n",
              "      <td>Пенал</td>\n",
              "      <td>Листы бумаги</td>\n",
              "      <td>NaN</td>\n",
              "      <td>NaN</td>\n",
              "      <td>NaN</td>\n",
              "      <td>NaN</td>\n",
              "      <td>NaN</td>\n",
              "    </tr>\n",
              "    <tr>\n",
              "      <th>11</th>\n",
              "      <td>Пенал</td>\n",
              "      <td>Листы бумаги</td>\n",
              "      <td>Карандаш</td>\n",
              "      <td>NaN</td>\n",
              "      <td>NaN</td>\n",
              "      <td>NaN</td>\n",
              "      <td>NaN</td>\n",
              "    </tr>\n",
              "    <tr>\n",
              "      <th>12</th>\n",
              "      <td>Линейка</td>\n",
              "      <td>Ручка</td>\n",
              "      <td>Листы бумаги</td>\n",
              "      <td>Карандаш</td>\n",
              "      <td>Ластик</td>\n",
              "      <td>NaN</td>\n",
              "      <td>NaN</td>\n",
              "    </tr>\n",
              "    <tr>\n",
              "      <th>13</th>\n",
              "      <td>Карандаш</td>\n",
              "      <td>Ручка</td>\n",
              "      <td>Листы бумаги</td>\n",
              "      <td>Ластик</td>\n",
              "      <td>NaN</td>\n",
              "      <td>NaN</td>\n",
              "      <td>NaN</td>\n",
              "    </tr>\n",
              "    <tr>\n",
              "      <th>14</th>\n",
              "      <td>Ручка</td>\n",
              "      <td>Листы бумаги</td>\n",
              "      <td>Клей</td>\n",
              "      <td>Линейка</td>\n",
              "      <td>Пенал</td>\n",
              "      <td>NaN</td>\n",
              "      <td>NaN</td>\n",
              "    </tr>\n",
              "    <tr>\n",
              "      <th>15</th>\n",
              "      <td>Ручка</td>\n",
              "      <td>Листы бумаги</td>\n",
              "      <td>Карандаш</td>\n",
              "      <td>Линейка</td>\n",
              "      <td>Пенал</td>\n",
              "      <td>Ластик</td>\n",
              "      <td>NaN</td>\n",
              "    </tr>\n",
              "    <tr>\n",
              "      <th>16</th>\n",
              "      <td>Карандаш</td>\n",
              "      <td>Листы бумаги</td>\n",
              "      <td>NaN</td>\n",
              "      <td>NaN</td>\n",
              "      <td>NaN</td>\n",
              "      <td>NaN</td>\n",
              "      <td>NaN</td>\n",
              "    </tr>\n",
              "    <tr>\n",
              "      <th>17</th>\n",
              "      <td>Пенал</td>\n",
              "      <td>Ручка</td>\n",
              "      <td>Листы бумаги</td>\n",
              "      <td>Клей</td>\n",
              "      <td>NaN</td>\n",
              "      <td>NaN</td>\n",
              "      <td>NaN</td>\n",
              "    </tr>\n",
              "    <tr>\n",
              "      <th>18</th>\n",
              "      <td>Карандаш</td>\n",
              "      <td>Ручка</td>\n",
              "      <td>Листы бумаги</td>\n",
              "      <td>Клей</td>\n",
              "      <td>NaN</td>\n",
              "      <td>NaN</td>\n",
              "      <td>NaN</td>\n",
              "    </tr>\n",
              "    <tr>\n",
              "      <th>19</th>\n",
              "      <td>Пенал</td>\n",
              "      <td>NaN</td>\n",
              "      <td>NaN</td>\n",
              "      <td>NaN</td>\n",
              "      <td>NaN</td>\n",
              "      <td>NaN</td>\n",
              "      <td>NaN</td>\n",
              "    </tr>\n",
              "  </tbody>\n",
              "</table>\n",
              "</div>\n",
              "    <div class=\"colab-df-buttons\">\n",
              "\n",
              "  <div class=\"colab-df-container\">\n",
              "    <button class=\"colab-df-convert\" onclick=\"convertToInteractive('df-c3c27c7b-64e5-4ead-82cd-065b2155ef84')\"\n",
              "            title=\"Convert this dataframe to an interactive table.\"\n",
              "            style=\"display:none;\">\n",
              "\n",
              "  <svg xmlns=\"http://www.w3.org/2000/svg\" height=\"24px\" viewBox=\"0 -960 960 960\">\n",
              "    <path d=\"M120-120v-720h720v720H120Zm60-500h600v-160H180v160Zm220 220h160v-160H400v160Zm0 220h160v-160H400v160ZM180-400h160v-160H180v160Zm440 0h160v-160H620v160ZM180-180h160v-160H180v160Zm440 0h160v-160H620v160Z\"/>\n",
              "  </svg>\n",
              "    </button>\n",
              "\n",
              "  <style>\n",
              "    .colab-df-container {\n",
              "      display:flex;\n",
              "      gap: 12px;\n",
              "    }\n",
              "\n",
              "    .colab-df-convert {\n",
              "      background-color: #E8F0FE;\n",
              "      border: none;\n",
              "      border-radius: 50%;\n",
              "      cursor: pointer;\n",
              "      display: none;\n",
              "      fill: #1967D2;\n",
              "      height: 32px;\n",
              "      padding: 0 0 0 0;\n",
              "      width: 32px;\n",
              "    }\n",
              "\n",
              "    .colab-df-convert:hover {\n",
              "      background-color: #E2EBFA;\n",
              "      box-shadow: 0px 1px 2px rgba(60, 64, 67, 0.3), 0px 1px 3px 1px rgba(60, 64, 67, 0.15);\n",
              "      fill: #174EA6;\n",
              "    }\n",
              "\n",
              "    .colab-df-buttons div {\n",
              "      margin-bottom: 4px;\n",
              "    }\n",
              "\n",
              "    [theme=dark] .colab-df-convert {\n",
              "      background-color: #3B4455;\n",
              "      fill: #D2E3FC;\n",
              "    }\n",
              "\n",
              "    [theme=dark] .colab-df-convert:hover {\n",
              "      background-color: #434B5C;\n",
              "      box-shadow: 0px 1px 3px 1px rgba(0, 0, 0, 0.15);\n",
              "      filter: drop-shadow(0px 1px 2px rgba(0, 0, 0, 0.3));\n",
              "      fill: #FFFFFF;\n",
              "    }\n",
              "  </style>\n",
              "\n",
              "    <script>\n",
              "      const buttonEl =\n",
              "        document.querySelector('#df-c3c27c7b-64e5-4ead-82cd-065b2155ef84 button.colab-df-convert');\n",
              "      buttonEl.style.display =\n",
              "        google.colab.kernel.accessAllowed ? 'block' : 'none';\n",
              "\n",
              "      async function convertToInteractive(key) {\n",
              "        const element = document.querySelector('#df-c3c27c7b-64e5-4ead-82cd-065b2155ef84');\n",
              "        const dataTable =\n",
              "          await google.colab.kernel.invokeFunction('convertToInteractive',\n",
              "                                                    [key], {});\n",
              "        if (!dataTable) return;\n",
              "\n",
              "        const docLinkHtml = 'Like what you see? Visit the ' +\n",
              "          '<a target=\"_blank\" href=https://colab.research.google.com/notebooks/data_table.ipynb>data table notebook</a>'\n",
              "          + ' to learn more about interactive tables.';\n",
              "        element.innerHTML = '';\n",
              "        dataTable['output_type'] = 'display_data';\n",
              "        await google.colab.output.renderOutput(dataTable, element);\n",
              "        const docLink = document.createElement('div');\n",
              "        docLink.innerHTML = docLinkHtml;\n",
              "        element.appendChild(docLink);\n",
              "      }\n",
              "    </script>\n",
              "  </div>\n",
              "\n",
              "\n",
              "<div id=\"df-1a2ac35f-44a2-4862-95da-75a64c719b90\">\n",
              "  <button class=\"colab-df-quickchart\" onclick=\"quickchart('df-1a2ac35f-44a2-4862-95da-75a64c719b90')\"\n",
              "            title=\"Suggest charts.\"\n",
              "            style=\"display:none;\">\n",
              "\n",
              "<svg xmlns=\"http://www.w3.org/2000/svg\" height=\"24px\"viewBox=\"0 0 24 24\"\n",
              "     width=\"24px\">\n",
              "    <g>\n",
              "        <path d=\"M19 3H5c-1.1 0-2 .9-2 2v14c0 1.1.9 2 2 2h14c1.1 0 2-.9 2-2V5c0-1.1-.9-2-2-2zM9 17H7v-7h2v7zm4 0h-2V7h2v10zm4 0h-2v-4h2v4z\"/>\n",
              "    </g>\n",
              "</svg>\n",
              "  </button>\n",
              "\n",
              "<style>\n",
              "  .colab-df-quickchart {\n",
              "      --bg-color: #E8F0FE;\n",
              "      --fill-color: #1967D2;\n",
              "      --hover-bg-color: #E2EBFA;\n",
              "      --hover-fill-color: #174EA6;\n",
              "      --disabled-fill-color: #AAA;\n",
              "      --disabled-bg-color: #DDD;\n",
              "  }\n",
              "\n",
              "  [theme=dark] .colab-df-quickchart {\n",
              "      --bg-color: #3B4455;\n",
              "      --fill-color: #D2E3FC;\n",
              "      --hover-bg-color: #434B5C;\n",
              "      --hover-fill-color: #FFFFFF;\n",
              "      --disabled-bg-color: #3B4455;\n",
              "      --disabled-fill-color: #666;\n",
              "  }\n",
              "\n",
              "  .colab-df-quickchart {\n",
              "    background-color: var(--bg-color);\n",
              "    border: none;\n",
              "    border-radius: 50%;\n",
              "    cursor: pointer;\n",
              "    display: none;\n",
              "    fill: var(--fill-color);\n",
              "    height: 32px;\n",
              "    padding: 0;\n",
              "    width: 32px;\n",
              "  }\n",
              "\n",
              "  .colab-df-quickchart:hover {\n",
              "    background-color: var(--hover-bg-color);\n",
              "    box-shadow: 0 1px 2px rgba(60, 64, 67, 0.3), 0 1px 3px 1px rgba(60, 64, 67, 0.15);\n",
              "    fill: var(--button-hover-fill-color);\n",
              "  }\n",
              "\n",
              "  .colab-df-quickchart-complete:disabled,\n",
              "  .colab-df-quickchart-complete:disabled:hover {\n",
              "    background-color: var(--disabled-bg-color);\n",
              "    fill: var(--disabled-fill-color);\n",
              "    box-shadow: none;\n",
              "  }\n",
              "\n",
              "  .colab-df-spinner {\n",
              "    border: 2px solid var(--fill-color);\n",
              "    border-color: transparent;\n",
              "    border-bottom-color: var(--fill-color);\n",
              "    animation:\n",
              "      spin 1s steps(1) infinite;\n",
              "  }\n",
              "\n",
              "  @keyframes spin {\n",
              "    0% {\n",
              "      border-color: transparent;\n",
              "      border-bottom-color: var(--fill-color);\n",
              "      border-left-color: var(--fill-color);\n",
              "    }\n",
              "    20% {\n",
              "      border-color: transparent;\n",
              "      border-left-color: var(--fill-color);\n",
              "      border-top-color: var(--fill-color);\n",
              "    }\n",
              "    30% {\n",
              "      border-color: transparent;\n",
              "      border-left-color: var(--fill-color);\n",
              "      border-top-color: var(--fill-color);\n",
              "      border-right-color: var(--fill-color);\n",
              "    }\n",
              "    40% {\n",
              "      border-color: transparent;\n",
              "      border-right-color: var(--fill-color);\n",
              "      border-top-color: var(--fill-color);\n",
              "    }\n",
              "    60% {\n",
              "      border-color: transparent;\n",
              "      border-right-color: var(--fill-color);\n",
              "    }\n",
              "    80% {\n",
              "      border-color: transparent;\n",
              "      border-right-color: var(--fill-color);\n",
              "      border-bottom-color: var(--fill-color);\n",
              "    }\n",
              "    90% {\n",
              "      border-color: transparent;\n",
              "      border-bottom-color: var(--fill-color);\n",
              "    }\n",
              "  }\n",
              "</style>\n",
              "\n",
              "  <script>\n",
              "    async function quickchart(key) {\n",
              "      const quickchartButtonEl =\n",
              "        document.querySelector('#' + key + ' button');\n",
              "      quickchartButtonEl.disabled = true;  // To prevent multiple clicks.\n",
              "      quickchartButtonEl.classList.add('colab-df-spinner');\n",
              "      try {\n",
              "        const charts = await google.colab.kernel.invokeFunction(\n",
              "            'suggestCharts', [key], {});\n",
              "      } catch (error) {\n",
              "        console.error('Error during call to suggestCharts:', error);\n",
              "      }\n",
              "      quickchartButtonEl.classList.remove('colab-df-spinner');\n",
              "      quickchartButtonEl.classList.add('colab-df-quickchart-complete');\n",
              "    }\n",
              "    (() => {\n",
              "      let quickchartButtonEl =\n",
              "        document.querySelector('#df-1a2ac35f-44a2-4862-95da-75a64c719b90 button');\n",
              "      quickchartButtonEl.style.display =\n",
              "        google.colab.kernel.accessAllowed ? 'block' : 'none';\n",
              "    })();\n",
              "  </script>\n",
              "</div>\n",
              "    </div>\n",
              "  </div>\n"
            ]
          },
          "metadata": {},
          "execution_count": 6
        }
      ]
    },
    {
      "cell_type": "code",
      "source": [
        "transactions_list = transactions.values.tolist()"
      ],
      "metadata": {
        "id": "OyzxGEolY6l5"
      },
      "execution_count": null,
      "outputs": []
    },
    {
      "cell_type": "code",
      "source": [
        "for i in range(0, len(transactions_list)):\n",
        "  transactions_list[i] = [item.replace(\" \", \"\") for item in transactions_list[i] if not(pd.isnull(item)) == True]\n",
        "  print(transactions_list[i])"
      ],
      "metadata": {
        "id": "xNtMoss3Zcxv",
        "colab": {
          "base_uri": "https://localhost:8080/"
        },
        "outputId": "9716d8d6-9162-4bb6-e3d9-14095ceccd62"
      },
      "execution_count": null,
      "outputs": [
        {
          "output_type": "stream",
          "name": "stdout",
          "text": [
            "['Карандаш', 'Ручка', 'Листыбумаги', 'Клей', 'Линейка', 'Пенал', 'Ластик']\n",
            "['Краски', 'Карандаш', 'Листыбумаги']\n",
            "['Карандаш', 'Пенал', 'Клей']\n",
            "['Ластик', 'Клей']\n",
            "['Карандаш', 'Ручка', 'Листыбумаги', 'Клей', 'Линейка', 'Пенал']\n",
            "['Ручка', 'Карандаш', 'Линейка']\n",
            "['Карандаш', 'Клей', 'Линейка', 'Пенал', 'Ластик']\n",
            "['Ручка', 'Карандаш']\n",
            "['Пенал', 'Карандаш', 'Листыбумаги', 'Клей', 'Ластик']\n",
            "['Пенал', 'Ручка', 'Листыбумаги', 'Клей', 'Линейка']\n",
            "['Пенал', 'Листыбумаги']\n",
            "['Пенал', 'Листыбумаги', 'Карандаш']\n",
            "['Линейка', 'Ручка', 'Листыбумаги', 'Карандаш', 'Ластик']\n",
            "['Карандаш', 'Ручка', 'Листыбумаги', 'Ластик']\n",
            "['Ручка', 'Листыбумаги', 'Клей', 'Линейка', 'Пенал']\n",
            "['Ручка', 'Листыбумаги', 'Карандаш', 'Линейка', 'Пенал', 'Ластик']\n",
            "['Карандаш', 'Листыбумаги']\n",
            "['Пенал', 'Ручка', 'Листыбумаги', 'Клей']\n",
            "['Карандаш', 'Ручка', 'Листыбумаги', 'Клей']\n",
            "['Пенал']\n"
          ]
        }
      ]
    },
    {
      "cell_type": "code",
      "source": [
        "transactions_list"
      ],
      "metadata": {
        "id": "DAacmLZAkdFx",
        "colab": {
          "base_uri": "https://localhost:8080/"
        },
        "outputId": "d4a1edb9-16a9-4bd7-c2aa-55abe284dccf"
      },
      "execution_count": null,
      "outputs": [
        {
          "output_type": "execute_result",
          "data": {
            "text/plain": [
              "[['Карандаш', 'Ручка', 'Листыбумаги', 'Клей', 'Линейка', 'Пенал', 'Ластик'],\n",
              " ['Краски', 'Карандаш', 'Листыбумаги'],\n",
              " ['Карандаш', 'Пенал', 'Клей'],\n",
              " ['Ластик', 'Клей'],\n",
              " ['Карандаш', 'Ручка', 'Листыбумаги', 'Клей', 'Линейка', 'Пенал'],\n",
              " ['Ручка', 'Карандаш', 'Линейка'],\n",
              " ['Карандаш', 'Клей', 'Линейка', 'Пенал', 'Ластик'],\n",
              " ['Ручка', 'Карандаш'],\n",
              " ['Пенал', 'Карандаш', 'Листыбумаги', 'Клей', 'Ластик'],\n",
              " ['Пенал', 'Ручка', 'Листыбумаги', 'Клей', 'Линейка'],\n",
              " ['Пенал', 'Листыбумаги'],\n",
              " ['Пенал', 'Листыбумаги', 'Карандаш'],\n",
              " ['Линейка', 'Ручка', 'Листыбумаги', 'Карандаш', 'Ластик'],\n",
              " ['Карандаш', 'Ручка', 'Листыбумаги', 'Ластик'],\n",
              " ['Ручка', 'Листыбумаги', 'Клей', 'Линейка', 'Пенал'],\n",
              " ['Ручка', 'Листыбумаги', 'Карандаш', 'Линейка', 'Пенал', 'Ластик'],\n",
              " ['Карандаш', 'Листыбумаги'],\n",
              " ['Пенал', 'Ручка', 'Листыбумаги', 'Клей'],\n",
              " ['Карандаш', 'Ручка', 'Листыбумаги', 'Клей'],\n",
              " ['Пенал']]"
            ]
          },
          "metadata": {},
          "execution_count": 9
        }
      ]
    },
    {
      "cell_type": "markdown",
      "source": [
        "# Small dataframe"
      ],
      "metadata": {
        "id": "7QrqgxdGHoof"
      }
    },
    {
      "cell_type": "markdown",
      "source": [
        "#Apriori"
      ],
      "metadata": {
        "id": "GFQjI-sZ8U9Q"
      }
    },
    {
      "cell_type": "code",
      "source": [
        "freqItemSet_1, rules_1 = apriori(transactions_list, minSup = 0.3, minConf = 0.79)\n",
        "\n",
        "rules_1"
      ],
      "metadata": {
        "id": "OJd3WyHL6mF-",
        "colab": {
          "base_uri": "https://localhost:8080/"
        },
        "outputId": "9757aeef-58a0-4612-c30d-1b3c22397cdb"
      },
      "execution_count": null,
      "outputs": [
        {
          "output_type": "execute_result",
          "data": {
            "text/plain": [
              "[[{'Клей'}, {'Пенал'}, 0.8],\n",
              " [{'Ручка'}, {'Листыбумаги'}, 0.8181818181818182],\n",
              " [{'Ластик'}, {'Карандаш'}, 0.8571428571428571],\n",
              " [{'Клей', 'Листыбумаги'}, {'Пенал'}, 0.8571428571428571],\n",
              " [{'Линейка', 'Ручка'}, {'Листыбумаги'}, 0.8571428571428571],\n",
              " [{'Клей', 'Листыбумаги'}, {'Ручка'}, 0.8571428571428571],\n",
              " [{'Линейка'}, {'Ручка'}, 0.875],\n",
              " [{'Линейка', 'Листыбумаги'}, {'Ручка'}, 1.0],\n",
              " [{'Пенал', 'Ручка'}, {'Листыбумаги'}, 1.0],\n",
              " [{'Клей', 'Ручка'}, {'Листыбумаги'}, 1.0]]"
            ]
          },
          "metadata": {},
          "execution_count": 10
        }
      ]
    },
    {
      "cell_type": "code",
      "source": [
        "freqItemSet_1"
      ],
      "metadata": {
        "id": "hOfvO-e6yMvx",
        "colab": {
          "base_uri": "https://localhost:8080/"
        },
        "outputId": "efd73abc-66ed-4761-ff3e-f12ab57c43f7"
      },
      "execution_count": null,
      "outputs": [
        {
          "output_type": "execute_result",
          "data": {
            "text/plain": [
              "{1: {frozenset({'Листыбумаги'}),\n",
              "  frozenset({'Ластик'}),\n",
              "  frozenset({'Ручка'}),\n",
              "  frozenset({'Линейка'}),\n",
              "  frozenset({'Клей'}),\n",
              "  frozenset({'Карандаш'}),\n",
              "  frozenset({'Пенал'})},\n",
              " 2: {frozenset({'Карандаш', 'Ручка'}),\n",
              "  frozenset({'Пенал', 'Ручка'}),\n",
              "  frozenset({'Карандаш', 'Ластик'}),\n",
              "  frozenset({'Карандаш', 'Листыбумаги'}),\n",
              "  frozenset({'Листыбумаги', 'Пенал'}),\n",
              "  frozenset({'Карандаш', 'Пенал'}),\n",
              "  frozenset({'Клей', 'Пенал'}),\n",
              "  frozenset({'Карандаш', 'Клей'}),\n",
              "  frozenset({'Листыбумаги', 'Ручка'}),\n",
              "  frozenset({'Клей', 'Листыбумаги'}),\n",
              "  frozenset({'Линейка', 'Пенал'}),\n",
              "  frozenset({'Клей', 'Ручка'}),\n",
              "  frozenset({'Карандаш', 'Линейка'}),\n",
              "  frozenset({'Линейка', 'Листыбумаги'}),\n",
              "  frozenset({'Линейка', 'Ручка'})},\n",
              " 3: {frozenset({'Клей', 'Листыбумаги', 'Пенал'}),\n",
              "  frozenset({'Линейка', 'Листыбумаги', 'Ручка'}),\n",
              "  frozenset({'Листыбумаги', 'Пенал', 'Ручка'}),\n",
              "  frozenset({'Клей', 'Листыбумаги', 'Ручка'}),\n",
              "  frozenset({'Карандаш', 'Листыбумаги', 'Ручка'})}}"
            ]
          },
          "metadata": {},
          "execution_count": 11
        }
      ]
    },
    {
      "cell_type": "code",
      "source": [
        "freqItemSet_2, rules_2 = apriori(transactions_list, minSup = 0.3, minConf = 0.6)\n",
        "\n",
        "rules_2"
      ],
      "metadata": {
        "id": "Sq7ubYzB6XZ2",
        "colab": {
          "base_uri": "https://localhost:8080/"
        },
        "outputId": "2f0f3459-41b8-4301-9291-b718ad9725a2"
      },
      "execution_count": null,
      "outputs": [
        {
          "output_type": "execute_result",
          "data": {
            "text/plain": [
              "[[{'Ручка'}, {'Линейка'}, 0.6363636363636364],\n",
              " [{'Листыбумаги'}, {'Пенал'}, 0.6428571428571429],\n",
              " [{'Листыбумаги'}, {'Ручка'}, 0.6428571428571429],\n",
              " [{'Пенал'}, {'Клей'}, 0.6666666666666666],\n",
              " [{'Листыбумаги', 'Пенал'}, {'Клей'}, 0.6666666666666666],\n",
              " [{'Листыбумаги', 'Ручка'}, {'Линейка'}, 0.6666666666666666],\n",
              " [{'Листыбумаги', 'Ручка'}, {'Пенал'}, 0.6666666666666666],\n",
              " [{'Листыбумаги', 'Пенал'}, {'Ручка'}, 0.6666666666666666],\n",
              " [{'Листыбумаги', 'Ручка'}, {'Клей'}, 0.6666666666666666],\n",
              " [{'Листыбумаги', 'Ручка'}, {'Карандаш'}, 0.6666666666666666],\n",
              " [{'Клей'}, {'Листыбумаги'}, 0.7],\n",
              " [{'Карандаш'}, {'Листыбумаги'}, 0.7142857142857143],\n",
              " [{'Листыбумаги'}, {'Карандаш'}, 0.7142857142857143],\n",
              " [{'Ручка'}, {'Карандаш'}, 0.7272727272727273],\n",
              " [{'Пенал'}, {'Листыбумаги'}, 0.75],\n",
              " [{'Линейка'}, {'Пенал'}, 0.75],\n",
              " [{'Линейка'}, {'Карандаш'}, 0.75],\n",
              " [{'Линейка'}, {'Листыбумаги'}, 0.75],\n",
              " [{'Клей', 'Пенал'}, {'Листыбумаги'}, 0.75],\n",
              " [{'Линейка'}, {'Листыбумаги', 'Ручка'}, 0.75],\n",
              " [{'Карандаш', 'Ручка'}, {'Листыбумаги'}, 0.75],\n",
              " [{'Клей'}, {'Пенал'}, 0.8],\n",
              " [{'Ручка'}, {'Листыбумаги'}, 0.8181818181818182],\n",
              " [{'Ластик'}, {'Карандаш'}, 0.8571428571428571],\n",
              " [{'Клей', 'Листыбумаги'}, {'Пенал'}, 0.8571428571428571],\n",
              " [{'Линейка', 'Ручка'}, {'Листыбумаги'}, 0.8571428571428571],\n",
              " [{'Клей', 'Листыбумаги'}, {'Ручка'}, 0.8571428571428571],\n",
              " [{'Линейка'}, {'Ручка'}, 0.875],\n",
              " [{'Линейка', 'Листыбумаги'}, {'Ручка'}, 1.0],\n",
              " [{'Пенал', 'Ручка'}, {'Листыбумаги'}, 1.0],\n",
              " [{'Клей', 'Ручка'}, {'Листыбумаги'}, 1.0]]"
            ]
          },
          "metadata": {},
          "execution_count": 12
        }
      ]
    },
    {
      "cell_type": "code",
      "source": [
        "freqItemSet_2"
      ],
      "metadata": {
        "id": "T42371Fu6YxT",
        "colab": {
          "base_uri": "https://localhost:8080/"
        },
        "outputId": "e19394dd-ff8f-45cb-a0e9-b275e74aa5cb"
      },
      "execution_count": null,
      "outputs": [
        {
          "output_type": "execute_result",
          "data": {
            "text/plain": [
              "{1: {frozenset({'Листыбумаги'}),\n",
              "  frozenset({'Ластик'}),\n",
              "  frozenset({'Ручка'}),\n",
              "  frozenset({'Линейка'}),\n",
              "  frozenset({'Клей'}),\n",
              "  frozenset({'Карандаш'}),\n",
              "  frozenset({'Пенал'})},\n",
              " 2: {frozenset({'Карандаш', 'Ручка'}),\n",
              "  frozenset({'Пенал', 'Ручка'}),\n",
              "  frozenset({'Карандаш', 'Ластик'}),\n",
              "  frozenset({'Карандаш', 'Листыбумаги'}),\n",
              "  frozenset({'Листыбумаги', 'Пенал'}),\n",
              "  frozenset({'Карандаш', 'Пенал'}),\n",
              "  frozenset({'Клей', 'Пенал'}),\n",
              "  frozenset({'Карандаш', 'Клей'}),\n",
              "  frozenset({'Листыбумаги', 'Ручка'}),\n",
              "  frozenset({'Клей', 'Листыбумаги'}),\n",
              "  frozenset({'Линейка', 'Пенал'}),\n",
              "  frozenset({'Клей', 'Ручка'}),\n",
              "  frozenset({'Карандаш', 'Линейка'}),\n",
              "  frozenset({'Линейка', 'Листыбумаги'}),\n",
              "  frozenset({'Линейка', 'Ручка'})},\n",
              " 3: {frozenset({'Клей', 'Листыбумаги', 'Пенал'}),\n",
              "  frozenset({'Линейка', 'Листыбумаги', 'Ручка'}),\n",
              "  frozenset({'Листыбумаги', 'Пенал', 'Ручка'}),\n",
              "  frozenset({'Клей', 'Листыбумаги', 'Ручка'}),\n",
              "  frozenset({'Карандаш', 'Листыбумаги', 'Ручка'})}}"
            ]
          },
          "metadata": {},
          "execution_count": 13
        }
      ]
    },
    {
      "cell_type": "markdown",
      "source": [
        "# Efficient apriory"
      ],
      "metadata": {
        "id": "vwQe0fXX8cwa"
      }
    },
    {
      "cell_type": "code",
      "source": [
        "freqItemSet_ef1, rules_ef1 = apriori_ef(transactions_list, min_support = 0.3, min_confidence= 0.79)\n",
        "\n",
        "rules_ef1"
      ],
      "metadata": {
        "id": "uMgxGSyg7Ns9",
        "colab": {
          "base_uri": "https://localhost:8080/"
        },
        "outputId": "c48eef02-e910-4d26-9a3b-605a1679bae2"
      },
      "execution_count": null,
      "outputs": [
        {
          "output_type": "execute_result",
          "data": {
            "text/plain": [
              "[{Ластик} -> {Карандаш},\n",
              " {Клей} -> {Пенал},\n",
              " {Линейка} -> {Ручка},\n",
              " {Ручка} -> {Листыбумаги},\n",
              " {Клей, Листыбумаги} -> {Пенал},\n",
              " {Клей, Ручка} -> {Листыбумаги},\n",
              " {Клей, Листыбумаги} -> {Ручка},\n",
              " {Линейка, Ручка} -> {Листыбумаги},\n",
              " {Линейка, Листыбумаги} -> {Ручка},\n",
              " {Пенал, Ручка} -> {Листыбумаги}]"
            ]
          },
          "metadata": {},
          "execution_count": 15
        }
      ]
    },
    {
      "cell_type": "code",
      "source": [
        "freqItemSet_ef1"
      ],
      "metadata": {
        "id": "_bwUhZiO7Xxh",
        "colab": {
          "base_uri": "https://localhost:8080/"
        },
        "outputId": "7b8643a1-6d9b-482d-9621-8d1494eb0b27"
      },
      "execution_count": null,
      "outputs": [
        {
          "output_type": "execute_result",
          "data": {
            "text/plain": [
              "{1: {('Карандаш',): 14,\n",
              "  ('Ручка',): 11,\n",
              "  ('Листыбумаги',): 14,\n",
              "  ('Клей',): 10,\n",
              "  ('Линейка',): 8,\n",
              "  ('Пенал',): 12,\n",
              "  ('Ластик',): 7},\n",
              " 2: {('Карандаш', 'Клей'): 6,\n",
              "  ('Карандаш', 'Ластик'): 6,\n",
              "  ('Карандаш', 'Линейка'): 6,\n",
              "  ('Карандаш', 'Листыбумаги'): 10,\n",
              "  ('Карандаш', 'Пенал'): 7,\n",
              "  ('Карандаш', 'Ручка'): 8,\n",
              "  ('Клей', 'Листыбумаги'): 7,\n",
              "  ('Клей', 'Пенал'): 8,\n",
              "  ('Клей', 'Ручка'): 6,\n",
              "  ('Линейка', 'Листыбумаги'): 6,\n",
              "  ('Линейка', 'Пенал'): 6,\n",
              "  ('Линейка', 'Ручка'): 7,\n",
              "  ('Листыбумаги', 'Пенал'): 9,\n",
              "  ('Листыбумаги', 'Ручка'): 9,\n",
              "  ('Пенал', 'Ручка'): 6},\n",
              " 3: {('Карандаш', 'Листыбумаги', 'Ручка'): 6,\n",
              "  ('Клей', 'Листыбумаги', 'Пенал'): 6,\n",
              "  ('Клей', 'Листыбумаги', 'Ручка'): 6,\n",
              "  ('Линейка', 'Листыбумаги', 'Ручка'): 6,\n",
              "  ('Листыбумаги', 'Пенал', 'Ручка'): 6}}"
            ]
          },
          "metadata": {},
          "execution_count": 16
        }
      ]
    },
    {
      "cell_type": "code",
      "source": [
        "freqItemSet_ef2, rules_ef2 = apriori_ef(transactions_list, min_support = 0.3, min_confidence = 0.6)\n",
        "\n",
        "rules_ef2"
      ],
      "metadata": {
        "id": "Aorim2xz7ZSl",
        "colab": {
          "base_uri": "https://localhost:8080/"
        },
        "outputId": "cd3bddfd-9297-4dde-e95d-b5e8a7c1d721"
      },
      "execution_count": null,
      "outputs": [
        {
          "output_type": "execute_result",
          "data": {
            "text/plain": [
              "[{Клей} -> {Карандаш},\n",
              " {Ластик} -> {Карандаш},\n",
              " {Линейка} -> {Карандаш},\n",
              " {Листыбумаги} -> {Карандаш},\n",
              " {Карандаш} -> {Листыбумаги},\n",
              " {Ручка} -> {Карандаш},\n",
              " {Клей} -> {Листыбумаги},\n",
              " {Пенал} -> {Клей},\n",
              " {Клей} -> {Пенал},\n",
              " {Клей} -> {Ручка},\n",
              " {Линейка} -> {Листыбумаги},\n",
              " {Линейка} -> {Пенал},\n",
              " {Ручка} -> {Линейка},\n",
              " {Линейка} -> {Ручка},\n",
              " {Пенал} -> {Листыбумаги},\n",
              " {Листыбумаги} -> {Пенал},\n",
              " {Ручка} -> {Листыбумаги},\n",
              " {Листыбумаги} -> {Ручка},\n",
              " {Листыбумаги, Ручка} -> {Карандаш},\n",
              " {Карандаш, Ручка} -> {Листыбумаги},\n",
              " {Карандаш, Листыбумаги} -> {Ручка},\n",
              " {Листыбумаги, Пенал} -> {Клей},\n",
              " {Клей, Пенал} -> {Листыбумаги},\n",
              " {Клей, Листыбумаги} -> {Пенал},\n",
              " {Клей} -> {Листыбумаги, Пенал},\n",
              " {Листыбумаги, Ручка} -> {Клей},\n",
              " {Клей, Ручка} -> {Листыбумаги},\n",
              " {Клей, Листыбумаги} -> {Ручка},\n",
              " {Клей} -> {Листыбумаги, Ручка},\n",
              " {Листыбумаги, Ручка} -> {Линейка},\n",
              " {Линейка, Ручка} -> {Листыбумаги},\n",
              " {Линейка, Листыбумаги} -> {Ручка},\n",
              " {Линейка} -> {Листыбумаги, Ручка},\n",
              " {Пенал, Ручка} -> {Листыбумаги},\n",
              " {Листыбумаги, Ручка} -> {Пенал},\n",
              " {Листыбумаги, Пенал} -> {Ручка}]"
            ]
          },
          "metadata": {},
          "execution_count": 17
        }
      ]
    },
    {
      "cell_type": "code",
      "source": [
        "freqItemSet_ef2"
      ],
      "metadata": {
        "id": "J71ptvnL7o1O",
        "colab": {
          "base_uri": "https://localhost:8080/"
        },
        "outputId": "f9aab9bc-b61d-4a5e-bf5f-dbb9330f124d"
      },
      "execution_count": null,
      "outputs": [
        {
          "output_type": "execute_result",
          "data": {
            "text/plain": [
              "{1: {('Карандаш',): 14,\n",
              "  ('Ручка',): 11,\n",
              "  ('Листыбумаги',): 14,\n",
              "  ('Клей',): 10,\n",
              "  ('Линейка',): 8,\n",
              "  ('Пенал',): 12,\n",
              "  ('Ластик',): 7},\n",
              " 2: {('Карандаш', 'Клей'): 6,\n",
              "  ('Карандаш', 'Ластик'): 6,\n",
              "  ('Карандаш', 'Линейка'): 6,\n",
              "  ('Карандаш', 'Листыбумаги'): 10,\n",
              "  ('Карандаш', 'Пенал'): 7,\n",
              "  ('Карандаш', 'Ручка'): 8,\n",
              "  ('Клей', 'Листыбумаги'): 7,\n",
              "  ('Клей', 'Пенал'): 8,\n",
              "  ('Клей', 'Ручка'): 6,\n",
              "  ('Линейка', 'Листыбумаги'): 6,\n",
              "  ('Линейка', 'Пенал'): 6,\n",
              "  ('Линейка', 'Ручка'): 7,\n",
              "  ('Листыбумаги', 'Пенал'): 9,\n",
              "  ('Листыбумаги', 'Ручка'): 9,\n",
              "  ('Пенал', 'Ручка'): 6},\n",
              " 3: {('Карандаш', 'Листыбумаги', 'Ручка'): 6,\n",
              "  ('Клей', 'Листыбумаги', 'Пенал'): 6,\n",
              "  ('Клей', 'Листыбумаги', 'Ручка'): 6,\n",
              "  ('Линейка', 'Листыбумаги', 'Ручка'): 6,\n",
              "  ('Листыбумаги', 'Пенал', 'Ручка'): 6}}"
            ]
          },
          "metadata": {},
          "execution_count": 18
        }
      ]
    },
    {
      "cell_type": "markdown",
      "source": [
        "# FPGrowth"
      ],
      "metadata": {
        "id": "5yzYtyBa8_yc"
      }
    },
    {
      "cell_type": "code",
      "source": [
        "freqItemSet_ef1, rules_ef1 = fpgrowth(transactions_list, minSupRatio = 0.3, minConf = 0.79)\n",
        "\n",
        "rules_ef1"
      ],
      "metadata": {
        "id": "8F0R_Q-a8_O0",
        "colab": {
          "base_uri": "https://localhost:8080/"
        },
        "outputId": "a2506de9-b025-4050-87ee-8471ea08c5ff"
      },
      "execution_count": null,
      "outputs": [
        {
          "output_type": "execute_result",
          "data": {
            "text/plain": [
              "[[{'Ластик'}, {'Карандаш'}, 0.8571428571428571],\n",
              " [{'Линейка', 'Ручка'}, {'Листыбумаги'}, 0.8571428571428571],\n",
              " [{'Линейка', 'Листыбумаги'}, {'Ручка'}, 1.0],\n",
              " [{'Линейка'}, {'Ручка'}, 0.875],\n",
              " [{'Клей', 'Ручка'}, {'Листыбумаги'}, 1.0],\n",
              " [{'Клей', 'Листыбумаги'}, {'Ручка'}, 0.8571428571428571],\n",
              " [{'Клей', 'Листыбумаги'}, {'Пенал'}, 0.8571428571428571],\n",
              " [{'Клей'}, {'Пенал'}, 0.8],\n",
              " [{'Пенал', 'Ручка'}, {'Листыбумаги'}, 1.0],\n",
              " [{'Ручка'}, {'Листыбумаги'}, 0.8181818181818182]]"
            ]
          },
          "metadata": {},
          "execution_count": 21
        }
      ]
    },
    {
      "cell_type": "code",
      "source": [
        "freqItemSet_ef1"
      ],
      "metadata": {
        "id": "jm0RampWjCVU",
        "colab": {
          "base_uri": "https://localhost:8080/"
        },
        "outputId": "944d384b-7d4f-48a1-eb19-adb51bf173aa"
      },
      "execution_count": null,
      "outputs": [
        {
          "output_type": "execute_result",
          "data": {
            "text/plain": [
              "[{'Ластик'},\n",
              " {'Карандаш', 'Ластик'},\n",
              " {'Линейка'},\n",
              " {'Линейка', 'Пенал'},\n",
              " {'Линейка', 'Листыбумаги'},\n",
              " {'Линейка', 'Листыбумаги', 'Ручка'},\n",
              " {'Карандаш', 'Линейка'},\n",
              " {'Линейка', 'Ручка'},\n",
              " {'Клей'},\n",
              " {'Клей', 'Ручка'},\n",
              " {'Клей', 'Листыбумаги', 'Ручка'},\n",
              " {'Карандаш', 'Клей'},\n",
              " {'Клей', 'Листыбумаги'},\n",
              " {'Клей', 'Листыбумаги', 'Пенал'},\n",
              " {'Клей', 'Пенал'},\n",
              " {'Ручка'},\n",
              " {'Пенал', 'Ручка'},\n",
              " {'Листыбумаги', 'Пенал', 'Ручка'},\n",
              " {'Карандаш', 'Ручка'},\n",
              " {'Карандаш', 'Листыбумаги', 'Ручка'},\n",
              " {'Листыбумаги', 'Ручка'},\n",
              " {'Пенал'},\n",
              " {'Карандаш', 'Пенал'},\n",
              " {'Листыбумаги', 'Пенал'},\n",
              " {'Карандаш'},\n",
              " {'Листыбумаги'},\n",
              " {'Карандаш', 'Листыбумаги'}]"
            ]
          },
          "metadata": {},
          "execution_count": 22
        }
      ]
    },
    {
      "cell_type": "code",
      "source": [
        "freqItemSet_ef2, rules_ef2 = fpgrowth(transactions_list, minSupRatio = 0.3, minConf = 0.6)\n",
        "\n",
        "rules_ef2"
      ],
      "metadata": {
        "id": "zLh_0PnlMCuu",
        "colab": {
          "base_uri": "https://localhost:8080/"
        },
        "outputId": "52c9b82e-82b3-4815-a0ff-aaa64b3ddc71"
      },
      "execution_count": null,
      "outputs": [
        {
          "output_type": "execute_result",
          "data": {
            "text/plain": [
              "[[{'Ластик'}, {'Карандаш'}, 0.8571428571428571],\n",
              " [{'Линейка'}, {'Пенал'}, 0.75],\n",
              " [{'Линейка'}, {'Листыбумаги'}, 0.75],\n",
              " [{'Линейка'}, {'Листыбумаги', 'Ручка'}, 0.75],\n",
              " [{'Линейка', 'Ручка'}, {'Листыбумаги'}, 0.8571428571428571],\n",
              " [{'Листыбумаги', 'Ручка'}, {'Линейка'}, 0.6666666666666666],\n",
              " [{'Линейка', 'Листыбумаги'}, {'Ручка'}, 1.0],\n",
              " [{'Линейка'}, {'Карандаш'}, 0.75],\n",
              " [{'Ручка'}, {'Линейка'}, 0.6363636363636364],\n",
              " [{'Линейка'}, {'Ручка'}, 0.875],\n",
              " [{'Клей', 'Ручка'}, {'Листыбумаги'}, 1.0],\n",
              " [{'Листыбумаги', 'Ручка'}, {'Клей'}, 0.6666666666666666],\n",
              " [{'Клей', 'Листыбумаги'}, {'Ручка'}, 0.8571428571428571],\n",
              " [{'Клей'}, {'Листыбумаги'}, 0.7],\n",
              " [{'Клей', 'Пенал'}, {'Листыбумаги'}, 0.75],\n",
              " [{'Листыбумаги', 'Пенал'}, {'Клей'}, 0.6666666666666666],\n",
              " [{'Клей', 'Листыбумаги'}, {'Пенал'}, 0.8571428571428571],\n",
              " [{'Пенал'}, {'Клей'}, 0.6666666666666666],\n",
              " [{'Клей'}, {'Пенал'}, 0.8],\n",
              " [{'Пенал', 'Ручка'}, {'Листыбумаги'}, 1.0],\n",
              " [{'Листыбумаги', 'Ручка'}, {'Пенал'}, 0.6666666666666666],\n",
              " [{'Листыбумаги', 'Пенал'}, {'Ручка'}, 0.6666666666666666],\n",
              " [{'Ручка'}, {'Карандаш'}, 0.7272727272727273],\n",
              " [{'Карандаш', 'Ручка'}, {'Листыбумаги'}, 0.75],\n",
              " [{'Листыбумаги', 'Ручка'}, {'Карандаш'}, 0.6666666666666666],\n",
              " [{'Ручка'}, {'Листыбумаги'}, 0.8181818181818182],\n",
              " [{'Листыбумаги'}, {'Ручка'}, 0.6428571428571429],\n",
              " [{'Пенал'}, {'Листыбумаги'}, 0.75],\n",
              " [{'Листыбумаги'}, {'Пенал'}, 0.6428571428571429],\n",
              " [{'Карандаш'}, {'Листыбумаги'}, 0.7142857142857143],\n",
              " [{'Листыбумаги'}, {'Карандаш'}, 0.7142857142857143]]"
            ]
          },
          "metadata": {},
          "execution_count": 23
        }
      ]
    },
    {
      "cell_type": "code",
      "source": [
        "freqItemSet_ef2"
      ],
      "metadata": {
        "id": "obdxeqgLjFsG",
        "colab": {
          "base_uri": "https://localhost:8080/"
        },
        "outputId": "52e6ed6d-145d-40f0-f34a-81005ce80f11"
      },
      "execution_count": null,
      "outputs": [
        {
          "output_type": "execute_result",
          "data": {
            "text/plain": [
              "[{'Ластик'},\n",
              " {'Карандаш', 'Ластик'},\n",
              " {'Линейка'},\n",
              " {'Линейка', 'Пенал'},\n",
              " {'Линейка', 'Листыбумаги'},\n",
              " {'Линейка', 'Листыбумаги', 'Ручка'},\n",
              " {'Карандаш', 'Линейка'},\n",
              " {'Линейка', 'Ручка'},\n",
              " {'Клей'},\n",
              " {'Клей', 'Ручка'},\n",
              " {'Клей', 'Листыбумаги', 'Ручка'},\n",
              " {'Карандаш', 'Клей'},\n",
              " {'Клей', 'Листыбумаги'},\n",
              " {'Клей', 'Листыбумаги', 'Пенал'},\n",
              " {'Клей', 'Пенал'},\n",
              " {'Ручка'},\n",
              " {'Пенал', 'Ручка'},\n",
              " {'Листыбумаги', 'Пенал', 'Ручка'},\n",
              " {'Карандаш', 'Ручка'},\n",
              " {'Карандаш', 'Листыбумаги', 'Ручка'},\n",
              " {'Листыбумаги', 'Ручка'},\n",
              " {'Пенал'},\n",
              " {'Карандаш', 'Пенал'},\n",
              " {'Листыбумаги', 'Пенал'},\n",
              " {'Карандаш'},\n",
              " {'Листыбумаги'},\n",
              " {'Карандаш', 'Листыбумаги'}]"
            ]
          },
          "metadata": {},
          "execution_count": 24
        }
      ]
    },
    {
      "cell_type": "markdown",
      "source": [
        "#2nd data"
      ],
      "metadata": {
        "id": "vStKu3wfyd4F"
      }
    },
    {
      "cell_type": "code",
      "source": [
        "transactions_big = pd.read_csv('BreadBasket_DMS.csv').groupby('Transaction').agg(lambda x: list(x)).Item.to_list()"
      ],
      "metadata": {
        "id": "hXHlKC3_ygcS"
      },
      "execution_count": null,
      "outputs": []
    },
    {
      "cell_type": "markdown",
      "source": [
        "#Apriori"
      ],
      "metadata": {
        "id": "xoMh27Wc8On3"
      }
    },
    {
      "cell_type": "code",
      "source": [
        "start = time.time()\n",
        "freqItemSet_big_a1, rules_big_a1 = apriori(transactions_big, minSup = 0.03, minConf = 0.1)\n",
        "end = time.time()\n",
        "\n",
        "print(f'Время: {end - start}')\n"
      ],
      "metadata": {
        "id": "Y82v9WLB5nBl",
        "colab": {
          "base_uri": "https://localhost:8080/"
        },
        "outputId": "5f9d0eea-fe07-463c-f04f-6cb84acb10f0"
      },
      "execution_count": null,
      "outputs": [
        {
          "output_type": "stream",
          "name": "stdout",
          "text": [
            "Время: 0.8073463439941406\n"
          ]
        }
      ]
    },
    {
      "cell_type": "code",
      "source": [
        "rules_big_a1"
      ],
      "metadata": {
        "id": "T7gYp6I259G7",
        "colab": {
          "base_uri": "https://localhost:8080/"
        },
        "outputId": "52c1274b-ea95-45ab-b408-739b5fb51f40"
      },
      "execution_count": null,
      "outputs": [
        {
          "output_type": "execute_result",
          "data": {
            "text/plain": [
              "[[{'Coffee'}, {'Tea'}, 0.10424028268551237],\n",
              " [{'Coffee'}, {'Cake'}, 0.11439929328621908],\n",
              " [{'Coffee'}, {'Bread'}, 0.1881625441696113],\n",
              " [{'Bread'}, {'Coffee'}, 0.27510494026477234],\n",
              " [{'Tea'}, {'Coffee'}, 0.3496296296296296],\n",
              " [{'Cake'}, {'Coffee'}, 0.5269582909460834],\n",
              " [{'Sandwich'}, {'Coffee'}, 0.5323529411764706],\n",
              " [{'NONE'}, {'Coffee'}, 0.5325365205843293],\n",
              " [{'Pastry'}, {'Coffee'}, 0.5521472392638037],\n",
              " [{'Medialuna'}, {'Coffee'}, 0.5692307692307692]]"
            ]
          },
          "metadata": {},
          "execution_count": 29
        }
      ]
    },
    {
      "cell_type": "code",
      "source": [
        "freqItemSet_big_a1"
      ],
      "metadata": {
        "id": "3D42fPen795d",
        "colab": {
          "base_uri": "https://localhost:8080/"
        },
        "outputId": "a751a06f-8294-407b-cfc0-61813487b4d4"
      },
      "execution_count": null,
      "outputs": [
        {
          "output_type": "execute_result",
          "data": {
            "text/plain": [
              "{1: {frozenset({'Alfajores'}),\n",
              "  frozenset({'Coffee'}),\n",
              "  frozenset({'Cookies'}),\n",
              "  frozenset({'NONE'}),\n",
              "  frozenset({'Toast'}),\n",
              "  frozenset({'Sandwich'}),\n",
              "  frozenset({'Medialuna'}),\n",
              "  frozenset({'Brownie'}),\n",
              "  frozenset({'Pastry'}),\n",
              "  frozenset({'Muffin'}),\n",
              "  frozenset({'Juice'}),\n",
              "  frozenset({'Farm House'}),\n",
              "  frozenset({'Scone'}),\n",
              "  frozenset({'Hot chocolate'}),\n",
              "  frozenset({'Tea'}),\n",
              "  frozenset({'Soup'}),\n",
              "  frozenset({'Bread'}),\n",
              "  frozenset({'Cake'})},\n",
              " 2: {frozenset({'Coffee', 'Tea'}),\n",
              "  frozenset({'Coffee', 'NONE'}),\n",
              "  frozenset({'Bread', 'Coffee'}),\n",
              "  frozenset({'Cake', 'Coffee'}),\n",
              "  frozenset({'Coffee', 'Sandwich'}),\n",
              "  frozenset({'Coffee', 'Medialuna'}),\n",
              "  frozenset({'Coffee', 'Pastry'})}}"
            ]
          },
          "metadata": {},
          "execution_count": 30
        }
      ]
    },
    {
      "cell_type": "markdown",
      "source": [
        "#Efficient apriori"
      ],
      "metadata": {
        "id": "lrBTszJl8UWH"
      }
    },
    {
      "cell_type": "code",
      "source": [
        "start = time.time()\n",
        "\n",
        "freqItemSet_big_ef1, rules_big_ef1 = apriori_ef(transactions_big, min_support = 0.03, min_confidence= 0.1)\n",
        "\n",
        "end = time.time()\n",
        "\n",
        "print(f'Время: {end - start}')\n",
        "\n",
        "rules_big_ef1"
      ],
      "metadata": {
        "id": "oD5uhmtr8TX-",
        "colab": {
          "base_uri": "https://localhost:8080/"
        },
        "outputId": "585eea00-9fcf-45fd-9021-631c4d1deded"
      },
      "execution_count": null,
      "outputs": [
        {
          "output_type": "stream",
          "name": "stdout",
          "text": [
            "Время: 0.02185654640197754\n"
          ]
        },
        {
          "output_type": "execute_result",
          "data": {
            "text/plain": [
              "[{Coffee} -> {Bread},\n",
              " {Bread} -> {Coffee},\n",
              " {Coffee} -> {Cake},\n",
              " {Cake} -> {Coffee},\n",
              " {Medialuna} -> {Coffee},\n",
              " {NONE} -> {Coffee},\n",
              " {Pastry} -> {Coffee},\n",
              " {Sandwich} -> {Coffee},\n",
              " {Tea} -> {Coffee},\n",
              " {Coffee} -> {Tea}]"
            ]
          },
          "metadata": {},
          "execution_count": 31
        }
      ]
    },
    {
      "cell_type": "code",
      "source": [
        "freqItemSet_big_ef1"
      ],
      "metadata": {
        "id": "3TKev6Gr9M7P",
        "colab": {
          "base_uri": "https://localhost:8080/"
        },
        "outputId": "f69b0db0-303b-44fc-f2bf-cabd60d14120"
      },
      "execution_count": null,
      "outputs": [
        {
          "output_type": "execute_result",
          "data": {
            "text/plain": [
              "{1: {('Bread',): 3097,\n",
              "  ('Hot chocolate',): 552,\n",
              "  ('Cookies',): 515,\n",
              "  ('Muffin',): 364,\n",
              "  ('Coffee',): 4528,\n",
              "  ('Pastry',): 815,\n",
              "  ('Medialuna',): 585,\n",
              "  ('Tea',): 1350,\n",
              "  ('NONE',): 753,\n",
              "  ('Farm House',): 371,\n",
              "  ('Juice',): 365,\n",
              "  ('Soup',): 326,\n",
              "  ('Cake',): 983,\n",
              "  ('Sandwich',): 680,\n",
              "  ('Alfajores',): 344,\n",
              "  ('Brownie',): 379,\n",
              "  ('Toast',): 318,\n",
              "  ('Scone',): 327},\n",
              " 2: {('Bread', 'Coffee'): 852,\n",
              "  ('Cake', 'Coffee'): 518,\n",
              "  ('Coffee', 'Medialuna'): 333,\n",
              "  ('Coffee', 'NONE'): 401,\n",
              "  ('Coffee', 'Pastry'): 450,\n",
              "  ('Coffee', 'Sandwich'): 362,\n",
              "  ('Coffee', 'Tea'): 472}}"
            ]
          },
          "metadata": {},
          "execution_count": 32
        }
      ]
    },
    {
      "cell_type": "markdown",
      "source": [
        "#FPGrowth"
      ],
      "metadata": {
        "id": "PZXMmlOX9VVf"
      }
    },
    {
      "cell_type": "code",
      "source": [
        "start = time.time()\n",
        "\n",
        "freqItemSet_big_fp1, rules_big_fp1 = fpgrowth(transactions_big, minSupRatio = 0.03, minConf = 0.1)\n",
        "\n",
        "end = time.time()\n",
        "\n",
        "print(f'Время: {end - start}')"
      ],
      "metadata": {
        "id": "GQf2rQ809Qe2",
        "colab": {
          "base_uri": "https://localhost:8080/"
        },
        "outputId": "432bce80-efc8-454b-aebd-7f59d7935df7"
      },
      "execution_count": null,
      "outputs": [
        {
          "output_type": "stream",
          "name": "stdout",
          "text": [
            "Время: 0.4042496681213379\n"
          ]
        }
      ]
    },
    {
      "cell_type": "code",
      "source": [
        "rules_big_fp1"
      ],
      "metadata": {
        "id": "U6JK7gVV9vhE",
        "colab": {
          "base_uri": "https://localhost:8080/"
        },
        "outputId": "cfd0bd76-919d-4c38-ee49-735397770acc"
      },
      "execution_count": null,
      "outputs": [
        {
          "output_type": "execute_result",
          "data": {
            "text/plain": [
              "[[{'Toast'}, {'Coffee'}, 0.7044025157232704],\n",
              " [{'Cookies'}, {'Coffee'}, 0.5184466019417475],\n",
              " [{'Hot chocolate'}, {'Coffee'}, 0.5072463768115942],\n",
              " [{'Medialuna'}, {'Coffee'}, 0.5692307692307692],\n",
              " [{'Sandwich'}, {'Coffee'}, 0.5323529411764706],\n",
              " [{'NONE'}, {'Coffee'}, 0.5325365205843293],\n",
              " [{'Pastry'}, {'Bread'}, 0.33865030674846625],\n",
              " [{'Pastry'}, {'Coffee'}, 0.5521472392638037],\n",
              " [{'Cake'}, {'Coffee'}, 0.5269582909460834],\n",
              " [{'Coffee'}, {'Cake'}, 0.11439929328621908],\n",
              " [{'Tea'}, {'Bread'}, 0.19703703703703704],\n",
              " [{'Tea'}, {'Coffee'}, 0.3496296296296296],\n",
              " [{'Coffee'}, {'Tea'}, 0.10424028268551237],\n",
              " [{'Coffee'}, {'Bread'}, 0.1881625441696113],\n",
              " [{'Bread'}, {'Coffee'}, 0.27510494026477234]]"
            ]
          },
          "metadata": {},
          "execution_count": 34
        }
      ]
    },
    {
      "cell_type": "code",
      "source": [
        "freqItemSet_big_fp1"
      ],
      "metadata": {
        "id": "Babefd4C99HT",
        "colab": {
          "base_uri": "https://localhost:8080/"
        },
        "outputId": "a5d1f106-5c8e-4902-facd-b65c1a025834"
      },
      "execution_count": null,
      "outputs": [
        {
          "output_type": "execute_result",
          "data": {
            "text/plain": [
              "[{'Toast'},\n",
              " {'Coffee', 'Toast'},\n",
              " {'Scone'},\n",
              " {'Soup'},\n",
              " {'Juice'},\n",
              " {'Alfajores'},\n",
              " {'Muffin'},\n",
              " {'Farm House'},\n",
              " {'Brownie'},\n",
              " {'Cookies'},\n",
              " {'Coffee', 'Cookies'},\n",
              " {'Hot chocolate'},\n",
              " {'Coffee', 'Hot chocolate'},\n",
              " {'Medialuna'},\n",
              " {'Coffee', 'Medialuna'},\n",
              " {'Sandwich'},\n",
              " {'Coffee', 'Sandwich'},\n",
              " {'NONE'},\n",
              " {'Coffee', 'NONE'},\n",
              " {'Pastry'},\n",
              " {'Bread', 'Pastry'},\n",
              " {'Coffee', 'Pastry'},\n",
              " {'Cake'},\n",
              " {'Cake', 'Coffee'},\n",
              " {'Tea'},\n",
              " {'Bread', 'Tea'},\n",
              " {'Coffee', 'Tea'},\n",
              " {'Bread'},\n",
              " {'Bread', 'Coffee'},\n",
              " {'Coffee'},\n",
              " {'Coffee'}]"
            ]
          },
          "metadata": {},
          "execution_count": 35
        }
      ]
    }
  ]
}